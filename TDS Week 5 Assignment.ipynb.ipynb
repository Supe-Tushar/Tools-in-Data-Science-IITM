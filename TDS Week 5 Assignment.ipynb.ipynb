{
 "cells": [
  {
   "cell_type": "code",
   "execution_count": null,
   "metadata": {},
   "outputs": [],
   "source": []
  },
  {
   "cell_type": "code",
   "execution_count": null,
   "metadata": {},
   "outputs": [],
   "source": []
  },
  {
   "cell_type": "code",
   "execution_count": 29,
   "metadata": {
    "id": "oc5gO9sbDBf-"
   },
   "outputs": [],
   "source": [
    "import pandas as pd\n",
    "import numpy as np\n",
    "from textblob import TextBlob\n",
    "from sklearn.metrics import classification_report\n",
    "\n",
    "import folium\n",
    "from geopy.geocoders import Nominatim\n",
    "import geopy.distance\n",
    "from geopy.distance import great_circle as GRC\n",
    "from geopy.distance import geodesic as GD\n",
    "\n",
    "import os\n",
    "import geopandas\n",
    "import requests\n",
    "import pyproj"
   ]
  },
  {
   "cell_type": "markdown",
   "metadata": {},
   "source": [
    "# Sentiment analysis"
   ]
  },
  {
   "cell_type": "code",
   "execution_count": 6,
   "metadata": {},
   "outputs": [],
   "source": [
    "def get_polarity_and_subjectivity(s):\n",
    "    pol = TextBlob(s).sentiment.polarity\n",
    "    sub = TextBlob(s).sentiment.subjectivity\n",
    "    print(f\"Polarity: {pol}\\nSubjectivity: {sub}\")"
   ]
  },
  {
   "cell_type": "code",
   "execution_count": 16,
   "metadata": {},
   "outputs": [],
   "source": [
    "## if polarity < 0 --> negative else positive"
   ]
  },
  {
   "cell_type": "code",
   "execution_count": 7,
   "metadata": {
    "colab": {
     "base_uri": "https://localhost:8080/",
     "height": 36
    },
    "id": "iwL9VUs1EpWz",
    "outputId": "48e0614a-05a9-4883-c7a3-e42f6a757157"
   },
   "outputs": [
    {
     "name": "stdout",
     "output_type": "stream",
     "text": [
      "Polarity: 0.0\n",
      "Subjectivity: 1.0\n"
     ]
    }
   ],
   "source": [
    "s = \"it was hours ago i came in.... and it`s only now i realised when i went to buy something online\"\n",
    "get_polarity_and_subjectivity(s)"
   ]
  },
  {
   "cell_type": "code",
   "execution_count": 9,
   "metadata": {
    "colab": {
     "base_uri": "https://localhost:8080/"
    },
    "id": "PNHvA145DBmN",
    "outputId": "c6d3ea1d-13f2-4d00-9df7-6cbdfb9ed6a4"
   },
   "outputs": [
    {
     "name": "stdout",
     "output_type": "stream",
     "text": [
      "Polarity: 0.2\n",
      "Subjectivity: 0.6\n"
     ]
    }
   ],
   "source": [
    "s = \"as much as i love to be hopeful, i reckon the chances are minimal =P i`m never gonna get my cake and stuff\"\n",
    "get_polarity_and_subjectivity(s)"
   ]
  },
  {
   "cell_type": "code",
   "execution_count": 10,
   "metadata": {
    "colab": {
     "base_uri": "https://localhost:8080/"
    },
    "id": "7DUqqYnZkj4H",
    "outputId": "e8c49917-d038-453c-d70d-ee6ab0db5326"
   },
   "outputs": [
    {
     "name": "stdout",
     "output_type": "stream",
     "text": [
      "Polarity: 0.375\n",
      "Subjectivity: 0.75\n"
     ]
    }
   ],
   "source": [
    "s = \" you know you want to come keep me company whilst mum`s at her friends for the night it`s such a nice evening!\"\n",
    "get_polarity_and_subjectivity(s)"
   ]
  },
  {
   "cell_type": "code",
   "execution_count": null,
   "metadata": {},
   "outputs": [],
   "source": []
  },
  {
   "cell_type": "markdown",
   "metadata": {},
   "source": [
    "# Geospatial data"
   ]
  },
  {
   "cell_type": "markdown",
   "metadata": {
    "id": "RjIUH6AqfChd"
   },
   "source": [
    "Geospatial Analysis:\n",
    "\n",
    "The objective of this tutorial is to use geospatial analysis to make decisions about opening up new restaurants(or retail stores, bank branches, airports, etc). For our analysis, we use a dataset consisting of Starbucks and McDonalds store coordinates in New York.\n",
    "\n",
    "Our tutorial consists of the following steps:\n",
    "\n",
    "\n",
    "1.   Compute the distance of the stores\n",
    "2.   Visualize data on a map\n",
    "3.   Compute number of stores located in a given radius\n",
    "4.   Compute the closest and farthest stores from Empire State Building\n",
    "\n"
   ]
  },
  {
   "cell_type": "code",
   "execution_count": 31,
   "metadata": {
    "colab": {
     "base_uri": "https://localhost:8080/"
    },
    "id": "GyneCXkI9Grd",
    "outputId": "e3db2716-7b84-4644-9d9c-e2142148f178"
   },
   "outputs": [
    {
     "name": "stdout",
     "output_type": "stream",
     "text": [
      "Location address: Jamshedpur\n",
      "Latitude and Longitude of the said address:\n",
      "(22.8015194, 86.2029579)\n",
      "\n",
      "Location address: Kamarhati\n",
      "Latitude and Longitude of the said address:\n",
      "(22.6810246, 88.3715343)\n"
     ]
    },
    {
     "data": {
      "text/plain": [
       "223.14669071130305"
      ]
     },
     "execution_count": 31,
     "metadata": {},
     "output_type": "execute_result"
    }
   ],
   "source": [
    "geolocator = Nominatim(user_agent=\"geoapiExercises\")\n",
    "ladd1 = \"Jamshedpur\"\n",
    "print(\"Location address:\",ladd1)\n",
    "l1 = geolocator.geocode(ladd1)\n",
    "print(\"Latitude and Longitude of the said address:\")\n",
    "print((l1.latitude, l1.longitude))\n",
    "\n",
    "ladd2 = \"Kamarhati\"\n",
    "print(\"\\nLocation address:\",ladd2)\n",
    "location = geolocator.geocode(ladd2)\n",
    "print(\"Latitude and Longitude of the said address:\")\n",
    "print((location.latitude, location.longitude))\n",
    "\n",
    "geopy.distance.distance((l1.latitude, l1.longitude), (location.latitude, location.longitude)).km\n"
   ]
  },
  {
   "cell_type": "code",
   "execution_count": 32,
   "metadata": {
    "colab": {
     "base_uri": "https://localhost:8080/",
     "height": 363
    },
    "id": "EC4m1egJe8Hv",
    "outputId": "ba6f6bc3-ece6-4926-9e5f-2280f5bad321"
   },
   "outputs": [
    {
     "data": {
      "text/html": [
       "<div>\n",
       "<style scoped>\n",
       "    .dataframe tbody tr th:only-of-type {\n",
       "        vertical-align: middle;\n",
       "    }\n",
       "\n",
       "    .dataframe tbody tr th {\n",
       "        vertical-align: top;\n",
       "    }\n",
       "\n",
       "    .dataframe thead th {\n",
       "        text-align: right;\n",
       "    }\n",
       "</style>\n",
       "<table border=\"1\" class=\"dataframe\">\n",
       "  <thead>\n",
       "    <tr style=\"text-align: right;\">\n",
       "      <th></th>\n",
       "      <th>lat</th>\n",
       "      <th>lng</th>\n",
       "      <th>store</th>\n",
       "      <th>address</th>\n",
       "    </tr>\n",
       "  </thead>\n",
       "  <tbody>\n",
       "    <tr>\n",
       "      <th>0</th>\n",
       "      <td>40.711000</td>\n",
       "      <td>-74.000878</td>\n",
       "      <td>Starbucks</td>\n",
       "      <td>375 Pearl st, New York, NY 10038</td>\n",
       "    </tr>\n",
       "    <tr>\n",
       "      <th>1</th>\n",
       "      <td>40.707142</td>\n",
       "      <td>-74.004987</td>\n",
       "      <td>Starbucks</td>\n",
       "      <td>135 John Street, New York, NY 10038</td>\n",
       "    </tr>\n",
       "    <tr>\n",
       "      <th>2</th>\n",
       "      <td>40.708411</td>\n",
       "      <td>-74.007404</td>\n",
       "      <td>Starbucks</td>\n",
       "      <td>100 William Street, New York, NY 10038</td>\n",
       "    </tr>\n",
       "  </tbody>\n",
       "</table>\n",
       "</div>"
      ],
      "text/plain": [
       "         lat        lng      store                                 address\n",
       "0  40.711000 -74.000878  Starbucks        375 Pearl st, New York, NY 10038\n",
       "1  40.707142 -74.004987  Starbucks     135 John Street, New York, NY 10038\n",
       "2  40.708411 -74.007404  Starbucks  100 William Street, New York, NY 10038"
      ]
     },
     "execution_count": 32,
     "metadata": {},
     "output_type": "execute_result"
    }
   ],
   "source": [
    "#Read file containing location details\n",
    "df = pd.read_csv('https://drive.google.com/uc?id=19JERBe0ndadkMPKDFZ0rTEZqdI50zDfk')\n",
    "df.head(3)"
   ]
  },
  {
   "cell_type": "code",
   "execution_count": 33,
   "metadata": {
    "colab": {
     "base_uri": "https://localhost:8080/",
     "height": 363
    },
    "id": "pwO0243tmizb",
    "outputId": "e78aabe0-04a6-45f0-da55-a21c37493099"
   },
   "outputs": [
    {
     "data": {
      "text/html": [
       "<div>\n",
       "<style scoped>\n",
       "    .dataframe tbody tr th:only-of-type {\n",
       "        vertical-align: middle;\n",
       "    }\n",
       "\n",
       "    .dataframe tbody tr th {\n",
       "        vertical-align: top;\n",
       "    }\n",
       "\n",
       "    .dataframe thead th {\n",
       "        text-align: right;\n",
       "    }\n",
       "</style>\n",
       "<table border=\"1\" class=\"dataframe\">\n",
       "  <thead>\n",
       "    <tr style=\"text-align: right;\">\n",
       "      <th></th>\n",
       "      <th>lat</th>\n",
       "      <th>lng</th>\n",
       "      <th>store</th>\n",
       "      <th>address</th>\n",
       "      <th>Coordinate</th>\n",
       "    </tr>\n",
       "  </thead>\n",
       "  <tbody>\n",
       "    <tr>\n",
       "      <th>0</th>\n",
       "      <td>40.711000</td>\n",
       "      <td>-74.000878</td>\n",
       "      <td>Starbucks</td>\n",
       "      <td>375 Pearl st, New York, NY 10038</td>\n",
       "      <td>(40.711, -74.000878)</td>\n",
       "    </tr>\n",
       "    <tr>\n",
       "      <th>1</th>\n",
       "      <td>40.707142</td>\n",
       "      <td>-74.004987</td>\n",
       "      <td>Starbucks</td>\n",
       "      <td>135 John Street, New York, NY 10038</td>\n",
       "      <td>(40.707142, -74.004987)</td>\n",
       "    </tr>\n",
       "    <tr>\n",
       "      <th>2</th>\n",
       "      <td>40.708411</td>\n",
       "      <td>-74.007404</td>\n",
       "      <td>Starbucks</td>\n",
       "      <td>100 William Street, New York, NY 10038</td>\n",
       "      <td>(40.708411, -74.007404)</td>\n",
       "    </tr>\n",
       "  </tbody>\n",
       "</table>\n",
       "</div>"
      ],
      "text/plain": [
       "         lat        lng      store                                 address  \\\n",
       "0  40.711000 -74.000878  Starbucks        375 Pearl st, New York, NY 10038   \n",
       "1  40.707142 -74.004987  Starbucks     135 John Street, New York, NY 10038   \n",
       "2  40.708411 -74.007404  Starbucks  100 William Street, New York, NY 10038   \n",
       "\n",
       "                Coordinate  \n",
       "0     (40.711, -74.000878)  \n",
       "1  (40.707142, -74.004987)  \n",
       "2  (40.708411, -74.007404)  "
      ]
     },
     "execution_count": 33,
     "metadata": {},
     "output_type": "execute_result"
    }
   ],
   "source": [
    "#Merge Columns\n",
    "df['Coordinate'] = '('+df['lat'].astype(str) + ', ' + df['lng'].astype(str)+')'\n",
    "df.head(3)"
   ]
  },
  {
   "cell_type": "code",
   "execution_count": 39,
   "metadata": {},
   "outputs": [
    {
     "name": "stdout",
     "output_type": "stream",
     "text": [
      "<class 'pandas.core.frame.DataFrame'>\n",
      "RangeIndex: 288 entries, 0 to 287\n",
      "Data columns (total 5 columns):\n",
      " #   Column      Non-Null Count  Dtype  \n",
      "---  ------      --------------  -----  \n",
      " 0   lat         288 non-null    float64\n",
      " 1   lng         288 non-null    float64\n",
      " 2   store       288 non-null    object \n",
      " 3   address     288 non-null    object \n",
      " 4   Coordinate  288 non-null    object \n",
      "dtypes: float64(2), object(3)\n",
      "memory usage: 11.4+ KB\n"
     ]
    }
   ],
   "source": [
    "df.info()"
   ]
  },
  {
   "cell_type": "code",
   "execution_count": 41,
   "metadata": {},
   "outputs": [
    {
     "ename": "TypeError",
     "evalue": "dtype '<class 'tuple'>' not understood",
     "output_type": "error",
     "traceback": [
      "\u001b[1;31m---------------------------------------------------------------------------\u001b[0m",
      "\u001b[1;31mTypeError\u001b[0m                                 Traceback (most recent call last)",
      "Input \u001b[1;32mIn [41]\u001b[0m, in \u001b[0;36m<module>\u001b[1;34m\u001b[0m\n\u001b[1;32m----> 1\u001b[0m df[\u001b[38;5;124m\"\u001b[39m\u001b[38;5;124mCoordinate\u001b[39m\u001b[38;5;124m\"\u001b[39m] \u001b[38;5;241m=\u001b[39m \u001b[43mdf\u001b[49m\u001b[43m[\u001b[49m\u001b[38;5;124;43m\"\u001b[39;49m\u001b[38;5;124;43mCoordinate\u001b[39;49m\u001b[38;5;124;43m\"\u001b[39;49m\u001b[43m]\u001b[49m\u001b[38;5;241;43m.\u001b[39;49m\u001b[43mastype\u001b[49m\u001b[43m(\u001b[49m\u001b[38;5;28;43mtuple\u001b[39;49m\u001b[43m)\u001b[49m\n",
      "File \u001b[1;32m~\\AppData\\Roaming\\Python\\Python38\\site-packages\\pandas\\core\\generic.py:5815\u001b[0m, in \u001b[0;36mNDFrame.astype\u001b[1;34m(self, dtype, copy, errors)\u001b[0m\n\u001b[0;32m   5808\u001b[0m     results \u001b[38;5;241m=\u001b[39m [\n\u001b[0;32m   5809\u001b[0m         \u001b[38;5;28mself\u001b[39m\u001b[38;5;241m.\u001b[39miloc[:, i]\u001b[38;5;241m.\u001b[39mastype(dtype, copy\u001b[38;5;241m=\u001b[39mcopy)\n\u001b[0;32m   5810\u001b[0m         \u001b[38;5;28;01mfor\u001b[39;00m i \u001b[38;5;129;01min\u001b[39;00m \u001b[38;5;28mrange\u001b[39m(\u001b[38;5;28mlen\u001b[39m(\u001b[38;5;28mself\u001b[39m\u001b[38;5;241m.\u001b[39mcolumns))\n\u001b[0;32m   5811\u001b[0m     ]\n\u001b[0;32m   5813\u001b[0m \u001b[38;5;28;01melse\u001b[39;00m:\n\u001b[0;32m   5814\u001b[0m     \u001b[38;5;66;03m# else, only a single dtype is given\u001b[39;00m\n\u001b[1;32m-> 5815\u001b[0m     new_data \u001b[38;5;241m=\u001b[39m \u001b[38;5;28;43mself\u001b[39;49m\u001b[38;5;241;43m.\u001b[39;49m\u001b[43m_mgr\u001b[49m\u001b[38;5;241;43m.\u001b[39;49m\u001b[43mastype\u001b[49m\u001b[43m(\u001b[49m\u001b[43mdtype\u001b[49m\u001b[38;5;241;43m=\u001b[39;49m\u001b[43mdtype\u001b[49m\u001b[43m,\u001b[49m\u001b[43m \u001b[49m\u001b[43mcopy\u001b[49m\u001b[38;5;241;43m=\u001b[39;49m\u001b[43mcopy\u001b[49m\u001b[43m,\u001b[49m\u001b[43m \u001b[49m\u001b[43merrors\u001b[49m\u001b[38;5;241;43m=\u001b[39;49m\u001b[43merrors\u001b[49m\u001b[43m)\u001b[49m\n\u001b[0;32m   5816\u001b[0m     \u001b[38;5;28;01mreturn\u001b[39;00m \u001b[38;5;28mself\u001b[39m\u001b[38;5;241m.\u001b[39m_constructor(new_data)\u001b[38;5;241m.\u001b[39m__finalize__(\u001b[38;5;28mself\u001b[39m, method\u001b[38;5;241m=\u001b[39m\u001b[38;5;124m\"\u001b[39m\u001b[38;5;124mastype\u001b[39m\u001b[38;5;124m\"\u001b[39m)\n\u001b[0;32m   5818\u001b[0m \u001b[38;5;66;03m# GH 33113: handle empty frame or series\u001b[39;00m\n",
      "File \u001b[1;32m~\\AppData\\Roaming\\Python\\Python38\\site-packages\\pandas\\core\\internals\\managers.py:418\u001b[0m, in \u001b[0;36mBaseBlockManager.astype\u001b[1;34m(self, dtype, copy, errors)\u001b[0m\n\u001b[0;32m    417\u001b[0m \u001b[38;5;28;01mdef\u001b[39;00m \u001b[38;5;21mastype\u001b[39m(\u001b[38;5;28mself\u001b[39m: T, dtype, copy: \u001b[38;5;28mbool\u001b[39m \u001b[38;5;241m=\u001b[39m \u001b[38;5;28;01mFalse\u001b[39;00m, errors: \u001b[38;5;28mstr\u001b[39m \u001b[38;5;241m=\u001b[39m \u001b[38;5;124m\"\u001b[39m\u001b[38;5;124mraise\u001b[39m\u001b[38;5;124m\"\u001b[39m) \u001b[38;5;241m-\u001b[39m\u001b[38;5;241m>\u001b[39m T:\n\u001b[1;32m--> 418\u001b[0m     \u001b[38;5;28;01mreturn\u001b[39;00m \u001b[38;5;28;43mself\u001b[39;49m\u001b[38;5;241;43m.\u001b[39;49m\u001b[43mapply\u001b[49m\u001b[43m(\u001b[49m\u001b[38;5;124;43m\"\u001b[39;49m\u001b[38;5;124;43mastype\u001b[39;49m\u001b[38;5;124;43m\"\u001b[39;49m\u001b[43m,\u001b[49m\u001b[43m \u001b[49m\u001b[43mdtype\u001b[49m\u001b[38;5;241;43m=\u001b[39;49m\u001b[43mdtype\u001b[49m\u001b[43m,\u001b[49m\u001b[43m \u001b[49m\u001b[43mcopy\u001b[49m\u001b[38;5;241;43m=\u001b[39;49m\u001b[43mcopy\u001b[49m\u001b[43m,\u001b[49m\u001b[43m \u001b[49m\u001b[43merrors\u001b[49m\u001b[38;5;241;43m=\u001b[39;49m\u001b[43merrors\u001b[49m\u001b[43m)\u001b[49m\n",
      "File \u001b[1;32m~\\AppData\\Roaming\\Python\\Python38\\site-packages\\pandas\\core\\internals\\managers.py:327\u001b[0m, in \u001b[0;36mBaseBlockManager.apply\u001b[1;34m(self, f, align_keys, ignore_failures, **kwargs)\u001b[0m\n\u001b[0;32m    325\u001b[0m         applied \u001b[38;5;241m=\u001b[39m b\u001b[38;5;241m.\u001b[39mapply(f, \u001b[38;5;241m*\u001b[39m\u001b[38;5;241m*\u001b[39mkwargs)\n\u001b[0;32m    326\u001b[0m     \u001b[38;5;28;01melse\u001b[39;00m:\n\u001b[1;32m--> 327\u001b[0m         applied \u001b[38;5;241m=\u001b[39m \u001b[38;5;28;43mgetattr\u001b[39;49m\u001b[43m(\u001b[49m\u001b[43mb\u001b[49m\u001b[43m,\u001b[49m\u001b[43m \u001b[49m\u001b[43mf\u001b[49m\u001b[43m)\u001b[49m\u001b[43m(\u001b[49m\u001b[38;5;241;43m*\u001b[39;49m\u001b[38;5;241;43m*\u001b[39;49m\u001b[43mkwargs\u001b[49m\u001b[43m)\u001b[49m\n\u001b[0;32m    328\u001b[0m \u001b[38;5;28;01mexcept\u001b[39;00m (\u001b[38;5;167;01mTypeError\u001b[39;00m, \u001b[38;5;167;01mNotImplementedError\u001b[39;00m):\n\u001b[0;32m    329\u001b[0m     \u001b[38;5;28;01mif\u001b[39;00m \u001b[38;5;129;01mnot\u001b[39;00m ignore_failures:\n",
      "File \u001b[1;32m~\\AppData\\Roaming\\Python\\Python38\\site-packages\\pandas\\core\\internals\\blocks.py:591\u001b[0m, in \u001b[0;36mBlock.astype\u001b[1;34m(self, dtype, copy, errors)\u001b[0m\n\u001b[0;32m    573\u001b[0m \u001b[38;5;124;03m\"\"\"\u001b[39;00m\n\u001b[0;32m    574\u001b[0m \u001b[38;5;124;03mCoerce to the new dtype.\u001b[39;00m\n\u001b[0;32m    575\u001b[0m \n\u001b[1;32m   (...)\u001b[0m\n\u001b[0;32m    587\u001b[0m \u001b[38;5;124;03mBlock\u001b[39;00m\n\u001b[0;32m    588\u001b[0m \u001b[38;5;124;03m\"\"\"\u001b[39;00m\n\u001b[0;32m    589\u001b[0m values \u001b[38;5;241m=\u001b[39m \u001b[38;5;28mself\u001b[39m\u001b[38;5;241m.\u001b[39mvalues\n\u001b[1;32m--> 591\u001b[0m new_values \u001b[38;5;241m=\u001b[39m \u001b[43mastype_array_safe\u001b[49m\u001b[43m(\u001b[49m\u001b[43mvalues\u001b[49m\u001b[43m,\u001b[49m\u001b[43m \u001b[49m\u001b[43mdtype\u001b[49m\u001b[43m,\u001b[49m\u001b[43m \u001b[49m\u001b[43mcopy\u001b[49m\u001b[38;5;241;43m=\u001b[39;49m\u001b[43mcopy\u001b[49m\u001b[43m,\u001b[49m\u001b[43m \u001b[49m\u001b[43merrors\u001b[49m\u001b[38;5;241;43m=\u001b[39;49m\u001b[43merrors\u001b[49m\u001b[43m)\u001b[49m\n\u001b[0;32m    593\u001b[0m new_values \u001b[38;5;241m=\u001b[39m maybe_coerce_values(new_values)\n\u001b[0;32m    594\u001b[0m newb \u001b[38;5;241m=\u001b[39m \u001b[38;5;28mself\u001b[39m\u001b[38;5;241m.\u001b[39mmake_block(new_values)\n",
      "File \u001b[1;32m~\\AppData\\Roaming\\Python\\Python38\\site-packages\\pandas\\core\\dtypes\\cast.py:1306\u001b[0m, in \u001b[0;36mastype_array_safe\u001b[1;34m(values, dtype, copy, errors)\u001b[0m\n\u001b[0;32m   1300\u001b[0m     msg \u001b[38;5;241m=\u001b[39m (\n\u001b[0;32m   1301\u001b[0m         \u001b[38;5;124mf\u001b[39m\u001b[38;5;124m\"\u001b[39m\u001b[38;5;124mExpected an instance of \u001b[39m\u001b[38;5;132;01m{\u001b[39;00mdtype\u001b[38;5;241m.\u001b[39m\u001b[38;5;18m__name__\u001b[39m\u001b[38;5;132;01m}\u001b[39;00m\u001b[38;5;124m, \u001b[39m\u001b[38;5;124m\"\u001b[39m\n\u001b[0;32m   1302\u001b[0m         \u001b[38;5;124m\"\u001b[39m\u001b[38;5;124mbut got the class instead. Try instantiating \u001b[39m\u001b[38;5;124m'\u001b[39m\u001b[38;5;124mdtype\u001b[39m\u001b[38;5;124m'\u001b[39m\u001b[38;5;124m.\u001b[39m\u001b[38;5;124m\"\u001b[39m\n\u001b[0;32m   1303\u001b[0m     )\n\u001b[0;32m   1304\u001b[0m     \u001b[38;5;28;01mraise\u001b[39;00m \u001b[38;5;167;01mTypeError\u001b[39;00m(msg)\n\u001b[1;32m-> 1306\u001b[0m dtype \u001b[38;5;241m=\u001b[39m \u001b[43mpandas_dtype\u001b[49m\u001b[43m(\u001b[49m\u001b[43mdtype\u001b[49m\u001b[43m)\u001b[49m\n\u001b[0;32m   1308\u001b[0m \u001b[38;5;28;01mtry\u001b[39;00m:\n\u001b[0;32m   1309\u001b[0m     new_values \u001b[38;5;241m=\u001b[39m astype_array(values, dtype, copy\u001b[38;5;241m=\u001b[39mcopy)\n",
      "File \u001b[1;32m~\\AppData\\Roaming\\Python\\Python38\\site-packages\\pandas\\core\\dtypes\\common.py:1791\u001b[0m, in \u001b[0;36mpandas_dtype\u001b[1;34m(dtype)\u001b[0m\n\u001b[0;32m   1789\u001b[0m     \u001b[38;5;28;01mreturn\u001b[39;00m npdtype\n\u001b[0;32m   1790\u001b[0m \u001b[38;5;28;01melif\u001b[39;00m npdtype\u001b[38;5;241m.\u001b[39mkind \u001b[38;5;241m==\u001b[39m \u001b[38;5;124m\"\u001b[39m\u001b[38;5;124mO\u001b[39m\u001b[38;5;124m\"\u001b[39m:\n\u001b[1;32m-> 1791\u001b[0m     \u001b[38;5;28;01mraise\u001b[39;00m \u001b[38;5;167;01mTypeError\u001b[39;00m(\u001b[38;5;124mf\u001b[39m\u001b[38;5;124m\"\u001b[39m\u001b[38;5;124mdtype \u001b[39m\u001b[38;5;124m'\u001b[39m\u001b[38;5;132;01m{\u001b[39;00mdtype\u001b[38;5;132;01m}\u001b[39;00m\u001b[38;5;124m'\u001b[39m\u001b[38;5;124m not understood\u001b[39m\u001b[38;5;124m\"\u001b[39m)\n\u001b[0;32m   1793\u001b[0m \u001b[38;5;28;01mreturn\u001b[39;00m npdtype\n",
      "\u001b[1;31mTypeError\u001b[0m: dtype '<class 'tuple'>' not understood"
     ]
    }
   ],
   "source": [
    "df[\"Coordinate\"] = df[\"Coordinate\"].astype(tuple)"
   ]
  },
  {
   "cell_type": "code",
   "execution_count": 34,
   "metadata": {
    "id": "BwL2yBY5jS2_"
   },
   "outputs": [],
   "source": [
    "#New York Empire State Building Lat Long (Looking for any approx center point)\n",
    "NY_coord = (40.748488, -73.985238)"
   ]
  },
  {
   "cell_type": "code",
   "execution_count": 35,
   "metadata": {
    "colab": {
     "base_uri": "https://localhost:8080/"
    },
    "id": "8cMTNo7OZzhk",
    "outputId": "b8f4c768-9b0a-48dd-ca8d-2a3fcfd52dec"
   },
   "outputs": [
    {
     "data": {
      "text/plain": [
       "method"
      ]
     },
     "execution_count": 35,
     "metadata": {},
     "output_type": "execute_result"
    }
   ],
   "source": [
    "ass=df.itertuples\n",
    "type(ass)"
   ]
  },
  {
   "cell_type": "code",
   "execution_count": 36,
   "metadata": {
    "colab": {
     "base_uri": "https://localhost:8080/"
    },
    "id": "LnqkRB-BcJS-",
    "outputId": "19f4ef5a-5684-4595-d26f-d3a2bbd72f07"
   },
   "outputs": [
    {
     "data": {
      "text/plain": [
       "Index(['lat', 'lng', 'store', 'address', 'Coordinate'], dtype='object')"
      ]
     },
     "execution_count": 36,
     "metadata": {},
     "output_type": "execute_result"
    }
   ],
   "source": [
    "df.columns"
   ]
  },
  {
   "cell_type": "code",
   "execution_count": null,
   "metadata": {},
   "outputs": [],
   "source": []
  },
  {
   "cell_type": "markdown",
   "metadata": {
    "id": "Jg_MRCjNwFNb"
   },
   "source": [
    "**1. Compute the distance of the stores**"
   ]
  },
  {
   "cell_type": "code",
   "execution_count": 40,
   "metadata": {
    "colab": {
     "base_uri": "https://localhost:8080/",
     "height": 363
    },
    "id": "VkHNRL_DmE2a",
    "outputId": "24f4c280-944a-402b-9c97-849b3f825884"
   },
   "outputs": [
    {
     "ename": "AttributeError",
     "evalue": "'str' object has no attribute 'astype'",
     "output_type": "error",
     "traceback": [
      "\u001b[1;31m---------------------------------------------------------------------------\u001b[0m",
      "\u001b[1;31mAttributeError\u001b[0m                            Traceback (most recent call last)",
      "Input \u001b[1;32mIn [40]\u001b[0m, in \u001b[0;36m<module>\u001b[1;34m\u001b[0m\n\u001b[0;32m      2\u001b[0m distances_km \u001b[38;5;241m=\u001b[39m []\n\u001b[0;32m      4\u001b[0m \u001b[38;5;28;01mfor\u001b[39;00m row \u001b[38;5;129;01min\u001b[39;00m df\u001b[38;5;241m.\u001b[39mitertuples(index\u001b[38;5;241m=\u001b[39m\u001b[38;5;28;01mFalse\u001b[39;00m):\n\u001b[0;32m      5\u001b[0m     distances_km\u001b[38;5;241m.\u001b[39mappend(\n\u001b[1;32m----> 6\u001b[0m        geopy\u001b[38;5;241m.\u001b[39mdistance\u001b[38;5;241m.\u001b[39mdistance(NY_coord, \u001b[43mrow\u001b[49m\u001b[38;5;241;43m.\u001b[39;49m\u001b[43mCoordinate\u001b[49m\u001b[38;5;241;43m.\u001b[39;49m\u001b[43mastype\u001b[49m(\u001b[38;5;28mtuple\u001b[39m))\u001b[38;5;241m.\u001b[39mkm\n\u001b[0;32m      7\u001b[0m    )\n\u001b[0;32m      9\u001b[0m df[\u001b[38;5;124m'\u001b[39m\u001b[38;5;124mDistance\u001b[39m\u001b[38;5;124m'\u001b[39m] \u001b[38;5;241m=\u001b[39m distances_km\n\u001b[0;32m     10\u001b[0m df\u001b[38;5;241m.\u001b[39mhead(\u001b[38;5;241m10\u001b[39m)\n",
      "\u001b[1;31mAttributeError\u001b[0m: 'str' object has no attribute 'astype'"
     ]
    }
   ],
   "source": [
    "#Compute distance of every store from city center\n",
    "distances_km = []\n",
    "\n",
    "for row in df.itertuples(index=False):\n",
    "    distances_km.append(\n",
    "       geopy.distance.distance(NY_coord, row.Coordinate.astype(tuple)).km\n",
    "   )\n",
    "\n",
    "df['Distance'] = distances_km\n",
    "df.head(10)"
   ]
  },
  {
   "cell_type": "code",
   "execution_count": null,
   "metadata": {
    "colab": {
     "base_uri": "https://localhost:8080/"
    },
    "id": "ZhFST8Kkfh2V",
    "outputId": "dcd6ecd3-f97f-4fa6-b7dc-8505e29511e4"
   },
   "outputs": [
    {
     "name": "stdout",
     "output_type": "stream",
     "text": [
      "40.711\n",
      "-74.000878\n",
      "Starbucks\n",
      "0\n",
      "\n",
      "<class 'pandas.core.series.Series'>\n",
      "\n",
      "\n",
      "lat                                     40.711\n",
      "lng                                 -74.000878\n",
      "store                                Starbucks\n",
      "address       375 Pearl st, New York, NY 10038\n",
      "Coordinate                (40.711, -74.000878)\n",
      "Distance                              4.367628\n",
      "Name: 0, dtype: object\n"
     ]
    }
   ],
   "source": [
    "for i, row in df.iterrows():\n",
    "  lat = df.at[i, 'lat']\n",
    "  print(lat)\n",
    "  lng = df.at[i, 'lng']\n",
    "  print(lng)\n",
    "  store = df.at[i, 'store']\n",
    "  print(store)\n",
    "  print(i)\n",
    "  print()\n",
    "  print(type(row))\n",
    "  print()\n",
    "  print()\n",
    "  print(row)\n",
    "  \n",
    "  break\n"
   ]
  },
  {
   "cell_type": "code",
   "execution_count": null,
   "metadata": {
    "colab": {
     "base_uri": "https://localhost:8080/"
    },
    "id": "e6pQXIJcgrWG",
    "outputId": "d28c3544-3fc2-472e-f8cb-62d617c96f8e"
   },
   "outputs": [
    {
     "data": {
      "text/plain": [
       "folium.folium.Map"
      ]
     },
     "execution_count": 14,
     "metadata": {},
     "output_type": "execute_result"
    }
   ],
   "source": [
    "nn = folium.Map(location=NY_coord, zoom_start= 15)\n",
    "type(nn)"
   ]
  },
  {
   "cell_type": "code",
   "execution_count": null,
   "metadata": {
    "colab": {
     "base_uri": "https://localhost:8080/",
     "height": 183
    },
    "id": "kOqpnJVVrrq8",
    "outputId": "b01cd8b8-ceba-47de-ecc4-143b395e37d0"
   },
   "outputs": [
    {
     "ename": "NameError",
     "evalue": "ignored",
     "output_type": "error",
     "traceback": [
      "\u001b[0;31m---------------------------------------------------------------------------\u001b[0m",
      "\u001b[0;31mNameError\u001b[0m                                 Traceback (most recent call last)",
      "\u001b[0;32m<ipython-input-15-110c37916ece>\u001b[0m in \u001b[0;36m<module>\u001b[0;34m()\u001b[0m\n\u001b[0;32m----> 1\u001b[0;31m \u001b[0mj\u001b[0m\u001b[0;34m=\u001b[0m\u001b[0mfolium\u001b[0m\u001b[0;34m.\u001b[0m\u001b[0mMarker\u001b[0m\u001b[0;34m(\u001b[0m\u001b[0mlocation\u001b[0m\u001b[0;34m=\u001b[0m\u001b[0;34m[\u001b[0m\u001b[0mlat\u001b[0m\u001b[0;34m,\u001b[0m\u001b[0mlng\u001b[0m\u001b[0;34m]\u001b[0m\u001b[0;34m,\u001b[0m \u001b[0mpopup\u001b[0m\u001b[0;34m=\u001b[0m\u001b[0mstore\u001b[0m\u001b[0;34m,\u001b[0m \u001b[0micon\u001b[0m\u001b[0;34m=\u001b[0m \u001b[0mfolium\u001b[0m\u001b[0;34m.\u001b[0m\u001b[0mIcon\u001b[0m\u001b[0;34m(\u001b[0m\u001b[0mcolor\u001b[0m\u001b[0;34m=\u001b[0m\u001b[0mcolor\u001b[0m\u001b[0;34m)\u001b[0m\u001b[0;34m)\u001b[0m\u001b[0;34m.\u001b[0m\u001b[0madd_to\u001b[0m\u001b[0;34m(\u001b[0m\u001b[0mnn\u001b[0m\u001b[0;34m)\u001b[0m\u001b[0;34m\u001b[0m\u001b[0;34m\u001b[0m\u001b[0m\n\u001b[0m\u001b[1;32m      2\u001b[0m \u001b[0mtype\u001b[0m\u001b[0;34m(\u001b[0m\u001b[0mj\u001b[0m\u001b[0;34m)\u001b[0m\u001b[0;34m\u001b[0m\u001b[0;34m\u001b[0m\u001b[0m\n",
      "\u001b[0;31mNameError\u001b[0m: name 'color' is not defined"
     ]
    }
   ],
   "source": [
    "j=folium.Marker(location=[lat,lng], popup=store, icon= folium.Icon(color=color)).add_to(nn)\n",
    "type(j)"
   ]
  },
  {
   "cell_type": "markdown",
   "metadata": {
    "id": "DLwS5c0VwNMQ"
   },
   "source": [
    "**2.Visualize data on a map**"
   ]
  },
  {
   "cell_type": "code",
   "execution_count": null,
   "metadata": {
    "id": "keLZN-vioUd6"
   },
   "outputs": [],
   "source": [
    "#Empire State Building coordinates\n",
    "m = folium.Map(location=NY_coord, zoom_start= 15)\n",
    "\n",
    "#Place markers for the stores on the map\n",
    "for i, row in df.iterrows():\n",
    "  lat = df.at[i, 'lat']\n",
    "  lng = df.at[i, 'lng']\n",
    "  store = df.at[i, 'store']\n",
    "\n",
    "  if store == 'McDonalds':\n",
    "    color = 'red'\n",
    "  else:\n",
    "    color = 'green'\n",
    "\n",
    "  folium.Marker(location=[lat,lng], popup=store, icon= folium.Icon(color=color)).add_to(m)\n",
    "\n",
    "m"
   ]
  },
  {
   "cell_type": "markdown",
   "metadata": {
    "id": "T5Hud1dswQ9O"
   },
   "source": [
    "**3. Compute number of stores located in a given radius**"
   ]
  },
  {
   "cell_type": "code",
   "execution_count": null,
   "metadata": {
    "id": "A4Idfn0-swJ1"
   },
   "outputs": [],
   "source": [
    "#All stores at a distance greater/less than x kms\n",
    "df[df['Distance'] > 10]"
   ]
  },
  {
   "cell_type": "markdown",
   "metadata": {
    "id": "GnRkA-2dMG4-"
   },
   "source": [
    "**4. Compute the closest and farthest stores from Empire State Building**\n",
    "\n"
   ]
  },
  {
   "cell_type": "code",
   "execution_count": null,
   "metadata": {
    "id": "uBRmQvn-MNZl"
   },
   "outputs": [],
   "source": [
    "df_farthest = df.iloc[df.groupby('store')['Distance'].agg(pd.Series.idxmax)]\n",
    "df_closest = df.iloc[df.groupby('store')['Distance'].agg(pd.Series.idxmin)]\n",
    "df_new = pd.concat([df_farthest, df_closest])"
   ]
  },
  {
   "cell_type": "code",
   "execution_count": null,
   "metadata": {
    "id": "zDjLiMSitcIo"
   },
   "outputs": [],
   "source": [
    "ds=df.groupby('store')['Distance'].agg(pd.Series.idxmax)\n",
    "ds.index[:]"
   ]
  },
  {
   "cell_type": "code",
   "execution_count": null,
   "metadata": {
    "id": "d1poy6o4kD28"
   },
   "outputs": [],
   "source": [
    "df_new"
   ]
  },
  {
   "cell_type": "code",
   "execution_count": null,
   "metadata": {
    "id": "iK1FrOlfYtCY"
   },
   "outputs": [],
   "source": [
    "#Empire State Building coordinates\n",
    "m = folium.Map(location=[40.748488, -73.985238], zoom_start= 10)\n",
    "\n",
    "for i, rown in df_new.iterrows():\n",
    "  lat = df_new.at[i, 'lat']\n",
    "  lng = df_new.at[i, 'lng']\n",
    "  store = df_new.at[i, 'store']\n",
    "\n",
    "  if store == 'McDonalds':\n",
    "    color = 'blue'\n",
    "  else:\n",
    "    color = 'green'\n",
    "\n",
    "  folium.Marker(location=[lat,lng], popup=store, icon= folium.Icon(color=color)).add_to(m)\n",
    "\n",
    "m"
   ]
  },
  {
   "cell_type": "markdown",
   "metadata": {
    "id": "ZvlRfcULsxvO"
   },
   "source": [
    "# Coffee king"
   ]
  },
  {
   "cell_type": "code",
   "execution_count": null,
   "metadata": {
    "id": "kXBAj0NVtWou"
   },
   "outputs": [],
   "source": [
    "!pip install geopandas"
   ]
  },
  {
   "cell_type": "code",
   "execution_count": null,
   "metadata": {
    "id": "tuWFK1H8tHxn",
    "jupyter": {
     "source_hidden": true
    }
   },
   "outputs": [],
   "source": [
    "\n",
    "\n",
    "def mcdonalds():\n",
    "    data = requests.get(\"https://www.mcdonalds.com/googleappsv2/geolocation?latitude=40.7830603&longitude=-73.9712488&radius=8.045&maxResults=30&country=us&language=en-us\").json()\n",
    "    \n",
    "    result = []\n",
    "    for row in data['features']:\n",
    "        geom,prop = row['geometry'], row['properties']\n",
    "        result.append({\n",
    "            'store': 'McDonalds',\n",
    "            'lat': geom['coordinates'][1],\n",
    "            'lng': geom['coordinates'][0],\n",
    "            'address': prop['addressLine1'],\n",
    "        })\n",
    "\n",
    "    return pd.DataFrame(result)\n",
    "\n",
    "\n",
    "def starbucks():\n",
    "\n",
    "    \n",
    "    #Return a DataFrame with Manhattan Starbucks (store, address, lat, lng)I went to https://www.starbucks.com/store-locator and moved the map around to get center points that seem to cover Manhattan.\n",
    "    \n",
    "    \n",
    "    map_points = (\n",
    "      [40.709353, -74.002588],\n",
    "      [40.72899, -73.982323],\n",
    "      [40.741837, -74.008072],\n",
    "      [40.741317, -73.972179],\n",
    "      [40.761994, -73.959133],\n",
    "      [40.763489, -73.989517],\n",
    "      [40.763814, -74.01415],\n",
    "      [40.781312, -73.98617],\n",
    "      [40.773145, -73.960995],\n",
    "      [40.79807, -73.977686],\n",
    "      [40.786317, -73.928566],\n",
    "      \n",
    "    )\n",
    "\n",
    "    result = []\n",
    "\n",
    "    for lat, lng in map_points:\n",
    "        url = f'https://www.starbucks.com/bff/locations?lat={lat}&lng={lng}'\n",
    "        \n",
    "        data = requests.get(url, headers={'x-requested-with': 'XMLHttpRequest'}).json()\n",
    "\n",
    "\n",
    "        for row in data['stores']:\n",
    "            result.append({\n",
    "              'store': 'Starbucks',\n",
    "              'lat': row['coordinates']['latitude'],\n",
    "              'lng': row['coordinates']['longitude'],\n",
    "              'address': ', '.join(row['addressLines'])\n",
    "            })\n",
    "    return pd.DataFrame(result).drop_duplicates()\n",
    "\n",
    "def scrape_stores(target, overwrite=False):\n",
    "    if not overwrite and os.path.exists(target):\n",
    "        print(target, 'already exists. not scraping')\n",
    "        return pd.read_excel(target)\n",
    "    \n",
    "    data = pd.concat([\n",
    "        mcdonalds(),\n",
    "        starbucks(),\n",
    "    ])\n",
    "\n",
    "    data.to_excel(target, index=False)\n",
    "    return data\n",
    "\n",
    "def manhatten_map():\n",
    "    #load population and census shape file and adata \n",
    "    cols  =  ['BoroName','FIPSCode','BoroCode','CT2010','Pop2000','Pop2010','Change','ChangePC','Acres','Density']\n",
    "\n",
    "    pop = pd.read_excel('/content/t_pl_p5_ct.xlsx', skiprows=range(7), header=None, names=cols, dtype=object)\n",
    "\n",
    "    shape  = geopandas.read_file('/content/nyct2010.shp')\n",
    "\n",
    "    # Filter for Manhattan \n",
    "    shape  =  shape.merge(pop.loc[:, ['CT2010', 'Pop2010']], on='CT2010')\n",
    "\n",
    "    if not os.path.exists('map'):\n",
    "        os.makedirs('map')\n",
    "\n",
    "        # convert lat-long coordinate system and save \n",
    "    #shape  = CRS('EPSG:4326').to_proj4()\n",
    "    crs=pyproj.CRS(\"epsg:4326\")\n",
    "    shape = shape.to_crs(crs)\n",
    "    shape['Pop2010'] = shape['Pop2010'].astype(int)\n",
    "    shape.to_file('map/population.shp')\n",
    "    # save as a single blog for use by reshaper \n",
    "\n",
    "    shape.dissolve(by='BoroName')[['BoroCode', 'geometry']].to_file('map/single.shp')\n",
    "\n",
    "def stores_map(stores, shape):\n",
    "    geom = geopandas.points_from_xy(stores.lng,stores.lat)\n",
    "    points = geopandas.GeoDataFrame(stores, geometry=geom)\n",
    "    #points = points[points.intersects(shape.unary_union)]\n",
    "    \n",
    "    points.loc[:,['lat', 'lng','store','address']].to_csv('manhatton-stores.csv', index=False, encoding='utf8')\n",
    "    points.to_file('map/points.shp')\n",
    "\n",
    "if __name__ == '__main__':\n",
    "    stores = scrape_stores('stores.xlsx', overwrite=False)\n",
    "    shape = manhatten_map()\n",
    "    stores_map(stores, shape)"
   ]
  },
  {
   "cell_type": "code",
   "execution_count": null,
   "metadata": {
    "id": "gWg8h0RM0vPL"
   },
   "outputs": [],
   "source": [
    "from google.colab import drive\n",
    "drive.mount('/content/drive')"
   ]
  },
  {
   "cell_type": "code",
   "execution_count": null,
   "metadata": {
    "id": "1_zRFxqIU5Yh"
   },
   "outputs": [],
   "source": []
  },
  {
   "cell_type": "code",
   "execution_count": null,
   "metadata": {},
   "outputs": [],
   "source": []
  },
  {
   "cell_type": "markdown",
   "metadata": {
    "id": "2shck-9OUf1e"
   },
   "source": [
    "# Assignment"
   ]
  },
  {
   "cell_type": "markdown",
   "metadata": {},
   "source": [
    "## Q. 3,4,5]"
   ]
  },
  {
   "cell_type": "code",
   "execution_count": 14,
   "metadata": {},
   "outputs": [
    {
     "name": "stdout",
     "output_type": "stream",
     "text": [
      "Polarity: -0.3880952380952381\n",
      "Subjectivity: 0.40238095238095245\n"
     ]
    }
   ],
   "source": [
    "s = \"i`ve been sick for the past few days and thus, my hair looks wierd. if i didnt have a hat on it would look... http://tinyurl.com/mnf4kw\"\n",
    "get_polarity_and_subjectivity(s)"
   ]
  },
  {
   "cell_type": "code",
   "execution_count": 15,
   "metadata": {},
   "outputs": [
    {
     "name": "stdout",
     "output_type": "stream",
     "text": [
      "Polarity: 0.0\n",
      "Subjectivity: 0.0\n"
     ]
    }
   ],
   "source": [
    "s = \" traumatizing moment of my childhood. my dogs massacred baby bunnies and my brother and i got out the bb gun...\"\n",
    "get_polarity_and_subjectivity(s)"
   ]
  },
  {
   "cell_type": "markdown",
   "metadata": {},
   "source": [
    "## Q. 6]"
   ]
  },
  {
   "cell_type": "code",
   "execution_count": 17,
   "metadata": {},
   "outputs": [],
   "source": [
    "from geopy.geocoders import Nominatim\n",
    "locator = Nominatim(user_agent=\"myGeocoder\")"
   ]
  },
  {
   "cell_type": "code",
   "execution_count": 25,
   "metadata": {},
   "outputs": [],
   "source": []
  },
  {
   "cell_type": "code",
   "execution_count": 23,
   "metadata": {},
   "outputs": [
    {
     "data": {
      "text/plain": [
       "(29.3912753, 76.9771675)"
      ]
     },
     "execution_count": 23,
     "metadata": {},
     "output_type": "execute_result"
    }
   ],
   "source": [
    "location = locator.geocode(\"Panipat\")\n",
    "paniput = ( location.latitude , location.longitude) \n",
    "paniput"
   ]
  },
  {
   "cell_type": "code",
   "execution_count": 24,
   "metadata": {},
   "outputs": [
    {
     "data": {
      "text/plain": [
       "(23.5350475, 87.3380425)"
      ]
     },
     "execution_count": 24,
     "metadata": {},
     "output_type": "execute_result"
    }
   ],
   "source": [
    "location = locator.geocode(\"Durgapur\")\n",
    "durgapur = ( location.latitude , location.longitude) \n",
    "durgapur"
   ]
  },
  {
   "cell_type": "code",
   "execution_count": 26,
   "metadata": {},
   "outputs": [
    {
     "data": {
      "text/plain": [
       "1218.8356860888455"
      ]
     },
     "execution_count": 26,
     "metadata": {},
     "output_type": "execute_result"
    }
   ],
   "source": [
    "GRC(paniput, durgapur).km"
   ]
  },
  {
   "cell_type": "code",
   "execution_count": 27,
   "metadata": {},
   "outputs": [
    {
     "data": {
      "text/plain": [
       "1219.1448225210377"
      ]
     },
     "execution_count": 27,
     "metadata": {},
     "output_type": "execute_result"
    }
   ],
   "source": [
    "GD(paniput, durgapur).km"
   ]
  },
  {
   "cell_type": "code",
   "execution_count": 30,
   "metadata": {},
   "outputs": [
    {
     "data": {
      "text/plain": [
       "1219.1448225210377"
      ]
     },
     "execution_count": 30,
     "metadata": {},
     "output_type": "execute_result"
    }
   ],
   "source": [
    "geopy.distance.distance(paniput, durgapur).km"
   ]
  },
  {
   "cell_type": "code",
   "execution_count": null,
   "metadata": {},
   "outputs": [],
   "source": []
  },
  {
   "cell_type": "code",
   "execution_count": null,
   "metadata": {},
   "outputs": [],
   "source": []
  },
  {
   "cell_type": "code",
   "execution_count": null,
   "metadata": {},
   "outputs": [],
   "source": []
  },
  {
   "cell_type": "code",
   "execution_count": null,
   "metadata": {},
   "outputs": [],
   "source": []
  },
  {
   "cell_type": "code",
   "execution_count": null,
   "metadata": {},
   "outputs": [],
   "source": []
  },
  {
   "cell_type": "markdown",
   "metadata": {},
   "source": [
    "# END"
   ]
  },
  {
   "cell_type": "code",
   "execution_count": null,
   "metadata": {},
   "outputs": [],
   "source": []
  }
 ],
 "metadata": {
  "kernelspec": {
   "display_name": "Python 3",
   "language": "python",
   "name": "python3"
  },
  "language_info": {
   "codemirror_mode": {
    "name": "ipython",
    "version": 3
   },
   "file_extension": ".py",
   "mimetype": "text/x-python",
   "name": "python",
   "nbconvert_exporter": "python",
   "pygments_lexer": "ipython3",
   "version": "3.8.3"
  }
 },
 "nbformat": 4,
 "nbformat_minor": 4
}
