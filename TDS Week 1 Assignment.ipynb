{
 "cells": [
  {
   "cell_type": "markdown",
   "metadata": {},
   "source": [
    "# TDS Week 1 Assignment"
   ]
  },
  {
   "cell_type": "markdown",
   "metadata": {},
   "source": [
    "# Imports"
   ]
  },
  {
   "cell_type": "code",
   "execution_count": 2,
   "metadata": {},
   "outputs": [],
   "source": [
    "# ---------- Common ------------\n",
    "import os\n",
    "import time\n",
    "import json\n",
    "import random\n",
    "import ast\n",
    "from datetime import datetime\n",
    "\n",
    "# ---------- Data Manipulation ------------\n",
    "import pandas as pd\n",
    "pd.set_option('display.max_rows', 50)\n",
    "pd.set_option('display.max_columns', None)\n",
    "import numpy as np"
   ]
  },
  {
   "cell_type": "markdown",
   "metadata": {},
   "source": [
    "## Common helper functions"
   ]
  },
  {
   "cell_type": "code",
   "execution_count": 3,
   "metadata": {},
   "outputs": [],
   "source": [
    "def display_scores(scores):\n",
    "    print(f'Scores: {scores}')\n",
    "    print(f'Mean: {scores.mean()}')\n",
    "    print(f'Std Dev: {scores.std()}')\n",
    "    return"
   ]
  },
  {
   "cell_type": "markdown",
   "metadata": {},
   "source": [
    "## Get the Data"
   ]
  },
  {
   "cell_type": "markdown",
   "metadata": {},
   "source": [
    "### Load Data: On data.gov.in, \"Variety-wise Daily Market Prices Data of Goat 2022\"."
   ]
  },
  {
   "cell_type": "code",
   "execution_count": 4,
   "metadata": {},
   "outputs": [
    {
     "data": {
      "text/plain": [
       "['.ipynb_checkpoints', 'Goat_2022.csv', 'TDS_Week_1_Assignment.ipynb']"
      ]
     },
     "execution_count": 4,
     "metadata": {},
     "output_type": "execute_result"
    }
   ],
   "source": [
    "root_path = r\"C:\\Users\\tusha\\Jupyter_notebooks\\IITM_Term_5\\TDS\"\n",
    "os.listdir(root_path)"
   ]
  },
  {
   "cell_type": "code",
   "execution_count": 5,
   "metadata": {},
   "outputs": [
    {
     "name": "stdout",
     "output_type": "stream",
     "text": [
      "Data Shape: (347, 9)\n"
     ]
    }
   ],
   "source": [
    "data_path = os.path.join(root_path, 'Goat_2022.csv')\n",
    "df = pd.read_csv(data_path)\n",
    "print(f\"Data Shape: {df.shape}\")"
   ]
  },
  {
   "cell_type": "code",
   "execution_count": 6,
   "metadata": {},
   "outputs": [
    {
     "data": {
      "text/html": [
       "<div>\n",
       "<style scoped>\n",
       "    .dataframe tbody tr th:only-of-type {\n",
       "        vertical-align: middle;\n",
       "    }\n",
       "\n",
       "    .dataframe tbody tr th {\n",
       "        vertical-align: top;\n",
       "    }\n",
       "\n",
       "    .dataframe thead th {\n",
       "        text-align: right;\n",
       "    }\n",
       "</style>\n",
       "<table border=\"1\" class=\"dataframe\">\n",
       "  <thead>\n",
       "    <tr style=\"text-align: right;\">\n",
       "      <th></th>\n",
       "      <th>state</th>\n",
       "      <th>district</th>\n",
       "      <th>market</th>\n",
       "      <th>commodity</th>\n",
       "      <th>variety</th>\n",
       "      <th>arrival_date</th>\n",
       "      <th>min_price</th>\n",
       "      <th>max_price</th>\n",
       "      <th>modal_price</th>\n",
       "    </tr>\n",
       "  </thead>\n",
       "  <tbody>\n",
       "    <tr>\n",
       "      <th>0</th>\n",
       "      <td>Karnataka</td>\n",
       "      <td>Belgaum</td>\n",
       "      <td>Ramdurga</td>\n",
       "      <td>Goat</td>\n",
       "      <td>Goat</td>\n",
       "      <td>23/01/2022</td>\n",
       "      <td>2500</td>\n",
       "      <td>8000</td>\n",
       "      <td>6900</td>\n",
       "    </tr>\n",
       "    <tr>\n",
       "      <th>1</th>\n",
       "      <td>Karnataka</td>\n",
       "      <td>Belgaum</td>\n",
       "      <td>Ramdurga</td>\n",
       "      <td>Goat</td>\n",
       "      <td>Goat</td>\n",
       "      <td>30/01/2022</td>\n",
       "      <td>2500</td>\n",
       "      <td>6000</td>\n",
       "      <td>4900</td>\n",
       "    </tr>\n",
       "    <tr>\n",
       "      <th>2</th>\n",
       "      <td>Karnataka</td>\n",
       "      <td>Belgaum</td>\n",
       "      <td>Ramdurga</td>\n",
       "      <td>Goat</td>\n",
       "      <td>Goat</td>\n",
       "      <td>06/02/2022</td>\n",
       "      <td>2300</td>\n",
       "      <td>6400</td>\n",
       "      <td>5700</td>\n",
       "    </tr>\n",
       "    <tr>\n",
       "      <th>3</th>\n",
       "      <td>Karnataka</td>\n",
       "      <td>Belgaum</td>\n",
       "      <td>Ramdurga</td>\n",
       "      <td>Goat</td>\n",
       "      <td>Goat</td>\n",
       "      <td>13/02/2022</td>\n",
       "      <td>3000</td>\n",
       "      <td>8100</td>\n",
       "      <td>6900</td>\n",
       "    </tr>\n",
       "    <tr>\n",
       "      <th>4</th>\n",
       "      <td>Karnataka</td>\n",
       "      <td>Belgaum</td>\n",
       "      <td>Ramdurga</td>\n",
       "      <td>Goat</td>\n",
       "      <td>Goat</td>\n",
       "      <td>20/02/2022</td>\n",
       "      <td>3000</td>\n",
       "      <td>6900</td>\n",
       "      <td>5800</td>\n",
       "    </tr>\n",
       "  </tbody>\n",
       "</table>\n",
       "</div>"
      ],
      "text/plain": [
       "       state district    market commodity variety arrival_date  min_price  \\\n",
       "0  Karnataka  Belgaum  Ramdurga      Goat    Goat   23/01/2022       2500   \n",
       "1  Karnataka  Belgaum  Ramdurga      Goat    Goat   30/01/2022       2500   \n",
       "2  Karnataka  Belgaum  Ramdurga      Goat    Goat   06/02/2022       2300   \n",
       "3  Karnataka  Belgaum  Ramdurga      Goat    Goat   13/02/2022       3000   \n",
       "4  Karnataka  Belgaum  Ramdurga      Goat    Goat   20/02/2022       3000   \n",
       "\n",
       "   max_price  modal_price  \n",
       "0       8000         6900  \n",
       "1       6000         4900  \n",
       "2       6400         5700  \n",
       "3       8100         6900  \n",
       "4       6900         5800  "
      ]
     },
     "execution_count": 6,
     "metadata": {},
     "output_type": "execute_result"
    }
   ],
   "source": [
    "df.head()"
   ]
  },
  {
   "cell_type": "code",
   "execution_count": 9,
   "metadata": {},
   "outputs": [
    {
     "data": {
      "text/plain": [
       "state           0\n",
       "district        0\n",
       "market          0\n",
       "commodity       0\n",
       "variety         0\n",
       "arrival_date    0\n",
       "min_price       0\n",
       "max_price       0\n",
       "modal_price     0\n",
       "dtype: int64"
      ]
     },
     "execution_count": 9,
     "metadata": {},
     "output_type": "execute_result"
    }
   ],
   "source": [
    "df.isnull().sum(axis=0)"
   ]
  },
  {
   "cell_type": "code",
   "execution_count": 11,
   "metadata": {},
   "outputs": [
    {
     "name": "stdout",
     "output_type": "stream",
     "text": [
      "<class 'pandas.core.frame.DataFrame'>\n",
      "RangeIndex: 347 entries, 0 to 346\n",
      "Data columns (total 9 columns):\n",
      " #   Column        Non-Null Count  Dtype \n",
      "---  ------        --------------  ----- \n",
      " 0   state         347 non-null    object\n",
      " 1   district      347 non-null    object\n",
      " 2   market        347 non-null    object\n",
      " 3   commodity     347 non-null    object\n",
      " 4   variety       347 non-null    object\n",
      " 5   arrival_date  347 non-null    object\n",
      " 6   min_price     347 non-null    int64 \n",
      " 7   max_price     347 non-null    int64 \n",
      " 8   modal_price   347 non-null    int64 \n",
      "dtypes: int64(3), object(6)\n",
      "memory usage: 24.5+ KB\n"
     ]
    }
   ],
   "source": [
    "df.info()"
   ]
  },
  {
   "cell_type": "markdown",
   "metadata": {},
   "source": [
    "### Q.1] What was the modal price of Goat (Other) in Keonjhar(Dhekikote), Keonjhar on 01/01/2022?"
   ]
  },
  {
   "cell_type": "code",
   "execution_count": 17,
   "metadata": {},
   "outputs": [
    {
     "data": {
      "text/html": [
       "<div>\n",
       "<style scoped>\n",
       "    .dataframe tbody tr th:only-of-type {\n",
       "        vertical-align: middle;\n",
       "    }\n",
       "\n",
       "    .dataframe tbody tr th {\n",
       "        vertical-align: top;\n",
       "    }\n",
       "\n",
       "    .dataframe thead th {\n",
       "        text-align: right;\n",
       "    }\n",
       "</style>\n",
       "<table border=\"1\" class=\"dataframe\">\n",
       "  <thead>\n",
       "    <tr style=\"text-align: right;\">\n",
       "      <th></th>\n",
       "      <th>state</th>\n",
       "      <th>district</th>\n",
       "      <th>market</th>\n",
       "      <th>commodity</th>\n",
       "      <th>variety</th>\n",
       "      <th>arrival_date</th>\n",
       "      <th>min_price</th>\n",
       "      <th>max_price</th>\n",
       "      <th>modal_price</th>\n",
       "    </tr>\n",
       "  </thead>\n",
       "  <tbody>\n",
       "    <tr>\n",
       "      <th>109</th>\n",
       "      <td>Odisha</td>\n",
       "      <td>Keonjhar</td>\n",
       "      <td>Keonjhar(Dhekikote)</td>\n",
       "      <td>Goat</td>\n",
       "      <td>Other</td>\n",
       "      <td>01/01/2022</td>\n",
       "      <td>1500</td>\n",
       "      <td>3500</td>\n",
       "      <td>1500</td>\n",
       "    </tr>\n",
       "  </tbody>\n",
       "</table>\n",
       "</div>"
      ],
      "text/plain": [
       "      state  district               market commodity variety arrival_date  \\\n",
       "109  Odisha  Keonjhar  Keonjhar(Dhekikote)      Goat   Other   01/01/2022   \n",
       "\n",
       "     min_price  max_price  modal_price  \n",
       "109       1500       3500         1500  "
      ]
     },
     "execution_count": 17,
     "metadata": {},
     "output_type": "execute_result"
    }
   ],
   "source": [
    "df.loc[(df['commodity']=='Goat') & (df['variety']=='Other') & (df['market']=='Keonjhar(Dhekikote)') & (df['district']=='Keonjhar') & (df['arrival_date']=='01/01/2022')]"
   ]
  },
  {
   "cell_type": "code",
   "execution_count": 18,
   "metadata": {},
   "outputs": [
    {
     "data": {
      "text/plain": [
       "Sonamura               42\n",
       "Chuliaposi             33\n",
       "Bachaibari             28\n",
       "Kalyanpur              19\n",
       "Chowmanu               19\n",
       "Sultanpur              18\n",
       "Sira                   18\n",
       "Parlakhemundi          17\n",
       "Jafarganj              17\n",
       "Masli                  17\n",
       "Keonjhar(Dhekikote)    17\n",
       "Palus                  15\n",
       "Teliamura              14\n",
       "Kulai                  14\n",
       "Gubbi                  10\n",
       "Talcher                 9\n",
       "Ramdurga                8\n",
       "Bagepalli               7\n",
       "Junnar(Bhlhe)           6\n",
       "Turvekere               5\n",
       "Angaura                 5\n",
       "Varud(Rajura Bazar)     2\n",
       "Annigeri                2\n",
       "H.B. Halli              1\n",
       "Bhor                    1\n",
       "Anajngaon               1\n",
       "Hirekerur               1\n",
       "Channarayapatna         1\n",
       "Name: market, dtype: int64"
      ]
     },
     "execution_count": 18,
     "metadata": {},
     "output_type": "execute_result"
    }
   ],
   "source": [
    "df.market.value_counts()"
   ]
  },
  {
   "cell_type": "code",
   "execution_count": 19,
   "metadata": {},
   "outputs": [
    {
     "data": {
      "text/html": [
       "<div>\n",
       "<style scoped>\n",
       "    .dataframe tbody tr th:only-of-type {\n",
       "        vertical-align: middle;\n",
       "    }\n",
       "\n",
       "    .dataframe tbody tr th {\n",
       "        vertical-align: top;\n",
       "    }\n",
       "\n",
       "    .dataframe thead th {\n",
       "        text-align: right;\n",
       "    }\n",
       "</style>\n",
       "<table border=\"1\" class=\"dataframe\">\n",
       "  <thead>\n",
       "    <tr style=\"text-align: right;\">\n",
       "      <th></th>\n",
       "      <th>state</th>\n",
       "      <th>district</th>\n",
       "      <th>market</th>\n",
       "      <th>commodity</th>\n",
       "      <th>variety</th>\n",
       "      <th>arrival_date</th>\n",
       "      <th>min_price</th>\n",
       "      <th>max_price</th>\n",
       "      <th>modal_price</th>\n",
       "    </tr>\n",
       "  </thead>\n",
       "  <tbody>\n",
       "    <tr>\n",
       "      <th>0</th>\n",
       "      <td>Karnataka</td>\n",
       "      <td>Belgaum</td>\n",
       "      <td>Ramdurga</td>\n",
       "      <td>Goat</td>\n",
       "      <td>Goat</td>\n",
       "      <td>23/01/2022</td>\n",
       "      <td>2500</td>\n",
       "      <td>8000</td>\n",
       "      <td>6900</td>\n",
       "    </tr>\n",
       "    <tr>\n",
       "      <th>1</th>\n",
       "      <td>Karnataka</td>\n",
       "      <td>Belgaum</td>\n",
       "      <td>Ramdurga</td>\n",
       "      <td>Goat</td>\n",
       "      <td>Goat</td>\n",
       "      <td>30/01/2022</td>\n",
       "      <td>2500</td>\n",
       "      <td>6000</td>\n",
       "      <td>4900</td>\n",
       "    </tr>\n",
       "    <tr>\n",
       "      <th>2</th>\n",
       "      <td>Karnataka</td>\n",
       "      <td>Belgaum</td>\n",
       "      <td>Ramdurga</td>\n",
       "      <td>Goat</td>\n",
       "      <td>Goat</td>\n",
       "      <td>06/02/2022</td>\n",
       "      <td>2300</td>\n",
       "      <td>6400</td>\n",
       "      <td>5700</td>\n",
       "    </tr>\n",
       "    <tr>\n",
       "      <th>3</th>\n",
       "      <td>Karnataka</td>\n",
       "      <td>Belgaum</td>\n",
       "      <td>Ramdurga</td>\n",
       "      <td>Goat</td>\n",
       "      <td>Goat</td>\n",
       "      <td>13/02/2022</td>\n",
       "      <td>3000</td>\n",
       "      <td>8100</td>\n",
       "      <td>6900</td>\n",
       "    </tr>\n",
       "    <tr>\n",
       "      <th>4</th>\n",
       "      <td>Karnataka</td>\n",
       "      <td>Belgaum</td>\n",
       "      <td>Ramdurga</td>\n",
       "      <td>Goat</td>\n",
       "      <td>Goat</td>\n",
       "      <td>20/02/2022</td>\n",
       "      <td>3000</td>\n",
       "      <td>6900</td>\n",
       "      <td>5800</td>\n",
       "    </tr>\n",
       "    <tr>\n",
       "      <th>5</th>\n",
       "      <td>Karnataka</td>\n",
       "      <td>Belgaum</td>\n",
       "      <td>Ramdurga</td>\n",
       "      <td>Goat</td>\n",
       "      <td>Goat</td>\n",
       "      <td>06/03/2022</td>\n",
       "      <td>2800</td>\n",
       "      <td>6000</td>\n",
       "      <td>5200</td>\n",
       "    </tr>\n",
       "    <tr>\n",
       "      <th>6</th>\n",
       "      <td>Karnataka</td>\n",
       "      <td>Belgaum</td>\n",
       "      <td>Ramdurga</td>\n",
       "      <td>Goat</td>\n",
       "      <td>Goat</td>\n",
       "      <td>13/03/2022</td>\n",
       "      <td>2800</td>\n",
       "      <td>7300</td>\n",
       "      <td>6900</td>\n",
       "    </tr>\n",
       "    <tr>\n",
       "      <th>7</th>\n",
       "      <td>Karnataka</td>\n",
       "      <td>Belgaum</td>\n",
       "      <td>Ramdurga</td>\n",
       "      <td>Goat</td>\n",
       "      <td>Goat</td>\n",
       "      <td>01/05/2022</td>\n",
       "      <td>3400</td>\n",
       "      <td>6900</td>\n",
       "      <td>5000</td>\n",
       "    </tr>\n",
       "    <tr>\n",
       "      <th>8</th>\n",
       "      <td>Karnataka</td>\n",
       "      <td>Bellary</td>\n",
       "      <td>H.B. Halli</td>\n",
       "      <td>Goat</td>\n",
       "      <td>Goat</td>\n",
       "      <td>31/01/2022</td>\n",
       "      <td>3500</td>\n",
       "      <td>13000</td>\n",
       "      <td>7500</td>\n",
       "    </tr>\n",
       "    <tr>\n",
       "      <th>9</th>\n",
       "      <td>Karnataka</td>\n",
       "      <td>Chikmagalur</td>\n",
       "      <td>Bagepalli</td>\n",
       "      <td>Goat</td>\n",
       "      <td>Goat</td>\n",
       "      <td>05/02/2022</td>\n",
       "      <td>4400</td>\n",
       "      <td>6200</td>\n",
       "      <td>5400</td>\n",
       "    </tr>\n",
       "  </tbody>\n",
       "</table>\n",
       "</div>"
      ],
      "text/plain": [
       "       state     district      market commodity variety arrival_date  \\\n",
       "0  Karnataka      Belgaum    Ramdurga      Goat    Goat   23/01/2022   \n",
       "1  Karnataka      Belgaum    Ramdurga      Goat    Goat   30/01/2022   \n",
       "2  Karnataka      Belgaum    Ramdurga      Goat    Goat   06/02/2022   \n",
       "3  Karnataka      Belgaum    Ramdurga      Goat    Goat   13/02/2022   \n",
       "4  Karnataka      Belgaum    Ramdurga      Goat    Goat   20/02/2022   \n",
       "5  Karnataka      Belgaum    Ramdurga      Goat    Goat   06/03/2022   \n",
       "6  Karnataka      Belgaum    Ramdurga      Goat    Goat   13/03/2022   \n",
       "7  Karnataka      Belgaum    Ramdurga      Goat    Goat   01/05/2022   \n",
       "8  Karnataka      Bellary  H.B. Halli      Goat    Goat   31/01/2022   \n",
       "9  Karnataka  Chikmagalur   Bagepalli      Goat    Goat   05/02/2022   \n",
       "\n",
       "   min_price  max_price  modal_price  \n",
       "0       2500       8000         6900  \n",
       "1       2500       6000         4900  \n",
       "2       2300       6400         5700  \n",
       "3       3000       8100         6900  \n",
       "4       3000       6900         5800  \n",
       "5       2800       6000         5200  \n",
       "6       2800       7300         6900  \n",
       "7       3400       6900         5000  \n",
       "8       3500      13000         7500  \n",
       "9       4400       6200         5400  "
      ]
     },
     "execution_count": 19,
     "metadata": {},
     "output_type": "execute_result"
    }
   ],
   "source": [
    "df.head(10)"
   ]
  },
  {
   "cell_type": "code",
   "execution_count": null,
   "metadata": {},
   "outputs": [],
   "source": []
  }
 ],
 "metadata": {
  "kernelspec": {
   "display_name": "Python 3",
   "language": "python",
   "name": "python3"
  },
  "language_info": {
   "codemirror_mode": {
    "name": "ipython",
    "version": 3
   },
   "file_extension": ".py",
   "mimetype": "text/x-python",
   "name": "python",
   "nbconvert_exporter": "python",
   "pygments_lexer": "ipython3",
   "version": "3.8.3"
  }
 },
 "nbformat": 4,
 "nbformat_minor": 4
}
