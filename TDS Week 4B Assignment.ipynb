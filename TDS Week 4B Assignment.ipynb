{
 "cells": [
  {
   "cell_type": "markdown",
   "metadata": {},
   "source": [
    "# TDS Week 4B Assignment"
   ]
  },
  {
   "cell_type": "markdown",
   "metadata": {},
   "source": [
    "# Imports"
   ]
  },
  {
   "cell_type": "code",
   "execution_count": 32,
   "metadata": {},
   "outputs": [],
   "source": [
    "# ---------- Common ------------\n",
    "import os\n",
    "import time\n",
    "import json\n",
    "import random\n",
    "import ast\n",
    "from datetime import datetime\n",
    "\n",
    "# ---------- Data Manipulation ------------\n",
    "import pandas as pd\n",
    "pd.set_option('display.max_rows', 50)\n",
    "pd.set_option('display.max_columns', None)\n",
    "import numpy as np\n",
    "\n",
    "# ---------- Data Visualization ------------\n",
    "from pandas.plotting import scatter_matrix\n",
    "from matplotlib import pyplot as plt\n",
    "import seaborn as sns\n",
    "# custom_params = {\"axes.spines.right\": False, \"axes.spines.top\": False}\n",
    "# sns.set_theme(style=\"ticks\", rc=custom_params)\n",
    "\n",
    "from sklearn.cluster import KMeans"
   ]
  },
  {
   "cell_type": "markdown",
   "metadata": {},
   "source": [
    "## Get the Data"
   ]
  },
  {
   "cell_type": "code",
   "execution_count": 2,
   "metadata": {},
   "outputs": [
    {
     "data": {
      "text/plain": [
       "['.ipynb_checkpoints',\n",
       " 'Goat_2022.csv',\n",
       " 'master_currency.csv',\n",
       " 'rainfall-dataset.csv',\n",
       " 'TDS Week 2 Assignment.ipynb',\n",
       " 'TDS Week 3 Assignment.ipynb',\n",
       " 'TDS Week 4 Assignment.ipynb',\n",
       " 'TDS Week 5 Assignment.ipynb',\n",
       " 'TDS_Week_1_Assignment.ipynb',\n",
       " 'TDS_Week_5_Dataset_1_q789.csv',\n",
       " 'TDS_Week_5_Dataset_2_q10.csv']"
      ]
     },
     "execution_count": 2,
     "metadata": {},
     "output_type": "execute_result"
    }
   ],
   "source": [
    "root_path = r\"C:\\Users\\tusha\\Jupyter_notebooks\\IITM_Term_5\\TDS\"\n",
    "os.listdir(root_path)"
   ]
  },
  {
   "cell_type": "markdown",
   "metadata": {},
   "source": [
    "### Load Data: for Q. 7,8,9"
   ]
  },
  {
   "cell_type": "code",
   "execution_count": 3,
   "metadata": {},
   "outputs": [
    {
     "name": "stdout",
     "output_type": "stream",
     "text": [
      "Data Shape: (10000, 9)\n"
     ]
    }
   ],
   "source": [
    "data_path = os.path.join(root_path, 'TDS_Week_5_Dataset_1_q789.csv')\n",
    "df = pd.read_csv(data_path)\n",
    "print(f\"Data Shape: {df.shape}\")"
   ]
  },
  {
   "cell_type": "code",
   "execution_count": 4,
   "metadata": {},
   "outputs": [
    {
     "data": {
      "text/html": [
       "<div>\n",
       "<style scoped>\n",
       "    .dataframe tbody tr th:only-of-type {\n",
       "        vertical-align: middle;\n",
       "    }\n",
       "\n",
       "    .dataframe tbody tr th {\n",
       "        vertical-align: top;\n",
       "    }\n",
       "\n",
       "    .dataframe thead th {\n",
       "        text-align: right;\n",
       "    }\n",
       "</style>\n",
       "<table border=\"1\" class=\"dataframe\">\n",
       "  <thead>\n",
       "    <tr style=\"text-align: right;\">\n",
       "      <th></th>\n",
       "      <th>UDI</th>\n",
       "      <th>Product ID</th>\n",
       "      <th>Type</th>\n",
       "      <th>Air temperature [K]</th>\n",
       "      <th>Process temperature [K]</th>\n",
       "      <th>Rotational speed [rpm]</th>\n",
       "      <th>Torque [Nm]</th>\n",
       "      <th>Tool wear [min]</th>\n",
       "      <th>Failure Type</th>\n",
       "    </tr>\n",
       "  </thead>\n",
       "  <tbody>\n",
       "    <tr>\n",
       "      <th>0</th>\n",
       "      <td>1</td>\n",
       "      <td>M14860</td>\n",
       "      <td>M</td>\n",
       "      <td>298.1</td>\n",
       "      <td>308.6</td>\n",
       "      <td>1551</td>\n",
       "      <td>42.8</td>\n",
       "      <td>0</td>\n",
       "      <td>No Failure</td>\n",
       "    </tr>\n",
       "    <tr>\n",
       "      <th>1</th>\n",
       "      <td>2</td>\n",
       "      <td>L47181</td>\n",
       "      <td>L</td>\n",
       "      <td>298.2</td>\n",
       "      <td>308.7</td>\n",
       "      <td>1408</td>\n",
       "      <td>46.3</td>\n",
       "      <td>3</td>\n",
       "      <td>No Failure</td>\n",
       "    </tr>\n",
       "    <tr>\n",
       "      <th>2</th>\n",
       "      <td>3</td>\n",
       "      <td>L47182</td>\n",
       "      <td>L</td>\n",
       "      <td>298.1</td>\n",
       "      <td>308.5</td>\n",
       "      <td>1498</td>\n",
       "      <td>49.4</td>\n",
       "      <td>5</td>\n",
       "      <td>No Failure</td>\n",
       "    </tr>\n",
       "    <tr>\n",
       "      <th>3</th>\n",
       "      <td>4</td>\n",
       "      <td>L47183</td>\n",
       "      <td>L</td>\n",
       "      <td>298.2</td>\n",
       "      <td>308.6</td>\n",
       "      <td>1433</td>\n",
       "      <td>39.5</td>\n",
       "      <td>7</td>\n",
       "      <td>No Failure</td>\n",
       "    </tr>\n",
       "    <tr>\n",
       "      <th>4</th>\n",
       "      <td>5</td>\n",
       "      <td>L47184</td>\n",
       "      <td>L</td>\n",
       "      <td>298.2</td>\n",
       "      <td>308.7</td>\n",
       "      <td>1408</td>\n",
       "      <td>40.0</td>\n",
       "      <td>9</td>\n",
       "      <td>No Failure</td>\n",
       "    </tr>\n",
       "  </tbody>\n",
       "</table>\n",
       "</div>"
      ],
      "text/plain": [
       "   UDI Product ID Type  Air temperature [K]  Process temperature [K]  \\\n",
       "0    1     M14860    M                298.1                    308.6   \n",
       "1    2     L47181    L                298.2                    308.7   \n",
       "2    3     L47182    L                298.1                    308.5   \n",
       "3    4     L47183    L                298.2                    308.6   \n",
       "4    5     L47184    L                298.2                    308.7   \n",
       "\n",
       "   Rotational speed [rpm]  Torque [Nm]  Tool wear [min] Failure Type  \n",
       "0                    1551         42.8                0   No Failure  \n",
       "1                    1408         46.3                3   No Failure  \n",
       "2                    1498         49.4                5   No Failure  \n",
       "3                    1433         39.5                7   No Failure  \n",
       "4                    1408         40.0                9   No Failure  "
      ]
     },
     "execution_count": 4,
     "metadata": {},
     "output_type": "execute_result"
    }
   ],
   "source": [
    "df.head()"
   ]
  },
  {
   "cell_type": "code",
   "execution_count": 5,
   "metadata": {},
   "outputs": [
    {
     "data": {
      "text/plain": [
       "UDI                        0\n",
       "Product ID                 0\n",
       "Type                       0\n",
       "Air temperature [K]        0\n",
       "Process temperature [K]    0\n",
       "Rotational speed [rpm]     0\n",
       "Torque [Nm]                0\n",
       "Tool wear [min]            0\n",
       "Failure Type               0\n",
       "dtype: int64"
      ]
     },
     "execution_count": 5,
     "metadata": {},
     "output_type": "execute_result"
    }
   ],
   "source": [
    "df.isnull().sum(axis=0)"
   ]
  },
  {
   "cell_type": "code",
   "execution_count": 6,
   "metadata": {},
   "outputs": [
    {
     "name": "stdout",
     "output_type": "stream",
     "text": [
      "<class 'pandas.core.frame.DataFrame'>\n",
      "RangeIndex: 10000 entries, 0 to 9999\n",
      "Data columns (total 9 columns):\n",
      " #   Column                   Non-Null Count  Dtype  \n",
      "---  ------                   --------------  -----  \n",
      " 0   UDI                      10000 non-null  int64  \n",
      " 1   Product ID               10000 non-null  object \n",
      " 2   Type                     10000 non-null  object \n",
      " 3   Air temperature [K]      10000 non-null  float64\n",
      " 4   Process temperature [K]  10000 non-null  float64\n",
      " 5   Rotational speed [rpm]   10000 non-null  int64  \n",
      " 6   Torque [Nm]              10000 non-null  float64\n",
      " 7   Tool wear [min]          10000 non-null  int64  \n",
      " 8   Failure Type             10000 non-null  object \n",
      "dtypes: float64(3), int64(3), object(3)\n",
      "memory usage: 703.2+ KB\n"
     ]
    }
   ],
   "source": [
    "df.info()"
   ]
  },
  {
   "cell_type": "markdown",
   "metadata": {},
   "source": [
    "## Questions"
   ]
  },
  {
   "cell_type": "markdown",
   "metadata": {},
   "source": [
    "### Q.7] Assume we are trying to create a binary classification problem with the column \"Failure Type\" as our target variable.If \"Heat Dissipation Failure\" in that column is true class which we replace with 1 and rest all values with 0, the ratio of 1:0 is?"
   ]
  },
  {
   "cell_type": "code",
   "execution_count": 8,
   "metadata": {},
   "outputs": [
    {
     "data": {
      "text/plain": [
       "No Failure                  9652\n",
       "Heat Dissipation Failure     112\n",
       "Power Failure                 95\n",
       "Overstrain Failure            78\n",
       "Tool Wear Failure             45\n",
       "Random Failures               18\n",
       "Name: Failure Type, dtype: int64"
      ]
     },
     "execution_count": 8,
     "metadata": {},
     "output_type": "execute_result"
    }
   ],
   "source": [
    "df[\"Failure Type\"].value_counts()"
   ]
  },
  {
   "cell_type": "code",
   "execution_count": 12,
   "metadata": {},
   "outputs": [],
   "source": [
    "# Heat Dissipation Failure     112\n",
    "# Rest all                    9888\n",
    "# answer --> 112 : 9888"
   ]
  },
  {
   "cell_type": "markdown",
   "metadata": {},
   "source": [
    "### Q.8] Assume we are trying to create a binary classification problem with the column \"Failure Type\" as our target variable.If \"Random Failures\" in that column is true class which we replace with 1 and rest all values with 0, the ratio of 1:0 is?"
   ]
  },
  {
   "cell_type": "code",
   "execution_count": 13,
   "metadata": {},
   "outputs": [
    {
     "data": {
      "text/plain": [
       "No Failure                  9652\n",
       "Heat Dissipation Failure     112\n",
       "Power Failure                 95\n",
       "Overstrain Failure            78\n",
       "Tool Wear Failure             45\n",
       "Random Failures               18\n",
       "Name: Failure Type, dtype: int64"
      ]
     },
     "execution_count": 13,
     "metadata": {},
     "output_type": "execute_result"
    }
   ],
   "source": [
    "df[\"Failure Type\"].value_counts()"
   ]
  },
  {
   "cell_type": "code",
   "execution_count": 15,
   "metadata": {},
   "outputs": [],
   "source": [
    "# Random Failures               18\n",
    "# Rest all                    9982\n",
    "# answer --> 18 : 9982"
   ]
  },
  {
   "cell_type": "markdown",
   "metadata": {},
   "source": [
    "### Q.9] You have decided to remove outliers using IQR.On the base dataset, if you had applied IQR on the variable \"Rotational speed [rpm]\" and removed outliers, the resulting dataset has how many rows?"
   ]
  },
  {
   "cell_type": "code",
   "execution_count": 25,
   "metadata": {},
   "outputs": [
    {
     "data": {
      "image/png": "[encoded data removed]",
      "text/plain": [
       "<Figure size 500x900 with 1 Axes>"
      ]
     },
     "metadata": {},
     "output_type": "display_data"
    }
   ],
   "source": [
    "plt.figure(figsize=(5,9))\n",
    "plt.boxplot(df[\"Rotational speed [rpm]\"])\n",
    "plt.ylabel(\"Speed $rpm$\")\n",
    "plt.xticks([1], [\"Rotational speed\"])\n",
    "plt.title(\"Rotational speed boxplot\")\n",
    "plt.grid()\n",
    "plt.show()"
   ]
  },
  {
   "cell_type": "code",
   "execution_count": 26,
   "metadata": {},
   "outputs": [
    {
     "data": {
      "text/plain": [
       "418"
      ]
     },
     "execution_count": 26,
     "metadata": {},
     "output_type": "execute_result"
    }
   ],
   "source": [
    "Q1 = df[\"Rotational speed [rpm]\"].quantile(0.25)\n",
    "Q3 = df[\"Rotational speed [rpm]\"].quantile(0.75)\n",
    "IQR = Q3 - Q1\n",
    "((df[\"Rotational speed [rpm]\"] < (Q1 - 1.5 * IQR)) | (df[\"Rotational speed [rpm]\"] > (Q3 + 1.5 * IQR))).sum()"
   ]
  },
  {
   "cell_type": "code",
   "execution_count": 27,
   "metadata": {},
   "outputs": [
    {
     "data": {
      "text/plain": [
       "9582"
      ]
     },
     "execution_count": 27,
     "metadata": {},
     "output_type": "execute_result"
    }
   ],
   "source": [
    "df.shape[0] - 418"
   ]
  },
  {
   "cell_type": "markdown",
   "metadata": {},
   "source": [
    "### Load Data: for Q.10"
   ]
  },
  {
   "cell_type": "code",
   "execution_count": 28,
   "metadata": {},
   "outputs": [
    {
     "name": "stdout",
     "output_type": "stream",
     "text": [
      "Data Shape: (1225, 11)\n"
     ]
    }
   ],
   "source": [
    "data_path = os.path.join(root_path, 'TDS_Week_5_Dataset_2_q10.csv')\n",
    "df = pd.read_csv(data_path)\n",
    "print(f\"Data Shape: {df.shape}\")"
   ]
  },
  {
   "cell_type": "code",
   "execution_count": 29,
   "metadata": {},
   "outputs": [
    {
     "data": {
      "text/html": [
       "<div>\n",
       "<style scoped>\n",
       "    .dataframe tbody tr th:only-of-type {\n",
       "        vertical-align: middle;\n",
       "    }\n",
       "\n",
       "    .dataframe tbody tr th {\n",
       "        vertical-align: top;\n",
       "    }\n",
       "\n",
       "    .dataframe thead th {\n",
       "        text-align: right;\n",
       "    }\n",
       "</style>\n",
       "<table border=\"1\" class=\"dataframe\">\n",
       "  <thead>\n",
       "    <tr style=\"text-align: right;\">\n",
       "      <th></th>\n",
       "      <th>record number</th>\n",
       "      <th>Price</th>\n",
       "      <th>Market Cap</th>\n",
       "      <th>Free Float Market Cap %</th>\n",
       "      <th>6m ADV</th>\n",
       "      <th>RoE %</th>\n",
       "      <th>RoCE %</th>\n",
       "      <th>EBIT Margin %</th>\n",
       "      <th>EPS</th>\n",
       "      <th>PAT %</th>\n",
       "      <th>Stock Return %</th>\n",
       "    </tr>\n",
       "  </thead>\n",
       "  <tbody>\n",
       "    <tr>\n",
       "      <th>0</th>\n",
       "      <td>0</td>\n",
       "      <td>0.001319</td>\n",
       "      <td>0.001970</td>\n",
       "      <td>0.826221</td>\n",
       "      <td>0.021519</td>\n",
       "      <td>0.000000</td>\n",
       "      <td>0.476845</td>\n",
       "      <td>0.038117</td>\n",
       "      <td>0.000701</td>\n",
       "      <td>0.0</td>\n",
       "      <td>0.268651</td>\n",
       "    </tr>\n",
       "    <tr>\n",
       "      <th>1</th>\n",
       "      <td>1</td>\n",
       "      <td>0.000769</td>\n",
       "      <td>0.000579</td>\n",
       "      <td>0.441647</td>\n",
       "      <td>0.003081</td>\n",
       "      <td>0.000000</td>\n",
       "      <td>0.232072</td>\n",
       "      <td>0.000000</td>\n",
       "      <td>0.025832</td>\n",
       "      <td>0.0</td>\n",
       "      <td>0.190937</td>\n",
       "    </tr>\n",
       "    <tr>\n",
       "      <th>2</th>\n",
       "      <td>2</td>\n",
       "      <td>0.000132</td>\n",
       "      <td>0.000316</td>\n",
       "      <td>0.655003</td>\n",
       "      <td>0.000778</td>\n",
       "      <td>0.065568</td>\n",
       "      <td>0.000000</td>\n",
       "      <td>0.000000</td>\n",
       "      <td>0.001083</td>\n",
       "      <td>0.0</td>\n",
       "      <td>0.122265</td>\n",
       "    </tr>\n",
       "    <tr>\n",
       "      <th>3</th>\n",
       "      <td>3</td>\n",
       "      <td>0.000824</td>\n",
       "      <td>0.007208</td>\n",
       "      <td>0.000533</td>\n",
       "      <td>0.000252</td>\n",
       "      <td>0.408417</td>\n",
       "      <td>0.416031</td>\n",
       "      <td>0.000000</td>\n",
       "      <td>0.000918</td>\n",
       "      <td>0.0</td>\n",
       "      <td>0.100503</td>\n",
       "    </tr>\n",
       "    <tr>\n",
       "      <th>4</th>\n",
       "      <td>4</td>\n",
       "      <td>0.000596</td>\n",
       "      <td>0.000358</td>\n",
       "      <td>0.805526</td>\n",
       "      <td>0.003378</td>\n",
       "      <td>0.116626</td>\n",
       "      <td>0.474160</td>\n",
       "      <td>0.067420</td>\n",
       "      <td>0.029651</td>\n",
       "      <td>0.0</td>\n",
       "      <td>0.050376</td>\n",
       "    </tr>\n",
       "  </tbody>\n",
       "</table>\n",
       "</div>"
      ],
      "text/plain": [
       "   record number     Price  Market Cap  Free Float Market Cap %    6m ADV  \\\n",
       "0              0  0.001319    0.001970                 0.826221  0.021519   \n",
       "1              1  0.000769    0.000579                 0.441647  0.003081   \n",
       "2              2  0.000132    0.000316                 0.655003  0.000778   \n",
       "3              3  0.000824    0.007208                 0.000533  0.000252   \n",
       "4              4  0.000596    0.000358                 0.805526  0.003378   \n",
       "\n",
       "      RoE %    RoCE %  EBIT Margin %       EPS  PAT %  Stock Return %  \n",
       "0  0.000000  0.476845       0.038117  0.000701    0.0        0.268651  \n",
       "1  0.000000  0.232072       0.000000  0.025832    0.0        0.190937  \n",
       "2  0.065568  0.000000       0.000000  0.001083    0.0        0.122265  \n",
       "3  0.408417  0.416031       0.000000  0.000918    0.0        0.100503  \n",
       "4  0.116626  0.474160       0.067420  0.029651    0.0        0.050376  "
      ]
     },
     "execution_count": 29,
     "metadata": {},
     "output_type": "execute_result"
    }
   ],
   "source": [
    "df.head()"
   ]
  },
  {
   "cell_type": "code",
   "execution_count": 30,
   "metadata": {},
   "outputs": [
    {
     "data": {
      "text/plain": [
       "record number              0\n",
       "Price                      0\n",
       "Market Cap                 0\n",
       "Free Float Market Cap %    0\n",
       "6m ADV                     0\n",
       "RoE %                      0\n",
       "RoCE %                     0\n",
       "EBIT Margin %              0\n",
       "EPS                        0\n",
       "PAT %                      0\n",
       "Stock Return %             0\n",
       "dtype: int64"
      ]
     },
     "execution_count": 30,
     "metadata": {},
     "output_type": "execute_result"
    }
   ],
   "source": [
    "df.isnull().sum(axis=0)"
   ]
  },
  {
   "cell_type": "code",
   "execution_count": 31,
   "metadata": {},
   "outputs": [
    {
     "name": "stdout",
     "output_type": "stream",
     "text": [
      "<class 'pandas.core.frame.DataFrame'>\n",
      "RangeIndex: 1225 entries, 0 to 1224\n",
      "Data columns (total 11 columns):\n",
      " #   Column                   Non-Null Count  Dtype  \n",
      "---  ------                   --------------  -----  \n",
      " 0   record number            1225 non-null   int64  \n",
      " 1   Price                    1225 non-null   float64\n",
      " 2   Market Cap               1225 non-null   float64\n",
      " 3   Free Float Market Cap %  1225 non-null   float64\n",
      " 4   6m ADV                   1225 non-null   float64\n",
      " 5   RoE %                    1225 non-null   float64\n",
      " 6   RoCE %                   1225 non-null   float64\n",
      " 7   EBIT Margin %            1225 non-null   float64\n",
      " 8   EPS                      1225 non-null   float64\n",
      " 9   PAT %                    1225 non-null   float64\n",
      " 10  Stock Return %           1225 non-null   float64\n",
      "dtypes: float64(10), int64(1)\n",
      "memory usage: 105.4 KB\n"
     ]
    }
   ],
   "source": [
    "df.info()"
   ]
  },
  {
   "cell_type": "markdown",
   "metadata": {},
   "source": [
    "### Q.10] The dataset stockdatascaled.csv contains details of stocks of different companies. For your convenience, the dataset is already standardized. Please do a 7 cluster kmeans exercise on this dataset. Of the following pairs of records (see the ‘record’ column in the dataset) from this dataset, which pair belongs to the same cluster? (Note: the first column ‘record’ is not to be used in the clustering exercise. Also, please do set the seed to 1729 before running the k-means clustering).?"
   ]
  },
  {
   "cell_type": "code",
   "execution_count": 54,
   "metadata": {},
   "outputs": [],
   "source": [
    "features = ['Price', 'Market Cap', 'Free Float Market Cap %', '6m ADV', 'RoE %', 'RoCE %', 'EBIT Margin %', 'EPS', 'PAT %', 'Stock Return %']\n",
    "kmeans = KMeans(n_clusters=7, random_state=1729)\n",
    "identified_clusters = kmeans.fit_predict(df[features])"
   ]
  },
  {
   "cell_type": "code",
   "execution_count": 55,
   "metadata": {},
   "outputs": [
    {
     "data": {
      "text/plain": [
       "array([6, 6, 6, ..., 3, 3, 1])"
      ]
     },
     "execution_count": 55,
     "metadata": {},
     "output_type": "execute_result"
    }
   ],
   "source": [
    "identified_clusters"
   ]
  },
  {
   "cell_type": "code",
   "execution_count": 56,
   "metadata": {},
   "outputs": [],
   "source": [
    "df[\"cluster\"] = identified_clusters"
   ]
  },
  {
   "cell_type": "code",
   "execution_count": 57,
   "metadata": {},
   "outputs": [
    {
     "data": {
      "text/html": [
       "<div>\n",
       "<style scoped>\n",
       "    .dataframe tbody tr th:only-of-type {\n",
       "        vertical-align: middle;\n",
       "    }\n",
       "\n",
       "    .dataframe tbody tr th {\n",
       "        vertical-align: top;\n",
       "    }\n",
       "\n",
       "    .dataframe thead th {\n",
       "        text-align: right;\n",
       "    }\n",
       "</style>\n",
       "<table border=\"1\" class=\"dataframe\">\n",
       "  <thead>\n",
       "    <tr style=\"text-align: right;\">\n",
       "      <th></th>\n",
       "      <th>record number</th>\n",
       "      <th>Price</th>\n",
       "      <th>Market Cap</th>\n",
       "      <th>Free Float Market Cap %</th>\n",
       "      <th>6m ADV</th>\n",
       "      <th>RoE %</th>\n",
       "      <th>RoCE %</th>\n",
       "      <th>EBIT Margin %</th>\n",
       "      <th>EPS</th>\n",
       "      <th>PAT %</th>\n",
       "      <th>Stock Return %</th>\n",
       "      <th>cluster</th>\n",
       "    </tr>\n",
       "  </thead>\n",
       "  <tbody>\n",
       "    <tr>\n",
       "      <th>0</th>\n",
       "      <td>0</td>\n",
       "      <td>0.001319</td>\n",
       "      <td>0.001970</td>\n",
       "      <td>0.826221</td>\n",
       "      <td>0.021519</td>\n",
       "      <td>0.000000</td>\n",
       "      <td>0.476845</td>\n",
       "      <td>0.038117</td>\n",
       "      <td>0.000701</td>\n",
       "      <td>0.0</td>\n",
       "      <td>0.268651</td>\n",
       "      <td>6</td>\n",
       "    </tr>\n",
       "    <tr>\n",
       "      <th>1</th>\n",
       "      <td>1</td>\n",
       "      <td>0.000769</td>\n",
       "      <td>0.000579</td>\n",
       "      <td>0.441647</td>\n",
       "      <td>0.003081</td>\n",
       "      <td>0.000000</td>\n",
       "      <td>0.232072</td>\n",
       "      <td>0.000000</td>\n",
       "      <td>0.025832</td>\n",
       "      <td>0.0</td>\n",
       "      <td>0.190937</td>\n",
       "      <td>6</td>\n",
       "    </tr>\n",
       "    <tr>\n",
       "      <th>2</th>\n",
       "      <td>2</td>\n",
       "      <td>0.000132</td>\n",
       "      <td>0.000316</td>\n",
       "      <td>0.655003</td>\n",
       "      <td>0.000778</td>\n",
       "      <td>0.065568</td>\n",
       "      <td>0.000000</td>\n",
       "      <td>0.000000</td>\n",
       "      <td>0.001083</td>\n",
       "      <td>0.0</td>\n",
       "      <td>0.122265</td>\n",
       "      <td>6</td>\n",
       "    </tr>\n",
       "    <tr>\n",
       "      <th>3</th>\n",
       "      <td>3</td>\n",
       "      <td>0.000824</td>\n",
       "      <td>0.007208</td>\n",
       "      <td>0.000533</td>\n",
       "      <td>0.000252</td>\n",
       "      <td>0.408417</td>\n",
       "      <td>0.416031</td>\n",
       "      <td>0.000000</td>\n",
       "      <td>0.000918</td>\n",
       "      <td>0.0</td>\n",
       "      <td>0.100503</td>\n",
       "      <td>6</td>\n",
       "    </tr>\n",
       "    <tr>\n",
       "      <th>4</th>\n",
       "      <td>4</td>\n",
       "      <td>0.000596</td>\n",
       "      <td>0.000358</td>\n",
       "      <td>0.805526</td>\n",
       "      <td>0.003378</td>\n",
       "      <td>0.116626</td>\n",
       "      <td>0.474160</td>\n",
       "      <td>0.067420</td>\n",
       "      <td>0.029651</td>\n",
       "      <td>0.0</td>\n",
       "      <td>0.050376</td>\n",
       "      <td>6</td>\n",
       "    </tr>\n",
       "  </tbody>\n",
       "</table>\n",
       "</div>"
      ],
      "text/plain": [
       "   record number     Price  Market Cap  Free Float Market Cap %    6m ADV  \\\n",
       "0              0  0.001319    0.001970                 0.826221  0.021519   \n",
       "1              1  0.000769    0.000579                 0.441647  0.003081   \n",
       "2              2  0.000132    0.000316                 0.655003  0.000778   \n",
       "3              3  0.000824    0.007208                 0.000533  0.000252   \n",
       "4              4  0.000596    0.000358                 0.805526  0.003378   \n",
       "\n",
       "      RoE %    RoCE %  EBIT Margin %       EPS  PAT %  Stock Return %  cluster  \n",
       "0  0.000000  0.476845       0.038117  0.000701    0.0        0.268651        6  \n",
       "1  0.000000  0.232072       0.000000  0.025832    0.0        0.190937        6  \n",
       "2  0.065568  0.000000       0.000000  0.001083    0.0        0.122265        6  \n",
       "3  0.408417  0.416031       0.000000  0.000918    0.0        0.100503        6  \n",
       "4  0.116626  0.474160       0.067420  0.029651    0.0        0.050376        6  "
      ]
     },
     "execution_count": 57,
     "metadata": {},
     "output_type": "execute_result"
    }
   ],
   "source": [
    "df.head()"
   ]
  },
  {
   "cell_type": "code",
   "execution_count": 58,
   "metadata": {},
   "outputs": [
    {
     "data": {
      "text/html": [
       "<div>\n",
       "<style scoped>\n",
       "    .dataframe tbody tr th:only-of-type {\n",
       "        vertical-align: middle;\n",
       "    }\n",
       "\n",
       "    .dataframe tbody tr th {\n",
       "        vertical-align: top;\n",
       "    }\n",
       "\n",
       "    .dataframe thead th {\n",
       "        text-align: right;\n",
       "    }\n",
       "</style>\n",
       "<table border=\"1\" class=\"dataframe\">\n",
       "  <thead>\n",
       "    <tr style=\"text-align: right;\">\n",
       "      <th></th>\n",
       "      <th>record number</th>\n",
       "      <th>cluster</th>\n",
       "    </tr>\n",
       "  </thead>\n",
       "  <tbody>\n",
       "    <tr>\n",
       "      <th>148</th>\n",
       "      <td>148</td>\n",
       "      <td>3</td>\n",
       "    </tr>\n",
       "  </tbody>\n",
       "</table>\n",
       "</div>"
      ],
      "text/plain": [
       "     record number  cluster\n",
       "148            148        3"
      ]
     },
     "execution_count": 58,
     "metadata": {},
     "output_type": "execute_result"
    }
   ],
   "source": [
    "df.loc[df[\"record number\"]==148, [\"record number\", \"cluster\"]].head(1)"
   ]
  },
  {
   "cell_type": "code",
   "execution_count": 59,
   "metadata": {},
   "outputs": [
    {
     "name": "stdout",
     "output_type": "stream",
     "text": [
      "Clusters: 148-3 \t\t 499-1\n",
      "Clusters: 131-1 \t\t 1028-1\n",
      "Clusters: 208-3 \t\t 752-0\n",
      "Clusters: 832-0 \t\t 742-1\n"
     ]
    }
   ],
   "source": [
    "options = [[148,499], [131,1028], [208,752], [832,742]]\n",
    "for pair in options:\n",
    "    a = df.loc[df[\"record number\"]==pair[0]].head(1)[\"cluster\"].values[0]\n",
    "    b = df.loc[df[\"record number\"]==pair[1]].head(1)[\"cluster\"].values[0]\n",
    "    print(f\"Clusters: {pair[0]}-{a} \\t\\t {pair[1]}-{b}\")"
   ]
  },
  {
   "cell_type": "markdown",
   "metadata": {},
   "source": [
    "# END"
   ]
  }
 ],
 "metadata": {
  "kernelspec": {
   "display_name": "Python 3",
   "language": "python",
   "name": "python3"
  },
  "language_info": {
   "codemirror_mode": {
    "name": "ipython",
    "version": 3
   },
   "file_extension": ".py",
   "mimetype": "text/x-python",
   "name": "python",
   "nbconvert_exporter": "python",
   "pygments_lexer": "ipython3",
   "version": "3.8.3"
  }
 },
 "nbformat": 4,
 "nbformat_minor": 4
}
