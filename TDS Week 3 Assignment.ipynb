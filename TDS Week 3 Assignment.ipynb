{
 "cells": [
  {
   "cell_type": "markdown",
   "metadata": {},
   "source": [
    "# TDS Week 3 Assignment"
   ]
  },
  {
   "cell_type": "markdown",
   "metadata": {},
   "source": [
    "# Imports"
   ]
  },
  {
   "cell_type": "code",
   "execution_count": 5,
   "metadata": {},
   "outputs": [],
   "source": [
    "# ---------- Common ------------\n",
    "import os\n",
    "import time\n",
    "import json\n",
    "import random\n",
    "import ast\n",
    "from datetime import datetime\n",
    "\n",
    "# ---------- Data Manipulation ------------\n",
    "import pandas as pd\n",
    "pd.set_option('display.max_rows', 50)\n",
    "pd.set_option('display.max_columns', None)\n",
    "import numpy as np\n",
    "\n",
    "# import pandas_profiling\n",
    "# from pandas_profiling import ProfileReport"
   ]
  },
  {
   "cell_type": "markdown",
   "metadata": {},
   "source": [
    "## Common helper functions"
   ]
  },
  {
   "cell_type": "code",
   "execution_count": 2,
   "metadata": {},
   "outputs": [],
   "source": [
    "def display_scores(scores):\n",
    "    print(f'Scores: {scores}')\n",
    "    print(f'Mean: {scores.mean()}')\n",
    "    print(f'Std Dev: {scores.std()}')\n",
    "    return"
   ]
  },
  {
   "cell_type": "markdown",
   "metadata": {},
   "source": [
    "## Clean Excel"
   ]
  },
  {
   "cell_type": "code",
   "execution_count": 1,
   "metadata": {},
   "outputs": [],
   "source": [
    "# trim white spaces: =TRIM(<cell value>)\n",
    "# remove duplicate: copy column to new sheet -> select column -> Data tab -> remove dupicates\n",
    "# delete rows with blank cells: select column -> Home tab -> find and select -> go to special -> blank -> right click -> delete\n"
   ]
  },
  {
   "cell_type": "code",
   "execution_count": 2,
   "metadata": {},
   "outputs": [],
   "source": [
    "# Text to column : split single column to multiple\n",
    "# slect column -> go to data tab -> select text to column \n",
    "# -> select delimiter -> ok\n",
    "# repeat till desired results obtained"
   ]
  },
  {
   "cell_type": "code",
   "execution_count": 3,
   "metadata": {},
   "outputs": [],
   "source": [
    "# use pivot tables, sparklines, color scales, databars"
   ]
  },
  {
   "cell_type": "markdown",
   "metadata": {},
   "source": [
    "## Pandas Profiling"
   ]
  },
  {
   "cell_type": "code",
   "execution_count": 2,
   "metadata": {
    "colab": {
     "base_uri": "https://localhost:8080/",
     "height": 504
    },
    "id": "dDXvcWdQFj1j",
    "outputId": "53a3ef22-4e76-41c9-808d-97763ce1df60"
   },
   "outputs": [
    {
     "data": {
      "text/html": [
       "<div>\n",
       "<style scoped>\n",
       "    .dataframe tbody tr th:only-of-type {\n",
       "        vertical-align: middle;\n",
       "    }\n",
       "\n",
       "    .dataframe tbody tr th {\n",
       "        vertical-align: top;\n",
       "    }\n",
       "\n",
       "    .dataframe thead th {\n",
       "        text-align: right;\n",
       "    }\n",
       "</style>\n",
       "<table border=\"1\" class=\"dataframe\">\n",
       "  <thead>\n",
       "    <tr style=\"text-align: right;\">\n",
       "      <th></th>\n",
       "      <th>City[a]</th>\n",
       "      <th>Country</th>\n",
       "      <th>UN 2018 population estimates[b]</th>\n",
       "      <th>City proper[c] Definition</th>\n",
       "      <th>City proper[c] Population</th>\n",
       "      <th>City proper[c] Area (km2)</th>\n",
       "      <th>City proper[c] Density (/km2)</th>\n",
       "      <th>Metropolitan area[d] Population</th>\n",
       "      <th>Metropolitan area[d] Area (km2)</th>\n",
       "      <th>Metropolitan area[d] Density (/km2)</th>\n",
       "      <th>Urban area[12] Population</th>\n",
       "      <th>Urban area[12] Area (km2)</th>\n",
       "      <th>Urban area[12] Density (/km2)</th>\n",
       "    </tr>\n",
       "  </thead>\n",
       "  <tbody>\n",
       "    <tr>\n",
       "      <th>0</th>\n",
       "      <td>Tokyo</td>\n",
       "      <td>Japan</td>\n",
       "      <td>37400068</td>\n",
       "      <td>Metropolis prefecture</td>\n",
       "      <td>13515271.0</td>\n",
       "      <td>2191.0</td>\n",
       "      <td>6169.0</td>\n",
       "      <td>37274000.0</td>\n",
       "      <td>13452.0</td>\n",
       "      <td>2771.0</td>\n",
       "      <td>39105000.0</td>\n",
       "      <td>8231.0</td>\n",
       "      <td>4751.0</td>\n",
       "    </tr>\n",
       "    <tr>\n",
       "      <th>1</th>\n",
       "      <td>Delhi</td>\n",
       "      <td>India</td>\n",
       "      <td>28514000</td>\n",
       "      <td>Capital City</td>\n",
       "      <td>16753235.0</td>\n",
       "      <td>1484.0</td>\n",
       "      <td>11289.0</td>\n",
       "      <td>29000000.0</td>\n",
       "      <td>3483.0</td>\n",
       "      <td>8326.0</td>\n",
       "      <td>31870000.0</td>\n",
       "      <td>2233.0</td>\n",
       "      <td>14272.0</td>\n",
       "    </tr>\n",
       "    <tr>\n",
       "      <th>2</th>\n",
       "      <td>Seoul</td>\n",
       "      <td>South Korea</td>\n",
       "      <td>25674800</td>\n",
       "      <td>Special city</td>\n",
       "      <td>10013781.0</td>\n",
       "      <td>605.0</td>\n",
       "      <td>16208.0</td>\n",
       "      <td>25514000.0</td>\n",
       "      <td>11704.0</td>\n",
       "      <td>2180.0</td>\n",
       "      <td>22394000.0</td>\n",
       "      <td>2769.0</td>\n",
       "      <td>8087.0</td>\n",
       "    </tr>\n",
       "  </tbody>\n",
       "</table>\n",
       "</div>"
      ],
      "text/plain": [
       "  City[a]      Country  UN 2018 population estimates[b]  \\\n",
       "0   Tokyo        Japan                         37400068   \n",
       "1   Delhi        India                         28514000   \n",
       "2   Seoul  South Korea                         25674800   \n",
       "\n",
       "  City proper[c] Definition  City proper[c] Population  \\\n",
       "0     Metropolis prefecture                 13515271.0   \n",
       "1              Capital City                 16753235.0   \n",
       "2              Special city                 10013781.0   \n",
       "\n",
       "   City proper[c] Area (km2)  City proper[c] Density (/km2)  \\\n",
       "0                     2191.0                         6169.0   \n",
       "1                     1484.0                        11289.0   \n",
       "2                      605.0                        16208.0   \n",
       "\n",
       "   Metropolitan area[d] Population  Metropolitan area[d] Area (km2)  \\\n",
       "0                       37274000.0                          13452.0   \n",
       "1                       29000000.0                           3483.0   \n",
       "2                       25514000.0                          11704.0   \n",
       "\n",
       "   Metropolitan area[d] Density (/km2)  Urban area[12] Population  \\\n",
       "0                               2771.0                 39105000.0   \n",
       "1                               8326.0                 31870000.0   \n",
       "2                               2180.0                 22394000.0   \n",
       "\n",
       "   Urban area[12] Area (km2)  Urban area[12] Density (/km2)  \n",
       "0                     8231.0                         4751.0  \n",
       "1                     2233.0                        14272.0  \n",
       "2                     2769.0                         8087.0  "
      ]
     },
     "execution_count": 2,
     "metadata": {},
     "output_type": "execute_result"
    }
   ],
   "source": [
    "url='https://drive.google.com/file/d/1KjrSid8AfVggkCX3pmcpRE-OAi8CHVUr/view?usp=sharing'\n",
    "url2='https://drive.google.com/uc?id=' + url.split('/')[-2]\n",
    "df = pd.read_csv(url2,encoding='latin-1')\n",
    "# OR df = pd.read_csv(\"ExcelScraping_Final_for_pandas_profiling.csv\",encoding='latin-1')\n",
    "df.head(3)"
   ]
  },
  {
   "cell_type": "code",
   "execution_count": 6,
   "metadata": {
    "colab": {
     "base_uri": "https://localhost:8080/",
     "height": 145,
     "referenced_widgets": [
      "e18cac0e29c74d7b9378981057b161fc",
      "a33c7859fff44fa683cac0f18eb21573",
      "90aaa6e6188c46dcaabfa47e703b6e1a",
      "1fe8950ab87d4782870f5a8a1927cd92",
      "d9d6d1b72b964eea86b24b9f957fb664",
      "678c9edbbbd34b28ba101ba4ad90e564",
      "57a85645409b490aa4fdd7ab397b6a2a",
      "952c42f179ad4fce847626640a5dc788",
      "86441a199f71415781e1767f86e7ee64",
      "e6a2cc6260ba4210ab995800678d13b2",
      "10a3933d60de4ef99153636eae56965e",
      "187fbab7facc45f1aacd98eb593ae49a",
      "55188d52e88348a79329d279fd1cf9bf",
      "87815cc32c9c4e54b9d9a2c7eb8ff999",
      "c93f3920dc94416b8e9a19476e27b00c",
      "676db15057e04f9488fb3ad47db38769",
      "d7b76051be1141f8b6b3fedac4f576aa",
      "117383d61f604dc7838bb8bc1360c525",
      "6ea6fda7b11e49f491b9efaf0b21a3fe",
      "556976df3aeb454b90984b874a1db32f",
      "e4498afbf3c84d59b39cd839601e65d0",
      "895e3e6e7df24f59b5e489ba1a291f08",
      "ae3ac6ba0ec74ce9801b58865bf4f4a5",
      "a1973788dfe9496b997bfd7b5126ae66",
      "55583b89775242f7b8d6e3c0ed98b549",
      "3ead383eb6eb4bc3beebfb8e7cac5d43",
      "6b1f798716d54314bdbb6921ac74d18a",
      "b08bd819b7f843c28077413413e4a92b",
      "defca9c219854ba8a33fb211e1f337f7",
      "6866a785d07742bdaa3ebd86980bfa23",
      "1b07b913b50842d4b0d9491dec1a64c4",
      "c3490fbfcf374733960d88e2bce94444",
      "2b786fe7e3824b9094ea069034bca11d",
      "788040df4dc74bb1896e7163289b156c",
      "343d34f764d446bcaf69ccdfee552859",
      "b878f1e36bdb44b0be6b456830fc0833",
      "723b1c96071047499b2c469b55030a73",
      "438ff394f087448a9e68a37d3ce81c92",
      "7b95896f18244fbd920a9340d50bbdcb",
      "8921ed92f4b6413fa97256ffc03fe69f",
      "18b3bd96bb274e209448f567c05b7342",
      "11ada0980e3741bc968a2a636aa9019d",
      "878e4b7956ba454e8efd1848c9644282",
      "7ae79abcf8d14cb6a2c02e7590f8528d"
     ]
    },
    "id": "eXvFi3SvG-vm",
    "outputId": "b9251cd8-07b3-4fc2-a429-46743102d3cf"
   },
   "outputs": [],
   "source": [
    "# prof = ProfileReport(df) # run it in colab only\n",
    "# prof.to_file('profiling_report.html')\n",
    "# files.download('report.html')"
   ]
  },
  {
   "cell_type": "markdown",
   "metadata": {},
   "source": [
    "# Assignment"
   ]
  },
  {
   "cell_type": "markdown",
   "metadata": {},
   "source": [
    "### Load Data: On data.gov.in, \"Variety-wise Daily Market Prices Data of Goat 2022\"."
   ]
  },
  {
   "cell_type": "code",
   "execution_count": 3,
   "metadata": {},
   "outputs": [
    {
     "data": {
      "text/plain": [
       "['.ipynb_checkpoints',\n",
       " 'Goat_2022.csv',\n",
       " 'rainfall-dataset.csv',\n",
       " 'TDS Week 2 Assignment.ipynb',\n",
       " 'TDS Week 3 Assignment.ipynb',\n",
       " 'TDS_Week_1_Assignment.ipynb']"
      ]
     },
     "execution_count": 3,
     "metadata": {},
     "output_type": "execute_result"
    }
   ],
   "source": [
    "root_path = r\"C:\\Users\\tusha\\Jupyter_notebooks\\IITM_Term_5\\TDS\"\n",
    "os.listdir(root_path)"
   ]
  },
  {
   "cell_type": "code",
   "execution_count": 6,
   "metadata": {},
   "outputs": [
    {
     "name": "stdout",
     "output_type": "stream",
     "text": [
      "Data Shape: (4187, 14)\n"
     ]
    }
   ],
   "source": [
    "data_path = os.path.join(root_path, 'rainfall-dataset.csv')\n",
    "df = pd.read_csv(data_path)\n",
    "print(f\"Data Shape: {df.shape}\")"
   ]
  },
  {
   "cell_type": "code",
   "execution_count": 7,
   "metadata": {
    "collapsed": true,
    "jupyter": {
     "outputs_hidden": true
    }
   },
   "outputs": [
    {
     "data": {
      "text/html": [
       "<div>\n",
       "<style scoped>\n",
       "    .dataframe tbody tr th:only-of-type {\n",
       "        vertical-align: middle;\n",
       "    }\n",
       "\n",
       "    .dataframe tbody tr th {\n",
       "        vertical-align: top;\n",
       "    }\n",
       "\n",
       "    .dataframe thead th {\n",
       "        text-align: right;\n",
       "    }\n",
       "</style>\n",
       "<table border=\"1\" class=\"dataframe\">\n",
       "  <thead>\n",
       "    <tr style=\"text-align: right;\">\n",
       "      <th></th>\n",
       "      <th>State</th>\n",
       "      <th>YEAR</th>\n",
       "      <th>JAN</th>\n",
       "      <th>FEB</th>\n",
       "      <th>MAR</th>\n",
       "      <th>APR</th>\n",
       "      <th>MAY</th>\n",
       "      <th>JUN</th>\n",
       "      <th>JUL</th>\n",
       "      <th>AUG</th>\n",
       "      <th>SEP</th>\n",
       "      <th>OCT</th>\n",
       "      <th>NOV</th>\n",
       "      <th>DEC</th>\n",
       "    </tr>\n",
       "  </thead>\n",
       "  <tbody>\n",
       "    <tr>\n",
       "      <th>0</th>\n",
       "      <td>Andaman &amp; Nicobar Islands</td>\n",
       "      <td>1901</td>\n",
       "      <td>49.2</td>\n",
       "      <td>87.1</td>\n",
       "      <td>29.2</td>\n",
       "      <td>2.3</td>\n",
       "      <td>528.8</td>\n",
       "      <td>517.5</td>\n",
       "      <td>365.1</td>\n",
       "      <td>481.1</td>\n",
       "      <td>332.6</td>\n",
       "      <td>388.5</td>\n",
       "      <td>558.2</td>\n",
       "      <td>33.6</td>\n",
       "    </tr>\n",
       "    <tr>\n",
       "      <th>1</th>\n",
       "      <td>Andaman &amp; Nicobar Islands</td>\n",
       "      <td>1902</td>\n",
       "      <td>0.0</td>\n",
       "      <td>159.8</td>\n",
       "      <td>12.2</td>\n",
       "      <td>0.0</td>\n",
       "      <td>446.1</td>\n",
       "      <td>537.1</td>\n",
       "      <td>228.9</td>\n",
       "      <td>753.7</td>\n",
       "      <td>666.2</td>\n",
       "      <td>197.2</td>\n",
       "      <td>359.0</td>\n",
       "      <td>160.5</td>\n",
       "    </tr>\n",
       "    <tr>\n",
       "      <th>2</th>\n",
       "      <td>Andaman &amp; Nicobar Islands</td>\n",
       "      <td>1903</td>\n",
       "      <td>12.7</td>\n",
       "      <td>144.0</td>\n",
       "      <td>0.0</td>\n",
       "      <td>1.0</td>\n",
       "      <td>235.1</td>\n",
       "      <td>479.9</td>\n",
       "      <td>728.4</td>\n",
       "      <td>326.7</td>\n",
       "      <td>339.0</td>\n",
       "      <td>181.2</td>\n",
       "      <td>284.4</td>\n",
       "      <td>225.0</td>\n",
       "    </tr>\n",
       "    <tr>\n",
       "      <th>3</th>\n",
       "      <td>Andaman &amp; Nicobar Islands</td>\n",
       "      <td>1904</td>\n",
       "      <td>9.4</td>\n",
       "      <td>14.7</td>\n",
       "      <td>0.0</td>\n",
       "      <td>202.4</td>\n",
       "      <td>304.5</td>\n",
       "      <td>495.1</td>\n",
       "      <td>502.0</td>\n",
       "      <td>160.1</td>\n",
       "      <td>820.4</td>\n",
       "      <td>222.2</td>\n",
       "      <td>308.7</td>\n",
       "      <td>40.1</td>\n",
       "    </tr>\n",
       "    <tr>\n",
       "      <th>4</th>\n",
       "      <td>Andaman &amp; Nicobar Islands</td>\n",
       "      <td>1905</td>\n",
       "      <td>1.3</td>\n",
       "      <td>0.0</td>\n",
       "      <td>3.3</td>\n",
       "      <td>26.9</td>\n",
       "      <td>279.5</td>\n",
       "      <td>628.7</td>\n",
       "      <td>368.7</td>\n",
       "      <td>330.5</td>\n",
       "      <td>297.0</td>\n",
       "      <td>260.7</td>\n",
       "      <td>25.4</td>\n",
       "      <td>344.7</td>\n",
       "    </tr>\n",
       "  </tbody>\n",
       "</table>\n",
       "</div>"
      ],
      "text/plain": [
       "                       State  YEAR   JAN    FEB   MAR    APR    MAY    JUN  \\\n",
       "0  Andaman & Nicobar Islands  1901  49.2   87.1  29.2    2.3  528.8  517.5   \n",
       "1  Andaman & Nicobar Islands  1902   0.0  159.8  12.2    0.0  446.1  537.1   \n",
       "2  Andaman & Nicobar Islands  1903  12.7  144.0   0.0    1.0  235.1  479.9   \n",
       "3  Andaman & Nicobar Islands  1904   9.4   14.7   0.0  202.4  304.5  495.1   \n",
       "4  Andaman & Nicobar Islands  1905   1.3    0.0   3.3   26.9  279.5  628.7   \n",
       "\n",
       "     JUL    AUG    SEP    OCT    NOV    DEC  \n",
       "0  365.1  481.1  332.6  388.5  558.2   33.6  \n",
       "1  228.9  753.7  666.2  197.2  359.0  160.5  \n",
       "2  728.4  326.7  339.0  181.2  284.4  225.0  \n",
       "3  502.0  160.1  820.4  222.2  308.7   40.1  \n",
       "4  368.7  330.5  297.0  260.7   25.4  344.7  "
      ]
     },
     "execution_count": 7,
     "metadata": {},
     "output_type": "execute_result"
    }
   ],
   "source": [
    "df.head()"
   ]
  },
  {
   "cell_type": "code",
   "execution_count": 8,
   "metadata": {
    "collapsed": true,
    "jupyter": {
     "outputs_hidden": true
    }
   },
   "outputs": [
    {
     "data": {
      "text/plain": [
       "State    0\n",
       "YEAR     0\n",
       "JAN      0\n",
       "FEB      0\n",
       "MAR      0\n",
       "APR      0\n",
       "MAY      0\n",
       "JUN      0\n",
       "JUL      0\n",
       "AUG      0\n",
       "SEP      0\n",
       "OCT      0\n",
       "NOV      0\n",
       "DEC      0\n",
       "dtype: int64"
      ]
     },
     "execution_count": 8,
     "metadata": {},
     "output_type": "execute_result"
    }
   ],
   "source": [
    "df.isnull().sum(axis=0)"
   ]
  },
  {
   "cell_type": "code",
   "execution_count": 9,
   "metadata": {
    "collapsed": true,
    "jupyter": {
     "outputs_hidden": true
    }
   },
   "outputs": [
    {
     "name": "stdout",
     "output_type": "stream",
     "text": [
      "<class 'pandas.core.frame.DataFrame'>\n",
      "RangeIndex: 4187 entries, 0 to 4186\n",
      "Data columns (total 14 columns):\n",
      " #   Column  Non-Null Count  Dtype  \n",
      "---  ------  --------------  -----  \n",
      " 0   State   4187 non-null   object \n",
      " 1   YEAR    4187 non-null   int64  \n",
      " 2   JAN     4187 non-null   float64\n",
      " 3   FEB     4187 non-null   float64\n",
      " 4   MAR     4187 non-null   float64\n",
      " 5   APR     4187 non-null   float64\n",
      " 6   MAY     4187 non-null   float64\n",
      " 7   JUN     4187 non-null   float64\n",
      " 8   JUL     4187 non-null   float64\n",
      " 9   AUG     4187 non-null   float64\n",
      " 10  SEP     4187 non-null   float64\n",
      " 11  OCT     4187 non-null   float64\n",
      " 12  NOV     4187 non-null   float64\n",
      " 13  DEC     4187 non-null   float64\n",
      "dtypes: float64(12), int64(1), object(1)\n",
      "memory usage: 458.1+ KB\n"
     ]
    }
   ],
   "source": [
    "df.info()"
   ]
  },
  {
   "cell_type": "code",
   "execution_count": 14,
   "metadata": {},
   "outputs": [],
   "source": [
    "df[\"Annual\"] = df['JAN']+df['FEB']+df['MAR']+df['APR']+df['MAY']+df['JUN']+df['JUL']+df['AUG']+df['SEP']+df['OCT']+df['NOV']+df['DEC']"
   ]
  },
  {
   "cell_type": "code",
   "execution_count": 18,
   "metadata": {},
   "outputs": [],
   "source": [
    "df[\"Average\"] = df[\"Annual\"]/12"
   ]
  },
  {
   "cell_type": "markdown",
   "metadata": {},
   "source": [
    "### Q.7] What is total rainfall across all years (1901-2017) for the state \"Matathwada\"assigned? \n",
    "Note: Ignore the years for which data is not available"
   ]
  },
  {
   "cell_type": "code",
   "execution_count": 17,
   "metadata": {},
   "outputs": [
    {
     "data": {
      "text/plain": [
       "92632.6"
      ]
     },
     "execution_count": 17,
     "metadata": {},
     "output_type": "execute_result"
    }
   ],
   "source": [
    "df.loc[(df['State']=='Matathwada'), \"Annual\"].sum()"
   ]
  },
  {
   "cell_type": "markdown",
   "metadata": {},
   "source": [
    "### Q.8] What is average annual rainfall across years (1901-2017) for the state \"Coastal Andhra Pradesh\"?\n",
    "Note: Ignore the years for which data is not available"
   ]
  },
  {
   "cell_type": "code",
   "execution_count": 21,
   "metadata": {},
   "outputs": [
    {
     "data": {
      "text/plain": [
       "1050.3042735042734"
      ]
     },
     "execution_count": 21,
     "metadata": {},
     "output_type": "execute_result"
    }
   ],
   "source": [
    "df.loc[(df['State']=='Coastal Andhra Pradesh'), \"Annual\"].sum()/117"
   ]
  },
  {
   "cell_type": "markdown",
   "metadata": {},
   "source": [
    "### Q.9] What is the average monthly rainfall for the state \"Bihar\" for the year \"1985\"?\n",
    "Note: Ignore the years for which data is not available"
   ]
  },
  {
   "cell_type": "code",
   "execution_count": 22,
   "metadata": {},
   "outputs": [
    {
     "data": {
      "text/html": [
       "<div>\n",
       "<style scoped>\n",
       "    .dataframe tbody tr th:only-of-type {\n",
       "        vertical-align: middle;\n",
       "    }\n",
       "\n",
       "    .dataframe tbody tr th {\n",
       "        vertical-align: top;\n",
       "    }\n",
       "\n",
       "    .dataframe thead th {\n",
       "        text-align: right;\n",
       "    }\n",
       "</style>\n",
       "<table border=\"1\" class=\"dataframe\">\n",
       "  <thead>\n",
       "    <tr style=\"text-align: right;\">\n",
       "      <th></th>\n",
       "      <th>State</th>\n",
       "      <th>YEAR</th>\n",
       "      <th>JAN</th>\n",
       "      <th>FEB</th>\n",
       "      <th>MAR</th>\n",
       "      <th>APR</th>\n",
       "      <th>MAY</th>\n",
       "      <th>JUN</th>\n",
       "      <th>JUL</th>\n",
       "      <th>AUG</th>\n",
       "      <th>SEP</th>\n",
       "      <th>OCT</th>\n",
       "      <th>NOV</th>\n",
       "      <th>DEC</th>\n",
       "      <th>Annual</th>\n",
       "      <th>Average</th>\n",
       "    </tr>\n",
       "  </thead>\n",
       "  <tbody>\n",
       "    <tr>\n",
       "      <th>997</th>\n",
       "      <td>Bihar</td>\n",
       "      <td>1985</td>\n",
       "      <td>8.8</td>\n",
       "      <td>0.5</td>\n",
       "      <td>0.5</td>\n",
       "      <td>8.0</td>\n",
       "      <td>69.2</td>\n",
       "      <td>163.2</td>\n",
       "      <td>481.5</td>\n",
       "      <td>238.0</td>\n",
       "      <td>289.0</td>\n",
       "      <td>188.0</td>\n",
       "      <td>1.2</td>\n",
       "      <td>7.1</td>\n",
       "      <td>1455.0</td>\n",
       "      <td>121.25</td>\n",
       "    </tr>\n",
       "  </tbody>\n",
       "</table>\n",
       "</div>"
      ],
      "text/plain": [
       "     State  YEAR  JAN  FEB  MAR  APR   MAY    JUN    JUL    AUG    SEP    OCT  \\\n",
       "997  Bihar  1985  8.8  0.5  0.5  8.0  69.2  163.2  481.5  238.0  289.0  188.0   \n",
       "\n",
       "     NOV  DEC  Annual  Average  \n",
       "997  1.2  7.1  1455.0   121.25  "
      ]
     },
     "execution_count": 22,
     "metadata": {},
     "output_type": "execute_result"
    }
   ],
   "source": [
    "df.loc[(df['State']=='Bihar')&(df['YEAR']==1985)]"
   ]
  },
  {
   "cell_type": "markdown",
   "metadata": {},
   "source": [
    "### Q.10] What is the annual rainfall for the state \"Rayalseema\" for the year \"1979\"?\n",
    "Note: Ignore the years for which data is not available"
   ]
  },
  {
   "cell_type": "code",
   "execution_count": 24,
   "metadata": {},
   "outputs": [
    {
     "data": {
      "text/html": [
       "<div>\n",
       "<style scoped>\n",
       "    .dataframe tbody tr th:only-of-type {\n",
       "        vertical-align: middle;\n",
       "    }\n",
       "\n",
       "    .dataframe tbody tr th {\n",
       "        vertical-align: top;\n",
       "    }\n",
       "\n",
       "    .dataframe thead th {\n",
       "        text-align: right;\n",
       "    }\n",
       "</style>\n",
       "<table border=\"1\" class=\"dataframe\">\n",
       "  <thead>\n",
       "    <tr style=\"text-align: right;\">\n",
       "      <th></th>\n",
       "      <th>State</th>\n",
       "      <th>YEAR</th>\n",
       "      <th>JAN</th>\n",
       "      <th>FEB</th>\n",
       "      <th>MAR</th>\n",
       "      <th>APR</th>\n",
       "      <th>MAY</th>\n",
       "      <th>JUN</th>\n",
       "      <th>JUL</th>\n",
       "      <th>AUG</th>\n",
       "      <th>SEP</th>\n",
       "      <th>OCT</th>\n",
       "      <th>NOV</th>\n",
       "      <th>DEC</th>\n",
       "      <th>Annual</th>\n",
       "      <th>Average</th>\n",
       "    </tr>\n",
       "  </thead>\n",
       "  <tbody>\n",
       "    <tr>\n",
       "      <th>3448</th>\n",
       "      <td>Rayalseema</td>\n",
       "      <td>1979</td>\n",
       "      <td>3.2</td>\n",
       "      <td>19.4</td>\n",
       "      <td>0.0</td>\n",
       "      <td>7.0</td>\n",
       "      <td>96.6</td>\n",
       "      <td>49.7</td>\n",
       "      <td>72.2</td>\n",
       "      <td>79.7</td>\n",
       "      <td>155.3</td>\n",
       "      <td>61.5</td>\n",
       "      <td>256.6</td>\n",
       "      <td>12.3</td>\n",
       "      <td>813.5</td>\n",
       "      <td>67.791667</td>\n",
       "    </tr>\n",
       "  </tbody>\n",
       "</table>\n",
       "</div>"
      ],
      "text/plain": [
       "           State  YEAR  JAN   FEB  MAR  APR   MAY   JUN   JUL   AUG    SEP  \\\n",
       "3448  Rayalseema  1979  3.2  19.4  0.0  7.0  96.6  49.7  72.2  79.7  155.3   \n",
       "\n",
       "       OCT    NOV   DEC  Annual    Average  \n",
       "3448  61.5  256.6  12.3   813.5  67.791667  "
      ]
     },
     "execution_count": 24,
     "metadata": {},
     "output_type": "execute_result"
    }
   ],
   "source": [
    "df.loc[(df['State']=='Rayalseema')&(df['YEAR']==1979)]"
   ]
  },
  {
   "cell_type": "markdown",
   "metadata": {},
   "source": [
    "# END"
   ]
  }
 ],
 "metadata": {
  "kernelspec": {
   "display_name": "Python 3",
   "language": "python",
   "name": "python3"
  },
  "language_info": {
   "codemirror_mode": {
    "name": "ipython",
    "version": 3
   },
   "file_extension": ".py",
   "mimetype": "text/x-python",
   "name": "python",
   "nbconvert_exporter": "python",
   "pygments_lexer": "ipython3",
   "version": "3.8.3"
  }
 },
 "nbformat": 4,
 "nbformat_minor": 4
}
