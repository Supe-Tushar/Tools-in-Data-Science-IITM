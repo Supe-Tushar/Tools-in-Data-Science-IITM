{
 "cells": [
  {
   "cell_type": "markdown",
   "metadata": {
    "id": "RjIUH6AqfChd"
   },
   "source": [
    "# Geospatial Analysis: (Folium not done by me)\n",
    "\n",
    "The objective of this tutorial is to use geospatial analysis to make decisions about opening up new restaurants(or retail stores, bank branches, airports, etc). For our analysis, we use a dataset consisting of Starbucks and McDonalds store coordinates in New York.\n",
    "\n",
    "Our tutorial consists of the following steps:\n",
    "\n",
    "\n",
    "1.   Compute the distance of the stores\n",
    "2.   Visualize data on a map\n",
    "3.   Compute number of stores located in a given radius\n",
    "4.   Compute the closest and farthest stores from Empire State Building\n",
    "\n"
   ]
  },
  {
   "cell_type": "markdown",
   "metadata": {
    "id": "HMIN9iQZs48f"
   },
   "source": [
    "# Imports"
   ]
  },
  {
   "cell_type": "code",
   "execution_count": null,
   "metadata": {
    "id": "TnL5zgcIgTki"
   },
   "outputs": [],
   "source": [
    "import pandas as pd\n",
    "import numpy as np\n",
    "import folium\n",
    "import geopy.distance"
   ]
  },
  {
   "cell_type": "code",
   "execution_count": null,
   "metadata": {
    "colab": {
     "base_uri": "https://localhost:8080/"
    },
    "id": "GyneCXkI9Grd",
    "outputId": "e3db2716-7b84-4644-9d9c-e2142148f178"
   },
   "outputs": [
    {
     "name": "stdout",
     "output_type": "stream",
     "text": [
      "Location address: Jamshedpur\n",
      "Latitude and Longitude of the said address:\n",
      "(22.8015194, 86.2029579)\n",
      "\n",
      "Location address: Kamarhati\n",
      "Latitude and Longitude of the said address:\n",
      "(22.6810246, 88.3715343)\n"
     ]
    }
   ],
   "source": [
    "from geopy.geocoders import Nominatim\n",
    "\n",
    "geolocator = Nominatim(user_agent=\"geoapiExercises\")\n",
    "ladd1 = \"Jamshedpur\"\n",
    "print(\"Location address:\",ladd1)\n",
    "l1 = geolocator.geocode(ladd1)\n",
    "print(\"Latitude and Longitude of the said address:\")\n",
    "print((l1.latitude, l1.longitude))\n",
    "\n",
    "ladd2 = \"Kamarhati\"\n",
    "print(\"\\nLocation address:\",ladd2)\n",
    "location = geolocator.geocode(ladd2)\n",
    "print(\"Latitude and Longitude of the said address:\")\n",
    "print((location.latitude, location.longitude))"
   ]
  },
  {
   "cell_type": "code",
   "execution_count": null,
   "metadata": {
    "colab": {
     "base_uri": "https://localhost:8080/"
    },
    "id": "cgF15YHU9RLN",
    "outputId": "0ca5cd2b-800e-4eb2-82a6-fdab9d5829b7"
   },
   "outputs": [
    {
     "data": {
      "text/plain": [
       "223.14669071130356"
      ]
     },
     "execution_count": 7,
     "metadata": {},
     "output_type": "execute_result"
    }
   ],
   "source": [
    "geopy.distance.distance((l1.latitude, l1.longitude), (location.latitude, location.longitude)).km\n"
   ]
  },
  {
   "cell_type": "code",
   "execution_count": null,
   "metadata": {
    "colab": {
     "base_uri": "https://localhost:8080/"
    },
    "id": "yTnN6Zekmzlt",
    "outputId": "9ee8e323-7583-472f-d3c6-298403038430"
   },
   "outputs": [
    {
     "name": "stdout",
     "output_type": "stream",
     "text": [
      "Location address: patiala\n",
      "Latitude and Longitude of the said address:\n",
      "(30.2090874, 76.3398720856221)\n",
      "\n",
      "Location address: Shimoga\n",
      "Latitude and Longitude of the said address:\n",
      "(13.9326093, 75.574978)\n"
     ]
    }
   ],
   "source": [
    "ladd1 = \"patiala\"\n",
    "print(\"Location address:\",ladd1)\n",
    "l1 = geolocator.geocode(ladd1)\n",
    "print(\"Latitude and Longitude of the said address:\")\n",
    "print((l1.latitude, l1.longitude))\n",
    "\n",
    "ladd2 = \"Shimoga\"\n",
    "print(\"\\nLocation address:\",ladd2)\n",
    "location = geolocator.geocode(ladd2)\n",
    "print(\"Latitude and Longitude of the said address:\")\n",
    "print((location.latitude, location.longitude))\n",
    "\n",
    "#ladd1 = \"Montrose\"\n",
    "#print(\"Location address:\",ladd1)\n",
    "#l1 = geolocator.geocode(ladd1)\n",
    "#print(\"Latitude and Longitude of the said address:\")\n",
    "#print((l1.latitude, l1.longitude))\n",
    "\n",
    "#ladd2 = \"Colorado\"\n",
    "#print(\"\\nLocation address:\",ladd2)\n",
    "#location = geolocator.geocode(ladd2)\n",
    "#print(\"Latitude and Longitude of the said address:\")\n",
    "#print((location.latitude, location.longitude))"
   ]
  },
  {
   "cell_type": "code",
   "execution_count": null,
   "metadata": {
    "colab": {
     "base_uri": "https://localhost:8080/"
    },
    "id": "5mzqO8ilmzdM",
    "outputId": "de134938-f1c1-439c-a0ad-e32c08df6ccf"
   },
   "outputs": [
    {
     "data": {
      "text/plain": [
       "1804.1127161797162"
      ]
     },
     "execution_count": 7,
     "metadata": {},
     "output_type": "execute_result"
    }
   ],
   "source": [
    "import geopy.distance\n",
    "\n",
    "geopy.distance.distance((l1.latitude, l1.longitude), (location.latitude, location.longitude)).km"
   ]
  },
  {
   "cell_type": "code",
   "execution_count": null,
   "metadata": {
    "colab": {
     "base_uri": "https://localhost:8080/",
     "height": 363
    },
    "id": "EC4m1egJe8Hv",
    "outputId": "ba6f6bc3-ece6-4926-9e5f-2280f5bad321"
   },
   "outputs": [
    {
     "data": {
      "text/html": [
       "\n",
       "  <div id=\"df-7753eb5c-15cd-4cb2-8ab1-d6558c55ef0e\">\n",
       "    <div class=\"colab-df-container\">\n",
       "      <div>\n",
       "<style scoped>\n",
       "    .dataframe tbody tr th:only-of-type {\n",
       "        vertical-align: middle;\n",
       "    }\n",
       "\n",
       "    .dataframe tbody tr th {\n",
       "        vertical-align: top;\n",
       "    }\n",
       "\n",
       "    .dataframe thead th {\n",
       "        text-align: right;\n",
       "    }\n",
       "</style>\n",
       "<table border=\"1\" class=\"dataframe\">\n",
       "  <thead>\n",
       "    <tr style=\"text-align: right;\">\n",
       "      <th></th>\n",
       "      <th>lat</th>\n",
       "      <th>lng</th>\n",
       "      <th>store</th>\n",
       "      <th>address</th>\n",
       "    </tr>\n",
       "  </thead>\n",
       "  <tbody>\n",
       "    <tr>\n",
       "      <th>0</th>\n",
       "      <td>40.711000</td>\n",
       "      <td>-74.000878</td>\n",
       "      <td>Starbucks</td>\n",
       "      <td>375 Pearl st, New York, NY 10038</td>\n",
       "    </tr>\n",
       "    <tr>\n",
       "      <th>1</th>\n",
       "      <td>40.707142</td>\n",
       "      <td>-74.004987</td>\n",
       "      <td>Starbucks</td>\n",
       "      <td>135 John Street, New York, NY 10038</td>\n",
       "    </tr>\n",
       "    <tr>\n",
       "      <th>2</th>\n",
       "      <td>40.708411</td>\n",
       "      <td>-74.007404</td>\n",
       "      <td>Starbucks</td>\n",
       "      <td>100 William Street, New York, NY 10038</td>\n",
       "    </tr>\n",
       "    <tr>\n",
       "      <th>3</th>\n",
       "      <td>40.711644</td>\n",
       "      <td>-74.006667</td>\n",
       "      <td>Starbucks</td>\n",
       "      <td>38 Park Row, #4, New York, NY 10038</td>\n",
       "    </tr>\n",
       "    <tr>\n",
       "      <th>4</th>\n",
       "      <td>40.710171</td>\n",
       "      <td>-74.007931</td>\n",
       "      <td>Starbucks</td>\n",
       "      <td>130 Fulton Street, New York, NY 10038</td>\n",
       "    </tr>\n",
       "    <tr>\n",
       "      <th>5</th>\n",
       "      <td>40.706316</td>\n",
       "      <td>-74.006582</td>\n",
       "      <td>Starbucks</td>\n",
       "      <td>80 Pine Street, New York, NY 10005</td>\n",
       "    </tr>\n",
       "    <tr>\n",
       "      <th>6</th>\n",
       "      <td>40.712208</td>\n",
       "      <td>-74.008192</td>\n",
       "      <td>Starbucks</td>\n",
       "      <td>233 Broadway, New York, NY 10279</td>\n",
       "    </tr>\n",
       "    <tr>\n",
       "      <th>7</th>\n",
       "      <td>40.708742</td>\n",
       "      <td>-74.009508</td>\n",
       "      <td>Starbucks</td>\n",
       "      <td>55 Liberty Street, New York, NY 10005</td>\n",
       "    </tr>\n",
       "    <tr>\n",
       "      <th>8</th>\n",
       "      <td>40.706033</td>\n",
       "      <td>-74.008348</td>\n",
       "      <td>Starbucks</td>\n",
       "      <td>60 Wall St, New York, NY 10005</td>\n",
       "    </tr>\n",
       "    <tr>\n",
       "      <th>9</th>\n",
       "      <td>40.704817</td>\n",
       "      <td>-74.007231</td>\n",
       "      <td>Starbucks</td>\n",
       "      <td>99 Wall St., New York, NY 10005</td>\n",
       "    </tr>\n",
       "  </tbody>\n",
       "</table>\n",
       "</div>\n",
       "      <button class=\"colab-df-convert\" onclick=\"convertToInteractive('df-7753eb5c-15cd-4cb2-8ab1-d6558c55ef0e')\"\n",
       "              title=\"Convert this dataframe to an interactive table.\"\n",
       "              style=\"display:none;\">\n",
       "        \n",
       "  <svg xmlns=\"http://www.w3.org/2000/svg\" height=\"24px\"viewBox=\"0 0 24 24\"\n",
       "       width=\"24px\">\n",
       "    <path d=\"M0 0h24v24H0V0z\" fill=\"none\"/>\n",
       "    <path d=\"M18.56 5.44l.94 2.06.94-2.06 2.06-.94-2.06-.94-.94-2.06-.94 2.06-2.06.94zm-11 1L8.5 8.5l.94-2.06 2.06-.94-2.06-.94L8.5 2.5l-.94 2.06-2.06.94zm10 10l.94 2.06.94-2.06 2.06-.94-2.06-.94-.94-2.06-.94 2.06-2.06.94z\"/><path d=\"M17.41 7.96l-1.37-1.37c-.4-.4-.92-.59-1.43-.59-.52 0-1.04.2-1.43.59L10.3 9.45l-7.72 7.72c-.78.78-.78 2.05 0 2.83L4 21.41c.39.39.9.59 1.41.59.51 0 1.02-.2 1.41-.59l7.78-7.78 2.81-2.81c.8-.78.8-2.07 0-2.86zM5.41 20L4 18.59l7.72-7.72 1.47 1.35L5.41 20z\"/>\n",
       "  </svg>\n",
       "      </button>\n",
       "      \n",
       "  <style>\n",
       "    .colab-df-container {\n",
       "      display:flex;\n",
       "      flex-wrap:wrap;\n",
       "      gap: 12px;\n",
       "    }\n",
       "\n",
       "    .colab-df-convert {\n",
       "      background-color: #E8F0FE;\n",
       "      border: none;\n",
       "      border-radius: 50%;\n",
       "      cursor: pointer;\n",
       "      display: none;\n",
       "      fill: #1967D2;\n",
       "      height: 32px;\n",
       "      padding: 0 0 0 0;\n",
       "      width: 32px;\n",
       "    }\n",
       "\n",
       "    .colab-df-convert:hover {\n",
       "      background-color: #E2EBFA;\n",
       "      box-shadow: 0px 1px 2px rgba(60, 64, 67, 0.3), 0px 1px 3px 1px rgba(60, 64, 67, 0.15);\n",
       "      fill: #174EA6;\n",
       "    }\n",
       "\n",
       "    [theme=dark] .colab-df-convert {\n",
       "      background-color: #3B4455;\n",
       "      fill: #D2E3FC;\n",
       "    }\n",
       "\n",
       "    [theme=dark] .colab-df-convert:hover {\n",
       "      background-color: #434B5C;\n",
       "      box-shadow: 0px 1px 3px 1px rgba(0, 0, 0, 0.15);\n",
       "      filter: drop-shadow(0px 1px 2px rgba(0, 0, 0, 0.3));\n",
       "      fill: #FFFFFF;\n",
       "    }\n",
       "  </style>\n",
       "\n",
       "      <script>\n",
       "        const buttonEl =\n",
       "          document.querySelector('#df-7753eb5c-15cd-4cb2-8ab1-d6558c55ef0e button.colab-df-convert');\n",
       "        buttonEl.style.display =\n",
       "          google.colab.kernel.accessAllowed ? 'block' : 'none';\n",
       "\n",
       "        async function convertToInteractive(key) {\n",
       "          const element = document.querySelector('#df-7753eb5c-15cd-4cb2-8ab1-d6558c55ef0e');\n",
       "          const dataTable =\n",
       "            await google.colab.kernel.invokeFunction('convertToInteractive',\n",
       "                                                     [key], {});\n",
       "          if (!dataTable) return;\n",
       "\n",
       "          const docLinkHtml = 'Like what you see? Visit the ' +\n",
       "            '<a target=\"_blank\" href=https://colab.research.google.com/notebooks/data_table.ipynb>data table notebook</a>'\n",
       "            + ' to learn more about interactive tables.';\n",
       "          element.innerHTML = '';\n",
       "          dataTable['output_type'] = 'display_data';\n",
       "          await google.colab.output.renderOutput(dataTable, element);\n",
       "          const docLink = document.createElement('div');\n",
       "          docLink.innerHTML = docLinkHtml;\n",
       "          element.appendChild(docLink);\n",
       "        }\n",
       "      </script>\n",
       "    </div>\n",
       "  </div>\n",
       "  "
      ],
      "text/plain": [
       "         lat        lng      store                                 address\n",
       "0  40.711000 -74.000878  Starbucks        375 Pearl st, New York, NY 10038\n",
       "1  40.707142 -74.004987  Starbucks     135 John Street, New York, NY 10038\n",
       "2  40.708411 -74.007404  Starbucks  100 William Street, New York, NY 10038\n",
       "3  40.711644 -74.006667  Starbucks     38 Park Row, #4, New York, NY 10038\n",
       "4  40.710171 -74.007931  Starbucks   130 Fulton Street, New York, NY 10038\n",
       "5  40.706316 -74.006582  Starbucks      80 Pine Street, New York, NY 10005\n",
       "6  40.712208 -74.008192  Starbucks        233 Broadway, New York, NY 10279\n",
       "7  40.708742 -74.009508  Starbucks   55 Liberty Street, New York, NY 10005\n",
       "8  40.706033 -74.008348  Starbucks          60 Wall St, New York, NY 10005\n",
       "9  40.704817 -74.007231  Starbucks         99 Wall St., New York, NY 10005"
      ]
     },
     "execution_count": 6,
     "metadata": {},
     "output_type": "execute_result"
    }
   ],
   "source": [
    "#Read file containing location details\n",
    "df = pd.read_csv('https://drive.google.com/uc?id=19JERBe0ndadkMPKDFZ0rTEZqdI50zDfk')\n",
    "df.head(10)"
   ]
  },
  {
   "cell_type": "code",
   "execution_count": null,
   "metadata": {
    "colab": {
     "base_uri": "https://localhost:8080/",
     "height": 363
    },
    "id": "pwO0243tmizb",
    "outputId": "e78aabe0-04a6-45f0-da55-a21c37493099"
   },
   "outputs": [
    {
     "data": {
      "text/html": [
       "\n",
       "  <div id=\"df-4e8cf214-9a66-493f-815a-bcf4e50d6d95\">\n",
       "    <div class=\"colab-df-container\">\n",
       "      <div>\n",
       "<style scoped>\n",
       "    .dataframe tbody tr th:only-of-type {\n",
       "        vertical-align: middle;\n",
       "    }\n",
       "\n",
       "    .dataframe tbody tr th {\n",
       "        vertical-align: top;\n",
       "    }\n",
       "\n",
       "    .dataframe thead th {\n",
       "        text-align: right;\n",
       "    }\n",
       "</style>\n",
       "<table border=\"1\" class=\"dataframe\">\n",
       "  <thead>\n",
       "    <tr style=\"text-align: right;\">\n",
       "      <th></th>\n",
       "      <th>lat</th>\n",
       "      <th>lng</th>\n",
       "      <th>store</th>\n",
       "      <th>address</th>\n",
       "      <th>Coordinate</th>\n",
       "    </tr>\n",
       "  </thead>\n",
       "  <tbody>\n",
       "    <tr>\n",
       "      <th>0</th>\n",
       "      <td>40.711000</td>\n",
       "      <td>-74.000878</td>\n",
       "      <td>Starbucks</td>\n",
       "      <td>375 Pearl st, New York, NY 10038</td>\n",
       "      <td>(40.711, -74.000878)</td>\n",
       "    </tr>\n",
       "    <tr>\n",
       "      <th>1</th>\n",
       "      <td>40.707142</td>\n",
       "      <td>-74.004987</td>\n",
       "      <td>Starbucks</td>\n",
       "      <td>135 John Street, New York, NY 10038</td>\n",
       "      <td>(40.707142, -74.004987)</td>\n",
       "    </tr>\n",
       "    <tr>\n",
       "      <th>2</th>\n",
       "      <td>40.708411</td>\n",
       "      <td>-74.007404</td>\n",
       "      <td>Starbucks</td>\n",
       "      <td>100 William Street, New York, NY 10038</td>\n",
       "      <td>(40.708411, -74.007404)</td>\n",
       "    </tr>\n",
       "    <tr>\n",
       "      <th>3</th>\n",
       "      <td>40.711644</td>\n",
       "      <td>-74.006667</td>\n",
       "      <td>Starbucks</td>\n",
       "      <td>38 Park Row, #4, New York, NY 10038</td>\n",
       "      <td>(40.711644, -74.006667)</td>\n",
       "    </tr>\n",
       "    <tr>\n",
       "      <th>4</th>\n",
       "      <td>40.710171</td>\n",
       "      <td>-74.007931</td>\n",
       "      <td>Starbucks</td>\n",
       "      <td>130 Fulton Street, New York, NY 10038</td>\n",
       "      <td>(40.710171, -74.007931)</td>\n",
       "    </tr>\n",
       "    <tr>\n",
       "      <th>5</th>\n",
       "      <td>40.706316</td>\n",
       "      <td>-74.006582</td>\n",
       "      <td>Starbucks</td>\n",
       "      <td>80 Pine Street, New York, NY 10005</td>\n",
       "      <td>(40.706316, -74.006582)</td>\n",
       "    </tr>\n",
       "    <tr>\n",
       "      <th>6</th>\n",
       "      <td>40.712208</td>\n",
       "      <td>-74.008192</td>\n",
       "      <td>Starbucks</td>\n",
       "      <td>233 Broadway, New York, NY 10279</td>\n",
       "      <td>(40.712208, -74.008192)</td>\n",
       "    </tr>\n",
       "    <tr>\n",
       "      <th>7</th>\n",
       "      <td>40.708742</td>\n",
       "      <td>-74.009508</td>\n",
       "      <td>Starbucks</td>\n",
       "      <td>55 Liberty Street, New York, NY 10005</td>\n",
       "      <td>(40.708742, -74.009508)</td>\n",
       "    </tr>\n",
       "    <tr>\n",
       "      <th>8</th>\n",
       "      <td>40.706033</td>\n",
       "      <td>-74.008348</td>\n",
       "      <td>Starbucks</td>\n",
       "      <td>60 Wall St, New York, NY 10005</td>\n",
       "      <td>(40.706033, -74.008348)</td>\n",
       "    </tr>\n",
       "    <tr>\n",
       "      <th>9</th>\n",
       "      <td>40.704817</td>\n",
       "      <td>-74.007231</td>\n",
       "      <td>Starbucks</td>\n",
       "      <td>99 Wall St., New York, NY 10005</td>\n",
       "      <td>(40.704817, -74.007231)</td>\n",
       "    </tr>\n",
       "  </tbody>\n",
       "</table>\n",
       "</div>\n",
       "      <button class=\"colab-df-convert\" onclick=\"convertToInteractive('df-4e8cf214-9a66-493f-815a-bcf4e50d6d95')\"\n",
       "              title=\"Convert this dataframe to an interactive table.\"\n",
       "              style=\"display:none;\">\n",
       "        \n",
       "  <svg xmlns=\"http://www.w3.org/2000/svg\" height=\"24px\"viewBox=\"0 0 24 24\"\n",
       "       width=\"24px\">\n",
       "    <path d=\"M0 0h24v24H0V0z\" fill=\"none\"/>\n",
       "    <path d=\"M18.56 5.44l.94 2.06.94-2.06 2.06-.94-2.06-.94-.94-2.06-.94 2.06-2.06.94zm-11 1L8.5 8.5l.94-2.06 2.06-.94-2.06-.94L8.5 2.5l-.94 2.06-2.06.94zm10 10l.94 2.06.94-2.06 2.06-.94-2.06-.94-.94-2.06-.94 2.06-2.06.94z\"/><path d=\"M17.41 7.96l-1.37-1.37c-.4-.4-.92-.59-1.43-.59-.52 0-1.04.2-1.43.59L10.3 9.45l-7.72 7.72c-.78.78-.78 2.05 0 2.83L4 21.41c.39.39.9.59 1.41.59.51 0 1.02-.2 1.41-.59l7.78-7.78 2.81-2.81c.8-.78.8-2.07 0-2.86zM5.41 20L4 18.59l7.72-7.72 1.47 1.35L5.41 20z\"/>\n",
       "  </svg>\n",
       "      </button>\n",
       "      \n",
       "  <style>\n",
       "    .colab-df-container {\n",
       "      display:flex;\n",
       "      flex-wrap:wrap;\n",
       "      gap: 12px;\n",
       "    }\n",
       "\n",
       "    .colab-df-convert {\n",
       "      background-color: #E8F0FE;\n",
       "      border: none;\n",
       "      border-radius: 50%;\n",
       "      cursor: pointer;\n",
       "      display: none;\n",
       "      fill: #1967D2;\n",
       "      height: 32px;\n",
       "      padding: 0 0 0 0;\n",
       "      width: 32px;\n",
       "    }\n",
       "\n",
       "    .colab-df-convert:hover {\n",
       "      background-color: #E2EBFA;\n",
       "      box-shadow: 0px 1px 2px rgba(60, 64, 67, 0.3), 0px 1px 3px 1px rgba(60, 64, 67, 0.15);\n",
       "      fill: #174EA6;\n",
       "    }\n",
       "\n",
       "    [theme=dark] .colab-df-convert {\n",
       "      background-color: #3B4455;\n",
       "      fill: #D2E3FC;\n",
       "    }\n",
       "\n",
       "    [theme=dark] .colab-df-convert:hover {\n",
       "      background-color: #434B5C;\n",
       "      box-shadow: 0px 1px 3px 1px rgba(0, 0, 0, 0.15);\n",
       "      filter: drop-shadow(0px 1px 2px rgba(0, 0, 0, 0.3));\n",
       "      fill: #FFFFFF;\n",
       "    }\n",
       "  </style>\n",
       "\n",
       "      <script>\n",
       "        const buttonEl =\n",
       "          document.querySelector('#df-4e8cf214-9a66-493f-815a-bcf4e50d6d95 button.colab-df-convert');\n",
       "        buttonEl.style.display =\n",
       "          google.colab.kernel.accessAllowed ? 'block' : 'none';\n",
       "\n",
       "        async function convertToInteractive(key) {\n",
       "          const element = document.querySelector('#df-4e8cf214-9a66-493f-815a-bcf4e50d6d95');\n",
       "          const dataTable =\n",
       "            await google.colab.kernel.invokeFunction('convertToInteractive',\n",
       "                                                     [key], {});\n",
       "          if (!dataTable) return;\n",
       "\n",
       "          const docLinkHtml = 'Like what you see? Visit the ' +\n",
       "            '<a target=\"_blank\" href=https://colab.research.google.com/notebooks/data_table.ipynb>data table notebook</a>'\n",
       "            + ' to learn more about interactive tables.';\n",
       "          element.innerHTML = '';\n",
       "          dataTable['output_type'] = 'display_data';\n",
       "          await google.colab.output.renderOutput(dataTable, element);\n",
       "          const docLink = document.createElement('div');\n",
       "          docLink.innerHTML = docLinkHtml;\n",
       "          element.appendChild(docLink);\n",
       "        }\n",
       "      </script>\n",
       "    </div>\n",
       "  </div>\n",
       "  "
      ],
      "text/plain": [
       "         lat        lng      store                                 address  \\\n",
       "0  40.711000 -74.000878  Starbucks        375 Pearl st, New York, NY 10038   \n",
       "1  40.707142 -74.004987  Starbucks     135 John Street, New York, NY 10038   \n",
       "2  40.708411 -74.007404  Starbucks  100 William Street, New York, NY 10038   \n",
       "3  40.711644 -74.006667  Starbucks     38 Park Row, #4, New York, NY 10038   \n",
       "4  40.710171 -74.007931  Starbucks   130 Fulton Street, New York, NY 10038   \n",
       "5  40.706316 -74.006582  Starbucks      80 Pine Street, New York, NY 10005   \n",
       "6  40.712208 -74.008192  Starbucks        233 Broadway, New York, NY 10279   \n",
       "7  40.708742 -74.009508  Starbucks   55 Liberty Street, New York, NY 10005   \n",
       "8  40.706033 -74.008348  Starbucks          60 Wall St, New York, NY 10005   \n",
       "9  40.704817 -74.007231  Starbucks         99 Wall St., New York, NY 10005   \n",
       "\n",
       "                Coordinate  \n",
       "0     (40.711, -74.000878)  \n",
       "1  (40.707142, -74.004987)  \n",
       "2  (40.708411, -74.007404)  \n",
       "3  (40.711644, -74.006667)  \n",
       "4  (40.710171, -74.007931)  \n",
       "5  (40.706316, -74.006582)  \n",
       "6  (40.712208, -74.008192)  \n",
       "7  (40.708742, -74.009508)  \n",
       "8  (40.706033, -74.008348)  \n",
       "9  (40.704817, -74.007231)  "
      ]
     },
     "execution_count": 7,
     "metadata": {},
     "output_type": "execute_result"
    }
   ],
   "source": [
    "#Merge Columns\n",
    "df['Coordinate'] = '('+df['lat'].astype(str) + ', ' + df['lng'].astype(str)+')'\n",
    "df.head(10)"
   ]
  },
  {
   "cell_type": "code",
   "execution_count": null,
   "metadata": {
    "id": "BwL2yBY5jS2_"
   },
   "outputs": [],
   "source": [
    "#New York Empire State Building Lat Long (Looking for any approx center point)\n",
    "NY_coord = (40.748488, -73.985238)"
   ]
  },
  {
   "cell_type": "code",
   "execution_count": null,
   "metadata": {
    "colab": {
     "base_uri": "https://localhost:8080/"
    },
    "id": "8cMTNo7OZzhk",
    "outputId": "b8f4c768-9b0a-48dd-ca8d-2a3fcfd52dec"
   },
   "outputs": [
    {
     "data": {
      "text/plain": [
       "method"
      ]
     },
     "execution_count": 9,
     "metadata": {},
     "output_type": "execute_result"
    }
   ],
   "source": [
    "ass=df.itertuples\n",
    "type(ass)"
   ]
  },
  {
   "cell_type": "code",
   "execution_count": null,
   "metadata": {
    "colab": {
     "base_uri": "https://localhost:8080/"
    },
    "id": "LnqkRB-BcJS-",
    "outputId": "19f4ef5a-5684-4595-d26f-d3a2bbd72f07"
   },
   "outputs": [
    {
     "data": {
      "text/plain": [
       "Index(['lat', 'lng', 'store', 'address', 'Coordinate'], dtype='object')"
      ]
     },
     "execution_count": 10,
     "metadata": {},
     "output_type": "execute_result"
    }
   ],
   "source": [
    "df.columns"
   ]
  },
  {
   "cell_type": "code",
   "execution_count": null,
   "metadata": {
    "colab": {
     "base_uri": "https://localhost:8080/"
    },
    "id": "-91nro5YZ-qL",
    "outputId": "e821bce7-7486-4008-a831-b65303da730c"
   },
   "outputs": [
    {
     "name": "stdout",
     "output_type": "stream",
     "text": [
      "6\n",
      "<class 'pandas.core.frame.Pandas'>\n",
      "4.3676278007615785 km 4.3676278007615785\n",
      "<class 'float'>\n"
     ]
    }
   ],
   "source": [
    "for sd in df.itertuples(index=True):\n",
    "  print(len(sd))\n",
    "  print(type(sd))\n",
    "  d=geopy.distance.distance(NY_coord, sd.Coordinate)\n",
    "  dff=geopy.distance.distance(NY_coord, sd.Coordinate).km\n",
    "  print(d,dff)\n",
    "  print(type(dff))\n",
    "\n",
    "  break"
   ]
  },
  {
   "cell_type": "markdown",
   "metadata": {
    "id": "Jg_MRCjNwFNb"
   },
   "source": [
    "**1. Compute the distance of the stores**"
   ]
  },
  {
   "cell_type": "code",
   "execution_count": null,
   "metadata": {
    "colab": {
     "base_uri": "https://localhost:8080/",
     "height": 363
    },
    "id": "VkHNRL_DmE2a",
    "outputId": "24f4c280-944a-402b-9c97-849b3f825884"
   },
   "outputs": [
    {
     "data": {
      "text/html": [
       "\n",
       "  <div id=\"df-2535709d-6a84-4f0a-a197-ed6aaa3e0231\">\n",
       "    <div class=\"colab-df-container\">\n",
       "      <div>\n",
       "<style scoped>\n",
       "    .dataframe tbody tr th:only-of-type {\n",
       "        vertical-align: middle;\n",
       "    }\n",
       "\n",
       "    .dataframe tbody tr th {\n",
       "        vertical-align: top;\n",
       "    }\n",
       "\n",
       "    .dataframe thead th {\n",
       "        text-align: right;\n",
       "    }\n",
       "</style>\n",
       "<table border=\"1\" class=\"dataframe\">\n",
       "  <thead>\n",
       "    <tr style=\"text-align: right;\">\n",
       "      <th></th>\n",
       "      <th>lat</th>\n",
       "      <th>lng</th>\n",
       "      <th>store</th>\n",
       "      <th>address</th>\n",
       "      <th>Coordinate</th>\n",
       "      <th>Distance</th>\n",
       "    </tr>\n",
       "  </thead>\n",
       "  <tbody>\n",
       "    <tr>\n",
       "      <th>0</th>\n",
       "      <td>40.711000</td>\n",
       "      <td>-74.000878</td>\n",
       "      <td>Starbucks</td>\n",
       "      <td>375 Pearl st, New York, NY 10038</td>\n",
       "      <td>(40.711, -74.000878)</td>\n",
       "      <td>4.367628</td>\n",
       "    </tr>\n",
       "    <tr>\n",
       "      <th>1</th>\n",
       "      <td>40.707142</td>\n",
       "      <td>-74.004987</td>\n",
       "      <td>Starbucks</td>\n",
       "      <td>135 John Street, New York, NY 10038</td>\n",
       "      <td>(40.707142, -74.004987)</td>\n",
       "      <td>4.885149</td>\n",
       "    </tr>\n",
       "    <tr>\n",
       "      <th>2</th>\n",
       "      <td>40.708411</td>\n",
       "      <td>-74.007404</td>\n",
       "      <td>Starbucks</td>\n",
       "      <td>100 William Street, New York, NY 10038</td>\n",
       "      <td>(40.708411, -74.007404)</td>\n",
       "      <td>4.828401</td>\n",
       "    </tr>\n",
       "    <tr>\n",
       "      <th>3</th>\n",
       "      <td>40.711644</td>\n",
       "      <td>-74.006667</td>\n",
       "      <td>Starbucks</td>\n",
       "      <td>38 Park Row, #4, New York, NY 10038</td>\n",
       "      <td>(40.711644, -74.006667)</td>\n",
       "      <td>4.474066</td>\n",
       "    </tr>\n",
       "    <tr>\n",
       "      <th>4</th>\n",
       "      <td>40.710171</td>\n",
       "      <td>-74.007931</td>\n",
       "      <td>Starbucks</td>\n",
       "      <td>130 Fulton Street, New York, NY 10038</td>\n",
       "      <td>(40.710171, -74.007931)</td>\n",
       "      <td>4.666971</td>\n",
       "    </tr>\n",
       "    <tr>\n",
       "      <th>5</th>\n",
       "      <td>40.706316</td>\n",
       "      <td>-74.006582</td>\n",
       "      <td>Starbucks</td>\n",
       "      <td>80 Pine Street, New York, NY 10005</td>\n",
       "      <td>(40.706316, -74.006582)</td>\n",
       "      <td>5.018288</td>\n",
       "    </tr>\n",
       "    <tr>\n",
       "      <th>6</th>\n",
       "      <td>40.712208</td>\n",
       "      <td>-74.008192</td>\n",
       "      <td>Starbucks</td>\n",
       "      <td>233 Broadway, New York, NY 10279</td>\n",
       "      <td>(40.712208, -74.008192)</td>\n",
       "      <td>4.471204</td>\n",
       "    </tr>\n",
       "    <tr>\n",
       "      <th>7</th>\n",
       "      <td>40.708742</td>\n",
       "      <td>-74.009508</td>\n",
       "      <td>Starbucks</td>\n",
       "      <td>55 Liberty Street, New York, NY 10005</td>\n",
       "      <td>(40.708742, -74.009508)</td>\n",
       "      <td>4.866712</td>\n",
       "    </tr>\n",
       "    <tr>\n",
       "      <th>8</th>\n",
       "      <td>40.706033</td>\n",
       "      <td>-74.008348</td>\n",
       "      <td>Starbucks</td>\n",
       "      <td>60 Wall St, New York, NY 10005</td>\n",
       "      <td>(40.706033, -74.008348)</td>\n",
       "      <td>5.102829</td>\n",
       "    </tr>\n",
       "    <tr>\n",
       "      <th>9</th>\n",
       "      <td>40.704817</td>\n",
       "      <td>-74.007231</td>\n",
       "      <td>Starbucks</td>\n",
       "      <td>99 Wall St., New York, NY 10005</td>\n",
       "      <td>(40.704817, -74.007231)</td>\n",
       "      <td>5.193348</td>\n",
       "    </tr>\n",
       "  </tbody>\n",
       "</table>\n",
       "</div>\n",
       "      <button class=\"colab-df-convert\" onclick=\"convertToInteractive('df-2535709d-6a84-4f0a-a197-ed6aaa3e0231')\"\n",
       "              title=\"Convert this dataframe to an interactive table.\"\n",
       "              style=\"display:none;\">\n",
       "        \n",
       "  <svg xmlns=\"http://www.w3.org/2000/svg\" height=\"24px\"viewBox=\"0 0 24 24\"\n",
       "       width=\"24px\">\n",
       "    <path d=\"M0 0h24v24H0V0z\" fill=\"none\"/>\n",
       "    <path d=\"M18.56 5.44l.94 2.06.94-2.06 2.06-.94-2.06-.94-.94-2.06-.94 2.06-2.06.94zm-11 1L8.5 8.5l.94-2.06 2.06-.94-2.06-.94L8.5 2.5l-.94 2.06-2.06.94zm10 10l.94 2.06.94-2.06 2.06-.94-2.06-.94-.94-2.06-.94 2.06-2.06.94z\"/><path d=\"M17.41 7.96l-1.37-1.37c-.4-.4-.92-.59-1.43-.59-.52 0-1.04.2-1.43.59L10.3 9.45l-7.72 7.72c-.78.78-.78 2.05 0 2.83L4 21.41c.39.39.9.59 1.41.59.51 0 1.02-.2 1.41-.59l7.78-7.78 2.81-2.81c.8-.78.8-2.07 0-2.86zM5.41 20L4 18.59l7.72-7.72 1.47 1.35L5.41 20z\"/>\n",
       "  </svg>\n",
       "      </button>\n",
       "      \n",
       "  <style>\n",
       "    .colab-df-container {\n",
       "      display:flex;\n",
       "      flex-wrap:wrap;\n",
       "      gap: 12px;\n",
       "    }\n",
       "\n",
       "    .colab-df-convert {\n",
       "      background-color: #E8F0FE;\n",
       "      border: none;\n",
       "      border-radius: 50%;\n",
       "      cursor: pointer;\n",
       "      display: none;\n",
       "      fill: #1967D2;\n",
       "      height: 32px;\n",
       "      padding: 0 0 0 0;\n",
       "      width: 32px;\n",
       "    }\n",
       "\n",
       "    .colab-df-convert:hover {\n",
       "      background-color: #E2EBFA;\n",
       "      box-shadow: 0px 1px 2px rgba(60, 64, 67, 0.3), 0px 1px 3px 1px rgba(60, 64, 67, 0.15);\n",
       "      fill: #174EA6;\n",
       "    }\n",
       "\n",
       "    [theme=dark] .colab-df-convert {\n",
       "      background-color: #3B4455;\n",
       "      fill: #D2E3FC;\n",
       "    }\n",
       "\n",
       "    [theme=dark] .colab-df-convert:hover {\n",
       "      background-color: #434B5C;\n",
       "      box-shadow: 0px 1px 3px 1px rgba(0, 0, 0, 0.15);\n",
       "      filter: drop-shadow(0px 1px 2px rgba(0, 0, 0, 0.3));\n",
       "      fill: #FFFFFF;\n",
       "    }\n",
       "  </style>\n",
       "\n",
       "      <script>\n",
       "        const buttonEl =\n",
       "          document.querySelector('#df-2535709d-6a84-4f0a-a197-ed6aaa3e0231 button.colab-df-convert');\n",
       "        buttonEl.style.display =\n",
       "          google.colab.kernel.accessAllowed ? 'block' : 'none';\n",
       "\n",
       "        async function convertToInteractive(key) {\n",
       "          const element = document.querySelector('#df-2535709d-6a84-4f0a-a197-ed6aaa3e0231');\n",
       "          const dataTable =\n",
       "            await google.colab.kernel.invokeFunction('convertToInteractive',\n",
       "                                                     [key], {});\n",
       "          if (!dataTable) return;\n",
       "\n",
       "          const docLinkHtml = 'Like what you see? Visit the ' +\n",
       "            '<a target=\"_blank\" href=https://colab.research.google.com/notebooks/data_table.ipynb>data table notebook</a>'\n",
       "            + ' to learn more about interactive tables.';\n",
       "          element.innerHTML = '';\n",
       "          dataTable['output_type'] = 'display_data';\n",
       "          await google.colab.output.renderOutput(dataTable, element);\n",
       "          const docLink = document.createElement('div');\n",
       "          docLink.innerHTML = docLinkHtml;\n",
       "          element.appendChild(docLink);\n",
       "        }\n",
       "      </script>\n",
       "    </div>\n",
       "  </div>\n",
       "  "
      ],
      "text/plain": [
       "         lat        lng      store                                 address  \\\n",
       "0  40.711000 -74.000878  Starbucks        375 Pearl st, New York, NY 10038   \n",
       "1  40.707142 -74.004987  Starbucks     135 John Street, New York, NY 10038   \n",
       "2  40.708411 -74.007404  Starbucks  100 William Street, New York, NY 10038   \n",
       "3  40.711644 -74.006667  Starbucks     38 Park Row, #4, New York, NY 10038   \n",
       "4  40.710171 -74.007931  Starbucks   130 Fulton Street, New York, NY 10038   \n",
       "5  40.706316 -74.006582  Starbucks      80 Pine Street, New York, NY 10005   \n",
       "6  40.712208 -74.008192  Starbucks        233 Broadway, New York, NY 10279   \n",
       "7  40.708742 -74.009508  Starbucks   55 Liberty Street, New York, NY 10005   \n",
       "8  40.706033 -74.008348  Starbucks          60 Wall St, New York, NY 10005   \n",
       "9  40.704817 -74.007231  Starbucks         99 Wall St., New York, NY 10005   \n",
       "\n",
       "                Coordinate  Distance  \n",
       "0     (40.711, -74.000878)  4.367628  \n",
       "1  (40.707142, -74.004987)  4.885149  \n",
       "2  (40.708411, -74.007404)  4.828401  \n",
       "3  (40.711644, -74.006667)  4.474066  \n",
       "4  (40.710171, -74.007931)  4.666971  \n",
       "5  (40.706316, -74.006582)  5.018288  \n",
       "6  (40.712208, -74.008192)  4.471204  \n",
       "7  (40.708742, -74.009508)  4.866712  \n",
       "8  (40.706033, -74.008348)  5.102829  \n",
       "9  (40.704817, -74.007231)  5.193348  "
      ]
     },
     "execution_count": 12,
     "metadata": {},
     "output_type": "execute_result"
    }
   ],
   "source": [
    "#Compute distance of every store from city center\n",
    "distances_km = []\n",
    "\n",
    "for row in df.itertuples(index=False):\n",
    "   distances_km.append(\n",
    "       geopy.distance.distance(NY_coord, row.Coordinate).km\n",
    "   )\n",
    "\n",
    "df['Distance'] = distances_km\n",
    "df.head(10)"
   ]
  },
  {
   "cell_type": "code",
   "execution_count": null,
   "metadata": {
    "colab": {
     "base_uri": "https://localhost:8080/"
    },
    "id": "ZhFST8Kkfh2V",
    "outputId": "dcd6ecd3-f97f-4fa6-b7dc-8505e29511e4"
   },
   "outputs": [
    {
     "name": "stdout",
     "output_type": "stream",
     "text": [
      "40.711\n",
      "-74.000878\n",
      "Starbucks\n",
      "0\n",
      "\n",
      "<class 'pandas.core.series.Series'>\n",
      "\n",
      "\n",
      "lat                                     40.711\n",
      "lng                                 -74.000878\n",
      "store                                Starbucks\n",
      "address       375 Pearl st, New York, NY 10038\n",
      "Coordinate                (40.711, -74.000878)\n",
      "Distance                              4.367628\n",
      "Name: 0, dtype: object\n"
     ]
    }
   ],
   "source": [
    "for i, row in df.iterrows():\n",
    "  lat = df.at[i, 'lat']\n",
    "  print(lat)\n",
    "  lng = df.at[i, 'lng']\n",
    "  print(lng)\n",
    "  store = df.at[i, 'store']\n",
    "  print(store)\n",
    "  print(i)\n",
    "  print()\n",
    "  print(type(row))\n",
    "  print()\n",
    "  print()\n",
    "  print(row)\n",
    "  \n",
    "  break\n"
   ]
  },
  {
   "cell_type": "code",
   "execution_count": null,
   "metadata": {
    "colab": {
     "base_uri": "https://localhost:8080/"
    },
    "id": "e6pQXIJcgrWG",
    "outputId": "d28c3544-3fc2-472e-f8cb-62d617c96f8e"
   },
   "outputs": [
    {
     "data": {
      "text/plain": [
       "folium.folium.Map"
      ]
     },
     "execution_count": 14,
     "metadata": {},
     "output_type": "execute_result"
    }
   ],
   "source": [
    "nn = folium.Map(location=NY_coord, zoom_start= 15)\n",
    "type(nn)"
   ]
  },
  {
   "cell_type": "code",
   "execution_count": null,
   "metadata": {
    "colab": {
     "base_uri": "https://localhost:8080/",
     "height": 183
    },
    "id": "kOqpnJVVrrq8",
    "outputId": "b01cd8b8-ceba-47de-ecc4-143b395e37d0"
   },
   "outputs": [
    {
     "ename": "NameError",
     "evalue": "ignored",
     "output_type": "error",
     "traceback": [
      "\u001b[0;31m---------------------------------------------------------------------------\u001b[0m",
      "\u001b[0;31mNameError\u001b[0m                                 Traceback (most recent call last)",
      "\u001b[0;32m<ipython-input-15-110c37916ece>\u001b[0m in \u001b[0;36m<module>\u001b[0;34m()\u001b[0m\n\u001b[0;32m----> 1\u001b[0;31m \u001b[0mj\u001b[0m\u001b[0;34m=\u001b[0m\u001b[0mfolium\u001b[0m\u001b[0;34m.\u001b[0m\u001b[0mMarker\u001b[0m\u001b[0;34m(\u001b[0m\u001b[0mlocation\u001b[0m\u001b[0;34m=\u001b[0m\u001b[0;34m[\u001b[0m\u001b[0mlat\u001b[0m\u001b[0;34m,\u001b[0m\u001b[0mlng\u001b[0m\u001b[0;34m]\u001b[0m\u001b[0;34m,\u001b[0m \u001b[0mpopup\u001b[0m\u001b[0;34m=\u001b[0m\u001b[0mstore\u001b[0m\u001b[0;34m,\u001b[0m \u001b[0micon\u001b[0m\u001b[0;34m=\u001b[0m \u001b[0mfolium\u001b[0m\u001b[0;34m.\u001b[0m\u001b[0mIcon\u001b[0m\u001b[0;34m(\u001b[0m\u001b[0mcolor\u001b[0m\u001b[0;34m=\u001b[0m\u001b[0mcolor\u001b[0m\u001b[0;34m)\u001b[0m\u001b[0;34m)\u001b[0m\u001b[0;34m.\u001b[0m\u001b[0madd_to\u001b[0m\u001b[0;34m(\u001b[0m\u001b[0mnn\u001b[0m\u001b[0;34m)\u001b[0m\u001b[0;34m\u001b[0m\u001b[0;34m\u001b[0m\u001b[0m\n\u001b[0m\u001b[1;32m      2\u001b[0m \u001b[0mtype\u001b[0m\u001b[0;34m(\u001b[0m\u001b[0mj\u001b[0m\u001b[0;34m)\u001b[0m\u001b[0;34m\u001b[0m\u001b[0;34m\u001b[0m\u001b[0m\n",
      "\u001b[0;31mNameError\u001b[0m: name 'color' is not defined"
     ]
    }
   ],
   "source": [
    "j=folium.Marker(location=[lat,lng], popup=store, icon= folium.Icon(color=color)).add_to(nn)\n",
    "type(j)"
   ]
  },
  {
   "cell_type": "markdown",
   "metadata": {
    "id": "DLwS5c0VwNMQ"
   },
   "source": [
    "**2.Visualize data on a map**"
   ]
  },
  {
   "cell_type": "code",
   "execution_count": null,
   "metadata": {
    "id": "keLZN-vioUd6"
   },
   "outputs": [],
   "source": [
    "#Empire State Building coordinates\n",
    "m = folium.Map(location=NY_coord, zoom_start= 15)\n",
    "\n",
    "#Place markers for the stores on the map\n",
    "for i, row in df.iterrows():\n",
    "  lat = df.at[i, 'lat']\n",
    "  lng = df.at[i, 'lng']\n",
    "  store = df.at[i, 'store']\n",
    "\n",
    "  if store == 'McDonalds':\n",
    "    color = 'red'\n",
    "  else:\n",
    "    color = 'green'\n",
    "\n",
    "  folium.Marker(location=[lat,lng], popup=store, icon= folium.Icon(color=color)).add_to(m)\n",
    "\n",
    "m"
   ]
  },
  {
   "cell_type": "markdown",
   "metadata": {
    "id": "T5Hud1dswQ9O"
   },
   "source": [
    "**3. Compute number of stores located in a given radius**"
   ]
  },
  {
   "cell_type": "code",
   "execution_count": null,
   "metadata": {
    "id": "A4Idfn0-swJ1"
   },
   "outputs": [],
   "source": [
    "#All stores at a distance greater/less than x kms\n",
    "df[df['Distance'] > 10]"
   ]
  },
  {
   "cell_type": "markdown",
   "metadata": {
    "id": "GnRkA-2dMG4-"
   },
   "source": [
    "**4. Compute the closest and farthest stores from Empire State Building**\n",
    "\n"
   ]
  },
  {
   "cell_type": "code",
   "execution_count": null,
   "metadata": {
    "id": "uBRmQvn-MNZl"
   },
   "outputs": [],
   "source": [
    "df_farthest = df.iloc[df.groupby('store')['Distance'].agg(pd.Series.idxmax)]\n",
    "df_closest = df.iloc[df.groupby('store')['Distance'].agg(pd.Series.idxmin)]\n",
    "df_new = pd.concat([df_farthest, df_closest])"
   ]
  },
  {
   "cell_type": "code",
   "execution_count": null,
   "metadata": {
    "id": "zDjLiMSitcIo"
   },
   "outputs": [],
   "source": [
    "ds=df.groupby('store')['Distance'].agg(pd.Series.idxmax)\n",
    "ds.index[:]"
   ]
  },
  {
   "cell_type": "code",
   "execution_count": null,
   "metadata": {
    "id": "d1poy6o4kD28"
   },
   "outputs": [],
   "source": [
    "df_new"
   ]
  },
  {
   "cell_type": "code",
   "execution_count": null,
   "metadata": {
    "id": "iK1FrOlfYtCY"
   },
   "outputs": [],
   "source": [
    "#Empire State Building coordinates\n",
    "m = folium.Map(location=[40.748488, -73.985238], zoom_start= 10)\n",
    "\n",
    "for i, rown in df_new.iterrows():\n",
    "  lat = df_new.at[i, 'lat']\n",
    "  lng = df_new.at[i, 'lng']\n",
    "  store = df_new.at[i, 'store']\n",
    "\n",
    "  if store == 'McDonalds':\n",
    "    color = 'blue'\n",
    "  else:\n",
    "    color = 'green'\n",
    "\n",
    "  folium.Marker(location=[lat,lng], popup=store, icon= folium.Icon(color=color)).add_to(m)\n",
    "\n",
    "m"
   ]
  },
  {
   "cell_type": "markdown",
   "metadata": {
    "id": "ZvlRfcULsxvO"
   },
   "source": [
    "# Coffee king"
   ]
  },
  {
   "cell_type": "code",
   "execution_count": null,
   "metadata": {
    "id": "kXBAj0NVtWou"
   },
   "outputs": [],
   "source": [
    "!pip install geopandas"
   ]
  },
  {
   "cell_type": "code",
   "execution_count": null,
   "metadata": {
    "id": "tuWFK1H8tHxn"
   },
   "outputs": [],
   "source": [
    "import numpy as np\n",
    "import pandas as pd\n",
    "import os\n",
    "import geopandas\n",
    "import requests\n",
    "import pyproj\n",
    "\n",
    "def mcdonalds():\n",
    "    data = requests.get(\"https://www.mcdonalds.com/googleappsv2/geolocation?latitude=40.7830603&longitude=-73.9712488&radius=8.045&maxResults=30&country=us&language=en-us\").json()\n",
    "    \n",
    "    result = []\n",
    "    for row in data['features']:\n",
    "        geom,prop = row['geometry'], row['properties']\n",
    "        result.append({\n",
    "            'store': 'McDonalds',\n",
    "            'lat': geom['coordinates'][1],\n",
    "            'lng': geom['coordinates'][0],\n",
    "            'address': prop['addressLine1'],\n",
    "        })\n",
    "\n",
    "    return pd.DataFrame(result)\n",
    "\n",
    "\n",
    "def starbucks():\n",
    "\n",
    "    \n",
    "    #Return a DataFrame with Manhattan Starbucks (store, address, lat, lng)I went to https://www.starbucks.com/store-locator and moved the map around to get center points that seem to cover Manhattan.\n",
    "    \n",
    "    \n",
    "    map_points = (\n",
    "      [40.709353, -74.002588],\n",
    "      [40.72899, -73.982323],\n",
    "      [40.741837, -74.008072],\n",
    "      [40.741317, -73.972179],\n",
    "      [40.761994, -73.959133],\n",
    "      [40.763489, -73.989517],\n",
    "      [40.763814, -74.01415],\n",
    "      [40.781312, -73.98617],\n",
    "      [40.773145, -73.960995],\n",
    "      [40.79807, -73.977686],\n",
    "      [40.786317, -73.928566],\n",
    "      \n",
    "    )\n",
    "\n",
    "    result = []\n",
    "\n",
    "    for lat, lng in map_points:\n",
    "        url = f'https://www.starbucks.com/bff/locations?lat={lat}&lng={lng}'\n",
    "        \n",
    "        data = requests.get(url, headers={'x-requested-with': 'XMLHttpRequest'}).json()\n",
    "\n",
    "\n",
    "        for row in data['stores']:\n",
    "            result.append({\n",
    "              'store': 'Starbucks',\n",
    "              'lat': row['coordinates']['latitude'],\n",
    "              'lng': row['coordinates']['longitude'],\n",
    "              'address': ', '.join(row['addressLines'])\n",
    "            })\n",
    "    return pd.DataFrame(result).drop_duplicates()\n",
    "\n",
    "def scrape_stores(target, overwrite=False):\n",
    "    if not overwrite and os.path.exists(target):\n",
    "        print(target, 'already exists. not scraping')\n",
    "        return pd.read_excel(target)\n",
    "    \n",
    "    data = pd.concat([\n",
    "        mcdonalds(),\n",
    "        starbucks(),\n",
    "    ])\n",
    "\n",
    "    data.to_excel(target, index=False)\n",
    "    return data\n",
    "\n",
    "def manhatten_map():\n",
    "    #load population and census shape file and adata \n",
    "    cols  =  ['BoroName','FIPSCode','BoroCode','CT2010','Pop2000','Pop2010','Change','ChangePC','Acres','Density']\n",
    "\n",
    "    pop = pd.read_excel('/content/t_pl_p5_ct.xlsx', skiprows=range(7), header=None, names=cols, dtype=object)\n",
    "\n",
    "    shape  = geopandas.read_file('/content/nyct2010.shp')\n",
    "\n",
    "    # Filter for Manhattan \n",
    "    shape  =  shape.merge(pop.loc[:, ['CT2010', 'Pop2010']], on='CT2010')\n",
    "\n",
    "    if not os.path.exists('map'):\n",
    "        os.makedirs('map')\n",
    "\n",
    "        # convert lat-long coordinate system and save \n",
    "    #shape  = CRS('EPSG:4326').to_proj4()\n",
    "    crs=pyproj.CRS(\"epsg:4326\")\n",
    "    shape = shape.to_crs(crs)\n",
    "    shape['Pop2010'] = shape['Pop2010'].astype(int)\n",
    "    shape.to_file('map/population.shp')\n",
    "    # save as a single blog for use by reshaper \n",
    "\n",
    "    shape.dissolve(by='BoroName')[['BoroCode', 'geometry']].to_file('map/single.shp')\n",
    "\n",
    "def stores_map(stores, shape):\n",
    "    geom = geopandas.points_from_xy(stores.lng,stores.lat)\n",
    "    points = geopandas.GeoDataFrame(stores, geometry=geom)\n",
    "    #points = points[points.intersects(shape.unary_union)]\n",
    "    \n",
    "    points.loc[:,['lat', 'lng','store','address']].to_csv('manhatton-stores.csv', index=False, encoding='utf8')\n",
    "    points.to_file('map/points.shp')\n",
    "\n",
    "if __name__ == '__main__':\n",
    "    stores = scrape_stores('stores.xlsx', overwrite=False)\n",
    "    shape = manhatten_map()\n",
    "    stores_map(stores, shape)"
   ]
  },
  {
   "cell_type": "code",
   "execution_count": null,
   "metadata": {
    "id": "gWg8h0RM0vPL"
   },
   "outputs": [],
   "source": [
    "from google.colab import drive\n",
    "drive.mount('/content/drive')"
   ]
  },
  {
   "cell_type": "code",
   "execution_count": null,
   "metadata": {
    "id": "1_zRFxqIU5Yh"
   },
   "outputs": [],
   "source": []
  }
 ],
 "metadata": {
  "colab": {
   "collapsed_sections": [],
   "name": "Geospatial analysis2.ipynb",
   "provenance": []
  },
  "kernelspec": {
   "display_name": "Python 3",
   "language": "python",
   "name": "python3"
  },
  "language_info": {
   "codemirror_mode": {
    "name": "ipython",
    "version": 3
   },
   "file_extension": ".py",
   "mimetype": "text/x-python",
   "name": "python",
   "nbconvert_exporter": "python",
   "pygments_lexer": "ipython3",
   "version": "3.8.3"
  }
 },
 "nbformat": 4,
 "nbformat_minor": 4
}
