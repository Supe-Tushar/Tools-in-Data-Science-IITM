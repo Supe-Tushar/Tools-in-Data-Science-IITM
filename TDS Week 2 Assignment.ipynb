{
 "cells": [
  {
   "cell_type": "markdown",
   "metadata": {},
   "source": [
    "# TDS Week 2 Assignment"
   ]
  },
  {
   "cell_type": "markdown",
   "metadata": {},
   "source": [
    "# Imports"
   ]
  },
  {
   "cell_type": "code",
   "execution_count": 99,
   "metadata": {},
   "outputs": [],
   "source": [
    "import os\n",
    "import re\n",
    "import time\n",
    "import json\n",
    "import random\n",
    "import ast\n",
    "from datetime import datetime\n",
    "\n",
    "import requests\n",
    "from bs4 import BeautifulSoup as bs\n",
    "import pandas as pd\n",
    "\n",
    "import wikipedia as wk\n",
    "\n",
    "from urllib.parse import urlencode, urljoin\n",
    "import urllib.request\n",
    "\n",
    "import tabula\n",
    "from tabula import convert_into\n",
    "\n",
    "from geopy.geocoders import Nominatim\n",
    "\n",
    "import warnings\n",
    "warnings.filterwarnings(\"ignore\")"
   ]
  },
  {
   "cell_type": "code",
   "execution_count": 2,
   "metadata": {},
   "outputs": [],
   "source": [
    "# Following are wrong api\n",
    "# from urllib.parse import urldevelop\n",
    "# from urllib.parse import urlformulate"
   ]
  },
  {
   "cell_type": "markdown",
   "metadata": {},
   "source": [
    "## Load tables in excel"
   ]
  },
  {
   "cell_type": "code",
   "execution_count": 4,
   "metadata": {},
   "outputs": [],
   "source": [
    "# url = https://www.timeanddate.com/weather/india/chennai/ext\n",
    "    \n",
    "# there are 2 tables on the webpage\n",
    "# Open Excel\n",
    "# Data -> Get Data -> From other sources -> from web ->  paste url\n",
    "# -> connect -> OK -> table view -> select table -> Load \n",
    "# -> then queries connection side tab will open\n",
    "# -> double click Table 0 from side tab -> modify columns\n",
    "# -> in Home tab select close & load\n",
    "# -> Right click on table and select refresh"
   ]
  },
  {
   "cell_type": "markdown",
   "metadata": {},
   "source": [
    "## BBC Weather"
   ]
  },
  {
   "cell_type": "code",
   "execution_count": 12,
   "metadata": {},
   "outputs": [],
   "source": [
    "# This code snippet takes city name as input and it hits the BBC \n",
    "# Weahter API with a request for location ID. This location ID is \n",
    "# used as input in the next part of the code to scrape weather \n",
    "# forecast for the city using this location ID.\n",
    "\n",
    "# Web scraping might not be legal always. It is a good idea to \n",
    "# check the terms of the website you plan to scrape before proceeding. \n",
    "# Also, if your code requests a url from a server multiple times, \n",
    "# it is a good practice to either cache your requests, or insert a \n",
    "# timed delay between consecutive requests."
   ]
  },
  {
   "cell_type": "code",
   "execution_count": 13,
   "metadata": {},
   "outputs": [],
   "source": [
    "url = \"https://www.bbc.com/weather/5380748\"\n",
    "#  it uses api to retrieve data, we use that url"
   ]
  },
  {
   "cell_type": "code",
   "execution_count": 14,
   "metadata": {},
   "outputs": [
    {
     "data": {
      "text/plain": [
       "'https://locator-service.api.bbci.co.uk/locations?api_key=AGbFAKx58hyjQScCXIYrxuEwJh2W2cmv&s=New+York&stack=aws&locale=en&filter=international&place-types=settlement%2Cairport%2Cdistrict&order=importance&a=true&format=json'"
      ]
     },
     "execution_count": 14,
     "metadata": {},
     "output_type": "execute_result"
    }
   ],
   "source": [
    "test_city = \"New York\"\n",
    "location_url = 'https://locator-service.api.bbci.co.uk/locations?' + urlencode({\n",
    "   'api_key': 'AGbFAKx58hyjQScCXIYrxuEwJh2W2cmv',\n",
    "   's': test_city,\n",
    "   'stack': 'aws',\n",
    "   'locale': 'en',\n",
    "   'filter': 'international',\n",
    "   'place-types': 'settlement,airport,district',\n",
    "   'order': 'importance',\n",
    "   'a': 'true',\n",
    "   'format': 'json'\n",
    "})\n",
    "\n",
    "location_url\n",
    "\n",
    "# 'https://locator-service.api.bbci.co.uk/locations?api_key=AGbFAKx58hyjQScCXIYrxuEwJh2W2cmv&amp;s=New+York&amp;stack=aws&amp;locale=en&amp;filter=international&amp;place-types=settlement%2Cairport%2Cdistrict&amp;order=importance&amp;a=true&amp;format=json'"
   ]
  },
  {
   "cell_type": "code",
   "execution_count": 15,
   "metadata": {},
   "outputs": [
    {
     "data": {
      "text/plain": [
       "{'response': {'results': {'results': [{'id': '5128581',\n",
       "     'name': 'New York',\n",
       "     'container': 'United States',\n",
       "     'containerId': 6252001,\n",
       "     'language': 'en',\n",
       "     'timezone': 'America/New_York',\n",
       "     'country': 'US',\n",
       "     'latitude': 40.71427,\n",
       "     'longitude': -74.00597,\n",
       "     'placeType': 'settlement'},\n",
       "    {'id': '2641508',\n",
       "     'name': 'New York',\n",
       "     'container': 'Lincolnshire',\n",
       "     'containerId': 2644486,\n",
       "     'language': 'en',\n",
       "     'timezone': 'Europe/London',\n",
       "     'country': 'GB',\n",
       "     'latitude': 53.07897,\n",
       "     'longitude': -0.14008,\n",
       "     'placeType': 'settlement',\n",
       "     'topicId': 'cr0mejz7n26t'}],\n",
       "   'totalResults': 2}}}"
      ]
     },
     "execution_count": 15,
     "metadata": {},
     "output_type": "execute_result"
    }
   ],
   "source": [
    "result = requests.get(location_url).json()\n",
    "result\n",
    "\n",
    "# {'response': {'results': {'results': [{'id': '5128581',\n",
    "#      'name': 'New York',\n",
    "#      'container': 'United States',\n",
    "#      'containerId': 6252001,\n",
    "#      'language': 'en',\n",
    "#      'timezone': 'America/New_York',\n",
    "#      'country': 'US',\n",
    "#      'latitude': 40.71427,\n",
    "#      'longitude': -74.00597,\n",
    "#      'placeType': 'settlement'},\n",
    "#     {'id': '2641508',\n",
    "#      'name': 'New York',\n",
    "#      'container': 'Lincolnshire',\n",
    "#      'containerId': 2644486,\n",
    "#      'language': 'en',\n",
    "#      'timezone': 'Europe/London',\n",
    "#      'country': 'GB',\n",
    "#      'latitude': 53.07897,\n",
    "#      'longitude': -0.14008,\n",
    "#      'placeType': 'settlement',\n",
    "#      'topicId': 'cr0mejz7n26t'}],\n",
    "#    'totalResults': 2}}}"
   ]
  },
  {
   "cell_type": "code",
   "execution_count": 16,
   "metadata": {},
   "outputs": [
    {
     "data": {
      "text/plain": [
       "'5128581'"
      ]
     },
     "execution_count": 16,
     "metadata": {},
     "output_type": "execute_result"
    }
   ],
   "source": [
    "result['response']['results']['results'][0]['id']"
   ]
  },
  {
   "cell_type": "code",
   "execution_count": 17,
   "metadata": {},
   "outputs": [],
   "source": [
    "def getlocid(city):\n",
    "    city = city.lower() # convert city name to lowercase to standardize format\n",
    "    # Convert into an API call using URL encoding\n",
    "    location_url = 'https://locator-service.api.bbci.co.uk/locations?' + urlencode({\n",
    "      'api_key': 'AGbFAKx58hyjQScCXIYrxuEwJh2W2cmv',\n",
    "      's': city,\n",
    "      'stack': 'aws',\n",
    "      'locale': 'en',\n",
    "      'filter': 'international',\n",
    "      'place-types': 'settlement,airport,district',\n",
    "      'order': 'importance',\n",
    "      'a': 'true',\n",
    "      'format': 'json'\n",
    "    })\n",
    "    result = requests.get(location_url).json()\n",
    "    locid = result['response']['results']['results'][0]['id']\n",
    "    return locid"
   ]
  },
  {
   "cell_type": "code",
   "execution_count": 18,
   "metadata": {},
   "outputs": [
    {
     "data": {
      "text/plain": [
       "'6167865'"
      ]
     },
     "execution_count": 18,
     "metadata": {},
     "output_type": "execute_result"
    }
   ],
   "source": [
    "getlocid('Toronto')"
   ]
  },
  {
   "cell_type": "markdown",
   "metadata": {
    "id": "ITd1KoP79Hxl"
   },
   "source": [
    "## BBC Scrape with BeautifulSoup"
   ]
  },
  {
   "cell_type": "code",
   "execution_count": 19,
   "metadata": {},
   "outputs": [],
   "source": [
    "# This example scrapes the BBC weather website for any specific city, \n",
    "# and collects weather forecast for the next 14 days and saves it \n",
    "# as a csv file."
   ]
  },
  {
   "cell_type": "code",
   "execution_count": 20,
   "metadata": {
    "id": "uPeJOmob9H0P"
   },
   "outputs": [
    {
     "data": {
      "text/plain": [
       "True"
      ]
     },
     "execution_count": 20,
     "metadata": {},
     "output_type": "execute_result"
    }
   ],
   "source": [
    "# 'https://www.bbc.com/weather/1275339' # 1275339 is Mumbai city ID\n",
    "city_id = 1275339\n",
    "url      = f'https://www.bbc.com/weather/{city_id}'\n",
    "response = requests.get(url)\n",
    "response.ok"
   ]
  },
  {
   "cell_type": "code",
   "execution_count": 22,
   "metadata": {
    "id": "8Wn5Bc_49H1A"
   },
   "outputs": [],
   "source": [
    "soup = bs(response.content,'html.parser') "
   ]
  },
  {
   "cell_type": "code",
   "execution_count": 23,
   "metadata": {
    "colab": {
     "base_uri": "https://localhost:8080/"
    },
    "id": "wkm9oya79H2p",
    "outputId": "a72abc6e-9730-4b4b-b21f-c148e7590079"
   },
   "outputs": [
    {
     "data": {
      "text/plain": [
       "13"
      ]
     },
     "execution_count": 23,
     "metadata": {},
     "output_type": "execute_result"
    }
   ],
   "source": [
    "daily_high_values = soup.findAll('span', attrs={'class': 'wr-day-temperature__high-value'}) # block-type: span; identifier type: class; and class name: wr-day-temperature__high-value \n",
    "len(daily_high_values)"
   ]
  },
  {
   "cell_type": "code",
   "execution_count": 24,
   "metadata": {},
   "outputs": [
    {
     "data": {
      "text/plain": [
       "<span class=\"wr-day-temperature__high-value\"><span class=\"wr-value--temperature\"><span class=\"wr-value--temperature--c\">31°</span><span class=\"wr-hide\"> </span><span class=\"wr-value--temperature--f\">88°</span></span></span>"
      ]
     },
     "execution_count": 24,
     "metadata": {},
     "output_type": "execute_result"
    }
   ],
   "source": [
    "daily_high_values[0]"
   ]
  },
  {
   "cell_type": "code",
   "execution_count": 25,
   "metadata": {
    "colab": {
     "base_uri": "https://localhost:8080/"
    },
    "id": "FbTO53Oz9H3z",
    "outputId": "d52dfec2-ec3f-4b7d-ef76-191c797d1a51"
   },
   "outputs": [
    {
     "data": {
      "text/plain": [
       "14"
      ]
     },
     "execution_count": 25,
     "metadata": {},
     "output_type": "execute_result"
    }
   ],
   "source": [
    "daily_low_values  = soup.find_all('span', attrs={'class': 'wr-day-temperature__low-value'})\n",
    "len(daily_low_values)"
   ]
  },
  {
   "cell_type": "code",
   "execution_count": 26,
   "metadata": {
    "colab": {
     "base_uri": "https://localhost:8080/"
    },
    "id": "UfxUo44x9H39",
    "outputId": "22eb7321-e592-4d20-f673-9ea67c0df1c4"
   },
   "outputs": [
    {
     "data": {
      "text/plain": [
       "'Thundery showers and a gentle breezeLight cloud and a gentle breezeLight cloud and a gentle breezeLight rain showers and a gentle breezeThundery showers and a gentle breezeThundery showers and a moderate breezeThundery showers and a moderate breezeThundery showers and a moderate breezeThundery showers and a moderate breezeThundery showers and a moderate breezeThundery showers and a moderate breezeThundery showers and a moderate breezeThundery showers and a moderate breezeThundery showers and a moderate breeze'"
      ]
     },
     "execution_count": 26,
     "metadata": {},
     "output_type": "execute_result"
    }
   ],
   "source": [
    "daily_summary = soup.find('div', attrs={'class': 'wr-day-summary'})\n",
    "daily_summary.text"
   ]
  },
  {
   "cell_type": "code",
   "execution_count": 28,
   "metadata": {
    "colab": {
     "base_uri": "https://localhost:8080/",
     "height": 35
    },
    "id": "wYXfNscP9H4p",
    "outputId": "e34232db-64c1-4fa9-9979-e9e1cf867715"
   },
   "outputs": [
    {
     "data": {
      "text/plain": [
       "'31° 88°'"
      ]
     },
     "execution_count": 28,
     "metadata": {},
     "output_type": "execute_result"
    }
   ],
   "source": [
    "daily_high_values[0].text.strip()"
   ]
  },
  {
   "cell_type": "code",
   "execution_count": 29,
   "metadata": {
    "colab": {
     "base_uri": "https://localhost:8080/",
     "height": 35
    },
    "id": "EpYaNjJn9H4v",
    "outputId": "8e91293a-5be5-4901-bb18-5e5ffbe353dd"
   },
   "outputs": [
    {
     "data": {
      "text/plain": [
       "'31°'"
      ]
     },
     "execution_count": 29,
     "metadata": {},
     "output_type": "execute_result"
    }
   ],
   "source": [
    "daily_high_values[0].text.strip().split()[0]"
   ]
  },
  {
   "cell_type": "code",
   "execution_count": 30,
   "metadata": {
    "colab": {
     "base_uri": "https://localhost:8080/"
    },
    "id": "uvBbV5AT9H40",
    "outputId": "00b4b587-d494-482a-bde5-ae6d3c61b1de"
   },
   "outputs": [
    {
     "name": "stdout",
     "output_type": "stream",
     "text": [
      "['31°', '31°', '31°', '30°', '30°', '30°', '29°', '29°', '29°', '29°', '29°', '29°', '29°']\n"
     ]
    }
   ],
   "source": [
    "daily_high_values_list = [daily_high_values[i].text.strip().split()[0] for i in range(len(daily_high_values))]\n",
    "print(daily_high_values_list)"
   ]
  },
  {
   "cell_type": "code",
   "execution_count": 31,
   "metadata": {
    "colab": {
     "base_uri": "https://localhost:8080/"
    },
    "id": "cOafAXHZ9H45",
    "outputId": "5f51f936-93ed-460b-a62c-b648c269318f"
   },
   "outputs": [],
   "source": [
    "daily_low_values_list = [daily_low_values[i].text.strip().split()[0] for i in range(len(daily_low_values))]"
   ]
  },
  {
   "cell_type": "code",
   "execution_count": 32,
   "metadata": {
    "colab": {
     "base_uri": "https://localhost:8080/"
    },
    "id": "NAFzsNuB9H5j",
    "outputId": "f812523f-2ab9-48e3-e205-5c1572449905"
   },
   "outputs": [
    {
     "name": "stdout",
     "output_type": "stream",
     "text": [
      "['Thundery showers and a gentle breeze', 'Light cloud and a gentle breeze', 'Light cloud and a gentle breeze', 'Light rain showers and a gentle breeze', 'Thundery showers and a gentle breeze', 'Thundery showers and a moderate breeze', 'Thundery showers and a moderate breeze', 'Thundery showers and a moderate breeze', 'Thundery showers and a moderate breeze', 'Thundery showers and a moderate breeze', 'Thundery showers and a moderate breeze', 'Thundery showers and a moderate breeze', 'Thundery showers and a moderate breeze', 'Thundery showers and a moderate breeze']\n"
     ]
    }
   ],
   "source": [
    "daily_summary_list = re.findall('[a-zA-Z][^A-Z]*', daily_summary.text) #split the string on uppercase\n",
    "print(daily_summary_list)"
   ]
  },
  {
   "cell_type": "code",
   "execution_count": 36,
   "metadata": {
    "colab": {
     "base_uri": "https://localhost:8080/"
    },
    "collapsed": true,
    "id": "WAcgJCLp9H5p",
    "jupyter": {
     "outputs_hidden": true
    },
    "outputId": "0bc122d1-f465-46e9-9bd7-10d28a96b902"
   },
   "outputs": [
    {
     "data": {
      "text/plain": [
       "[Timestamp('2022-06-23 18:49:00.364335', freq='D'),\n",
       " Timestamp('2022-06-24 18:49:00.364335', freq='D'),\n",
       " Timestamp('2022-06-25 18:49:00.364335', freq='D'),\n",
       " Timestamp('2022-06-26 18:49:00.364335', freq='D'),\n",
       " Timestamp('2022-06-27 18:49:00.364335', freq='D'),\n",
       " Timestamp('2022-06-28 18:49:00.364335', freq='D'),\n",
       " Timestamp('2022-06-29 18:49:00.364335', freq='D'),\n",
       " Timestamp('2022-06-30 18:49:00.364335', freq='D'),\n",
       " Timestamp('2022-07-01 18:49:00.364335', freq='D'),\n",
       " Timestamp('2022-07-02 18:49:00.364335', freq='D'),\n",
       " Timestamp('2022-07-03 18:49:00.364335', freq='D'),\n",
       " Timestamp('2022-07-04 18:49:00.364335', freq='D'),\n",
       " Timestamp('2022-07-05 18:49:00.364335', freq='D')]"
      ]
     },
     "execution_count": 36,
     "metadata": {},
     "output_type": "execute_result"
    }
   ],
   "source": [
    "datelist = pd.date_range(datetime.today(), periods=len(daily_high_values)).tolist()\n",
    "datelist"
   ]
  },
  {
   "cell_type": "code",
   "execution_count": 37,
   "metadata": {
    "colab": {
     "base_uri": "https://localhost:8080/"
    },
    "collapsed": true,
    "id": "txU3R5wX9H5v",
    "jupyter": {
     "outputs_hidden": true
    },
    "outputId": "632ab8ae-9959-4a4e-98ef-4f66eacb69ab"
   },
   "outputs": [
    {
     "data": {
      "text/plain": [
       "['22-06-23',\n",
       " '22-06-24',\n",
       " '22-06-25',\n",
       " '22-06-26',\n",
       " '22-06-27',\n",
       " '22-06-28',\n",
       " '22-06-29',\n",
       " '22-06-30',\n",
       " '22-07-01',\n",
       " '22-07-02',\n",
       " '22-07-03',\n",
       " '22-07-04',\n",
       " '22-07-05']"
      ]
     },
     "execution_count": 37,
     "metadata": {},
     "output_type": "execute_result"
    }
   ],
   "source": [
    "datelist = [datelist[i].date().strftime('%y-%m-%d') for i in range(len(datelist))]\n",
    "datelist"
   ]
  },
  {
   "cell_type": "code",
   "execution_count": 38,
   "metadata": {
    "id": "VSwi6b5v9H5v"
   },
   "outputs": [],
   "source": [
    "zipped = zip(datelist, daily_high_values_list, daily_low_values_list, daily_summary_list)"
   ]
  },
  {
   "cell_type": "code",
   "execution_count": 39,
   "metadata": {
    "id": "K5_Devru9H5v"
   },
   "outputs": [],
   "source": [
    "df = pd.DataFrame(list(zipped), columns=['Date', 'High','Low', 'Summary'])"
   ]
  },
  {
   "cell_type": "code",
   "execution_count": 40,
   "metadata": {
    "colab": {
     "base_uri": "https://localhost:8080/",
     "height": 488
    },
    "collapsed": true,
    "id": "VwaAs_HO9H5x",
    "jupyter": {
     "outputs_hidden": true
    },
    "outputId": "f7ac2a5c-3cca-4105-c49a-362b96ec1caf"
   },
   "outputs": [
    {
     "data": {
      "text/html": [
       "<div>\n",
       "<style scoped>\n",
       "    .dataframe tbody tr th:only-of-type {\n",
       "        vertical-align: middle;\n",
       "    }\n",
       "\n",
       "    .dataframe tbody tr th {\n",
       "        vertical-align: top;\n",
       "    }\n",
       "\n",
       "    .dataframe thead th {\n",
       "        text-align: right;\n",
       "    }\n",
       "</style>\n",
       "<table border=\"1\" class=\"dataframe\">\n",
       "  <thead>\n",
       "    <tr style=\"text-align: right;\">\n",
       "      <th></th>\n",
       "      <th>Date</th>\n",
       "      <th>High</th>\n",
       "      <th>Low</th>\n",
       "      <th>Summary</th>\n",
       "    </tr>\n",
       "  </thead>\n",
       "  <tbody>\n",
       "    <tr>\n",
       "      <th>0</th>\n",
       "      <td>22-06-23</td>\n",
       "      <td>31°</td>\n",
       "      <td>24°</td>\n",
       "      <td>Thundery showers and a gentle breeze</td>\n",
       "    </tr>\n",
       "    <tr>\n",
       "      <th>1</th>\n",
       "      <td>22-06-24</td>\n",
       "      <td>31°</td>\n",
       "      <td>26°</td>\n",
       "      <td>Light cloud and a gentle breeze</td>\n",
       "    </tr>\n",
       "    <tr>\n",
       "      <th>2</th>\n",
       "      <td>22-06-25</td>\n",
       "      <td>31°</td>\n",
       "      <td>26°</td>\n",
       "      <td>Light cloud and a gentle breeze</td>\n",
       "    </tr>\n",
       "    <tr>\n",
       "      <th>3</th>\n",
       "      <td>22-06-26</td>\n",
       "      <td>30°</td>\n",
       "      <td>26°</td>\n",
       "      <td>Light rain showers and a gentle breeze</td>\n",
       "    </tr>\n",
       "    <tr>\n",
       "      <th>4</th>\n",
       "      <td>22-06-27</td>\n",
       "      <td>30°</td>\n",
       "      <td>27°</td>\n",
       "      <td>Thundery showers and a gentle breeze</td>\n",
       "    </tr>\n",
       "    <tr>\n",
       "      <th>5</th>\n",
       "      <td>22-06-28</td>\n",
       "      <td>30°</td>\n",
       "      <td>26°</td>\n",
       "      <td>Thundery showers and a moderate breeze</td>\n",
       "    </tr>\n",
       "    <tr>\n",
       "      <th>6</th>\n",
       "      <td>22-06-29</td>\n",
       "      <td>29°</td>\n",
       "      <td>26°</td>\n",
       "      <td>Thundery showers and a moderate breeze</td>\n",
       "    </tr>\n",
       "    <tr>\n",
       "      <th>7</th>\n",
       "      <td>22-06-30</td>\n",
       "      <td>29°</td>\n",
       "      <td>26°</td>\n",
       "      <td>Thundery showers and a moderate breeze</td>\n",
       "    </tr>\n",
       "    <tr>\n",
       "      <th>8</th>\n",
       "      <td>22-07-01</td>\n",
       "      <td>29°</td>\n",
       "      <td>26°</td>\n",
       "      <td>Thundery showers and a moderate breeze</td>\n",
       "    </tr>\n",
       "    <tr>\n",
       "      <th>9</th>\n",
       "      <td>22-07-02</td>\n",
       "      <td>29°</td>\n",
       "      <td>26°</td>\n",
       "      <td>Thundery showers and a moderate breeze</td>\n",
       "    </tr>\n",
       "    <tr>\n",
       "      <th>10</th>\n",
       "      <td>22-07-03</td>\n",
       "      <td>29°</td>\n",
       "      <td>26°</td>\n",
       "      <td>Thundery showers and a moderate breeze</td>\n",
       "    </tr>\n",
       "    <tr>\n",
       "      <th>11</th>\n",
       "      <td>22-07-04</td>\n",
       "      <td>29°</td>\n",
       "      <td>26°</td>\n",
       "      <td>Thundery showers and a moderate breeze</td>\n",
       "    </tr>\n",
       "    <tr>\n",
       "      <th>12</th>\n",
       "      <td>22-07-05</td>\n",
       "      <td>29°</td>\n",
       "      <td>26°</td>\n",
       "      <td>Thundery showers and a moderate breeze</td>\n",
       "    </tr>\n",
       "  </tbody>\n",
       "</table>\n",
       "</div>"
      ],
      "text/plain": [
       "        Date High  Low                                 Summary\n",
       "0   22-06-23  31°  24°    Thundery showers and a gentle breeze\n",
       "1   22-06-24  31°  26°         Light cloud and a gentle breeze\n",
       "2   22-06-25  31°  26°         Light cloud and a gentle breeze\n",
       "3   22-06-26  30°  26°  Light rain showers and a gentle breeze\n",
       "4   22-06-27  30°  27°    Thundery showers and a gentle breeze\n",
       "5   22-06-28  30°  26°  Thundery showers and a moderate breeze\n",
       "6   22-06-29  29°  26°  Thundery showers and a moderate breeze\n",
       "7   22-06-30  29°  26°  Thundery showers and a moderate breeze\n",
       "8   22-07-01  29°  26°  Thundery showers and a moderate breeze\n",
       "9   22-07-02  29°  26°  Thundery showers and a moderate breeze\n",
       "10  22-07-03  29°  26°  Thundery showers and a moderate breeze\n",
       "11  22-07-04  29°  26°  Thundery showers and a moderate breeze\n",
       "12  22-07-05  29°  26°  Thundery showers and a moderate breeze"
      ]
     },
     "metadata": {},
     "output_type": "display_data"
    }
   ],
   "source": [
    "display(df)"
   ]
  },
  {
   "cell_type": "code",
   "execution_count": 41,
   "metadata": {
    "id": "eNrnI0LA9H51"
   },
   "outputs": [],
   "source": [
    "# remove the 'degree' character\n",
    "df.High = df.High.replace('\\°','',regex=True).astype(float)\n",
    "df.Low  = df.Low.replace('\\°','',regex=True).astype(float)"
   ]
  },
  {
   "cell_type": "code",
   "execution_count": 42,
   "metadata": {
    "colab": {
     "base_uri": "https://localhost:8080/",
     "height": 488
    },
    "collapsed": true,
    "id": "OYhZw1VV9H54",
    "jupyter": {
     "outputs_hidden": true
    },
    "outputId": "f0eef7f1-832c-4650-af70-b6e965eac046"
   },
   "outputs": [
    {
     "data": {
      "text/html": [
       "<div>\n",
       "<style scoped>\n",
       "    .dataframe tbody tr th:only-of-type {\n",
       "        vertical-align: middle;\n",
       "    }\n",
       "\n",
       "    .dataframe tbody tr th {\n",
       "        vertical-align: top;\n",
       "    }\n",
       "\n",
       "    .dataframe thead th {\n",
       "        text-align: right;\n",
       "    }\n",
       "</style>\n",
       "<table border=\"1\" class=\"dataframe\">\n",
       "  <thead>\n",
       "    <tr style=\"text-align: right;\">\n",
       "      <th></th>\n",
       "      <th>Date</th>\n",
       "      <th>High</th>\n",
       "      <th>Low</th>\n",
       "      <th>Summary</th>\n",
       "    </tr>\n",
       "  </thead>\n",
       "  <tbody>\n",
       "    <tr>\n",
       "      <th>0</th>\n",
       "      <td>22-06-23</td>\n",
       "      <td>31.0</td>\n",
       "      <td>24.0</td>\n",
       "      <td>Thundery showers and a gentle breeze</td>\n",
       "    </tr>\n",
       "    <tr>\n",
       "      <th>1</th>\n",
       "      <td>22-06-24</td>\n",
       "      <td>31.0</td>\n",
       "      <td>26.0</td>\n",
       "      <td>Light cloud and a gentle breeze</td>\n",
       "    </tr>\n",
       "    <tr>\n",
       "      <th>2</th>\n",
       "      <td>22-06-25</td>\n",
       "      <td>31.0</td>\n",
       "      <td>26.0</td>\n",
       "      <td>Light cloud and a gentle breeze</td>\n",
       "    </tr>\n",
       "    <tr>\n",
       "      <th>3</th>\n",
       "      <td>22-06-26</td>\n",
       "      <td>30.0</td>\n",
       "      <td>26.0</td>\n",
       "      <td>Light rain showers and a gentle breeze</td>\n",
       "    </tr>\n",
       "    <tr>\n",
       "      <th>4</th>\n",
       "      <td>22-06-27</td>\n",
       "      <td>30.0</td>\n",
       "      <td>27.0</td>\n",
       "      <td>Thundery showers and a gentle breeze</td>\n",
       "    </tr>\n",
       "    <tr>\n",
       "      <th>5</th>\n",
       "      <td>22-06-28</td>\n",
       "      <td>30.0</td>\n",
       "      <td>26.0</td>\n",
       "      <td>Thundery showers and a moderate breeze</td>\n",
       "    </tr>\n",
       "    <tr>\n",
       "      <th>6</th>\n",
       "      <td>22-06-29</td>\n",
       "      <td>29.0</td>\n",
       "      <td>26.0</td>\n",
       "      <td>Thundery showers and a moderate breeze</td>\n",
       "    </tr>\n",
       "    <tr>\n",
       "      <th>7</th>\n",
       "      <td>22-06-30</td>\n",
       "      <td>29.0</td>\n",
       "      <td>26.0</td>\n",
       "      <td>Thundery showers and a moderate breeze</td>\n",
       "    </tr>\n",
       "    <tr>\n",
       "      <th>8</th>\n",
       "      <td>22-07-01</td>\n",
       "      <td>29.0</td>\n",
       "      <td>26.0</td>\n",
       "      <td>Thundery showers and a moderate breeze</td>\n",
       "    </tr>\n",
       "    <tr>\n",
       "      <th>9</th>\n",
       "      <td>22-07-02</td>\n",
       "      <td>29.0</td>\n",
       "      <td>26.0</td>\n",
       "      <td>Thundery showers and a moderate breeze</td>\n",
       "    </tr>\n",
       "    <tr>\n",
       "      <th>10</th>\n",
       "      <td>22-07-03</td>\n",
       "      <td>29.0</td>\n",
       "      <td>26.0</td>\n",
       "      <td>Thundery showers and a moderate breeze</td>\n",
       "    </tr>\n",
       "    <tr>\n",
       "      <th>11</th>\n",
       "      <td>22-07-04</td>\n",
       "      <td>29.0</td>\n",
       "      <td>26.0</td>\n",
       "      <td>Thundery showers and a moderate breeze</td>\n",
       "    </tr>\n",
       "    <tr>\n",
       "      <th>12</th>\n",
       "      <td>22-07-05</td>\n",
       "      <td>29.0</td>\n",
       "      <td>26.0</td>\n",
       "      <td>Thundery showers and a moderate breeze</td>\n",
       "    </tr>\n",
       "  </tbody>\n",
       "</table>\n",
       "</div>"
      ],
      "text/plain": [
       "        Date  High   Low                                 Summary\n",
       "0   22-06-23  31.0  24.0    Thundery showers and a gentle breeze\n",
       "1   22-06-24  31.0  26.0         Light cloud and a gentle breeze\n",
       "2   22-06-25  31.0  26.0         Light cloud and a gentle breeze\n",
       "3   22-06-26  30.0  26.0  Light rain showers and a gentle breeze\n",
       "4   22-06-27  30.0  27.0    Thundery showers and a gentle breeze\n",
       "5   22-06-28  30.0  26.0  Thundery showers and a moderate breeze\n",
       "6   22-06-29  29.0  26.0  Thundery showers and a moderate breeze\n",
       "7   22-06-30  29.0  26.0  Thundery showers and a moderate breeze\n",
       "8   22-07-01  29.0  26.0  Thundery showers and a moderate breeze\n",
       "9   22-07-02  29.0  26.0  Thundery showers and a moderate breeze\n",
       "10  22-07-03  29.0  26.0  Thundery showers and a moderate breeze\n",
       "11  22-07-04  29.0  26.0  Thundery showers and a moderate breeze\n",
       "12  22-07-05  29.0  26.0  Thundery showers and a moderate breeze"
      ]
     },
     "metadata": {},
     "output_type": "display_data"
    }
   ],
   "source": [
    "display(df)"
   ]
  },
  {
   "cell_type": "code",
   "execution_count": 43,
   "metadata": {
    "colab": {
     "base_uri": "https://localhost:8080/"
    },
    "id": "HkRuIj3d9H56",
    "outputId": "af2f3ab7-faed-4773-c8d9-3f0a0f424c5f"
   },
   "outputs": [
    {
     "data": {
      "text/plain": [
       "['Mumbai', '-', 'Weather', 'warnings', 'issued']"
      ]
     },
     "execution_count": 43,
     "metadata": {},
     "output_type": "execute_result"
    }
   ],
   "source": [
    "#location = soup.find('div', attrs={'class':'wr-c-location'})\n",
    "location = soup.find('h1', attrs={'id':'wr-location-name-id'})\n",
    "location.text.split()"
   ]
  },
  {
   "cell_type": "code",
   "execution_count": 44,
   "metadata": {
    "id": "WLH8Rj8z9H56"
   },
   "outputs": [],
   "source": [
    "# create a recording\n",
    "filename_csv = location.text.split()[0]+'.csv'\n",
    "df.to_csv(filename_csv, index=None)"
   ]
  },
  {
   "cell_type": "code",
   "execution_count": 45,
   "metadata": {
    "id": "GgZEgrlh9H6B"
   },
   "outputs": [],
   "source": [
    "# filename_xlsx = location.text.split()[0]+'.xlsx'\n",
    "# df.to_excel(filename_xlsx)"
   ]
  },
  {
   "cell_type": "markdown",
   "metadata": {},
   "source": [
    "## Scrape IMDB"
   ]
  },
  {
   "cell_type": "code",
   "execution_count": 46,
   "metadata": {},
   "outputs": [],
   "source": [
    "url = \"https://www.imdb.com/chart/top/\"\n",
    "response = requests.get(url)\n",
    "soup = bs(response.content,'html.parser') "
   ]
  },
  {
   "cell_type": "code",
   "execution_count": 48,
   "metadata": {
    "id": "uPeJOmob9H0P"
   },
   "outputs": [],
   "source": [
    "movie_title = []\n",
    "movie_year = []\n",
    "movie_rating = []"
   ]
  },
  {
   "cell_type": "code",
   "execution_count": 49,
   "metadata": {
    "id": "8Wn5Bc_49H1A"
   },
   "outputs": [],
   "source": [
    "imdb_table = soup.find(class_=\"chart full-width\")\n",
    "movie_titlecolumn = imdb_table.find_all(class_=\"titleColumn\")\n",
    "movie_ratingscolumn = imdb_table.find_all(class_=\"ratingColumn imdbRating\")"
   ]
  },
  {
   "cell_type": "code",
   "execution_count": 50,
   "metadata": {},
   "outputs": [
    {
     "name": "stdout",
     "output_type": "stream",
     "text": [
      "250\n",
      "['The Shawshank Redemption', 'The Godfather', 'The Dark Knight', 'The Godfather Part II', '12 Angry Men']\n"
     ]
    }
   ],
   "source": [
    "for row in movie_titlecolumn:\n",
    "    title = row.a.text # tag content extraction\n",
    "    movie_title.append(title)\n",
    "    \n",
    "print(len(movie_title))\n",
    "print(movie_title[:5])"
   ]
  },
  {
   "cell_type": "code",
   "execution_count": 51,
   "metadata": {},
   "outputs": [
    {
     "name": "stdout",
     "output_type": "stream",
     "text": [
      "250\n",
      "['(1994)', '(1972)', '(2008)', '(1974)', '(1957)']\n"
     ]
    }
   ],
   "source": [
    "for row in movie_titlecolumn:\n",
    "    year = row.span.text # tag content extraction\n",
    "    movie_year.append(year)\n",
    "    \n",
    "print(len(movie_year))\n",
    "print(movie_year[:5])"
   ]
  },
  {
   "cell_type": "code",
   "execution_count": 52,
   "metadata": {},
   "outputs": [
    {
     "name": "stdout",
     "output_type": "stream",
     "text": [
      "250\n",
      "['9.2', '9.2', '9.0', '9.0', '8.9']\n"
     ]
    }
   ],
   "source": [
    "for row in movie_ratingscolumn:\n",
    "    rating = row.strong.text # tag content extraction\n",
    "    movie_rating.append(rating)\n",
    "    \n",
    "print(len(movie_rating))\n",
    "print(movie_rating[:5])"
   ]
  },
  {
   "cell_type": "code",
   "execution_count": 53,
   "metadata": {},
   "outputs": [
    {
     "data": {
      "text/html": [
       "<div>\n",
       "<style scoped>\n",
       "    .dataframe tbody tr th:only-of-type {\n",
       "        vertical-align: middle;\n",
       "    }\n",
       "\n",
       "    .dataframe tbody tr th {\n",
       "        vertical-align: top;\n",
       "    }\n",
       "\n",
       "    .dataframe thead th {\n",
       "        text-align: right;\n",
       "    }\n",
       "</style>\n",
       "<table border=\"1\" class=\"dataframe\">\n",
       "  <thead>\n",
       "    <tr style=\"text-align: right;\">\n",
       "      <th></th>\n",
       "      <th>Movie Title</th>\n",
       "      <th>Year of Release</th>\n",
       "      <th>IMDb Rating</th>\n",
       "    </tr>\n",
       "  </thead>\n",
       "  <tbody>\n",
       "    <tr>\n",
       "      <th>0</th>\n",
       "      <td>The Shawshank Redemption</td>\n",
       "      <td>(1994)</td>\n",
       "      <td>9.2</td>\n",
       "    </tr>\n",
       "    <tr>\n",
       "      <th>1</th>\n",
       "      <td>The Godfather</td>\n",
       "      <td>(1972)</td>\n",
       "      <td>9.2</td>\n",
       "    </tr>\n",
       "    <tr>\n",
       "      <th>2</th>\n",
       "      <td>The Dark Knight</td>\n",
       "      <td>(2008)</td>\n",
       "      <td>9.0</td>\n",
       "    </tr>\n",
       "  </tbody>\n",
       "</table>\n",
       "</div>"
      ],
      "text/plain": [
       "                Movie Title Year of Release IMDb Rating\n",
       "0  The Shawshank Redemption          (1994)         9.2\n",
       "1             The Godfather          (1972)         9.2\n",
       "2           The Dark Knight          (2008)         9.0"
      ]
     },
     "execution_count": 53,
     "metadata": {},
     "output_type": "execute_result"
    }
   ],
   "source": [
    "movie_df = pd.DataFrame({'Movie Title': movie_title, 'Year of Release': movie_year, 'IMDb Rating': movie_rating})\n",
    "movie_df.head(3)"
   ]
  },
  {
   "cell_type": "code",
   "execution_count": 54,
   "metadata": {},
   "outputs": [
    {
     "data": {
      "text/plain": [
       "(250, 3)"
      ]
     },
     "execution_count": 54,
     "metadata": {},
     "output_type": "execute_result"
    }
   ],
   "source": [
    "movie_df.shape"
   ]
  },
  {
   "cell_type": "markdown",
   "metadata": {},
   "source": [
    "## Wikipedia"
   ]
  },
  {
   "cell_type": "code",
   "execution_count": 65,
   "metadata": {},
   "outputs": [
    {
     "name": "stdout",
     "output_type": "stream",
     "text": [
      "10 \n",
      " ['Kingsport, Tennessee', 'Kingsport (disambiguation)', 'Kingsport Mets', 'Lovecraft Country', 'Kingsport Axmen', 'Tri-Cities, Tennessee', 'Appalachian League', 'Kingsport, Nova Scotia', 'Kingsport City Schools', 'Kingsport–Bristol–Bristol, Tennessee-Virginia Metropolitan Statistical Area']\n"
     ]
    }
   ],
   "source": [
    "x = wk.search(\"Kingsport\")\n",
    "print(len(x), \"\\n\", x)"
   ]
  },
  {
   "cell_type": "code",
   "execution_count": 3,
   "metadata": {},
   "outputs": [],
   "source": [
    "# ?urlencode\n",
    "# ?urljoin"
   ]
  },
  {
   "cell_type": "markdown",
   "metadata": {},
   "source": [
    "### IITM"
   ]
  },
  {
   "cell_type": "code",
   "execution_count": 66,
   "metadata": {
    "colab": {
     "base_uri": "https://localhost:8080/"
    },
    "id": "HlISPPt7DNuK",
    "outputId": "fdae873e-9f1d-4cde-b47c-b48425fade79"
   },
   "outputs": [
    {
     "name": "stdout",
     "output_type": "stream",
     "text": [
      "['IIT Madras', 'Indian Institutes of Technology', 'Joint Entrance Examination – Advanced', 'Inter IIT Sports Meet', 'IIT Tirupati', 'List of IIT Madras people', 'IIT Palakkad', 'History of Indian Institutes of Technology', 'IIT Kharagpur', 'Chennai']\n"
     ]
    }
   ],
   "source": [
    "print(wk.search(\"IIT Madras\")) "
   ]
  },
  {
   "cell_type": "code",
   "execution_count": 67,
   "metadata": {
    "colab": {
     "base_uri": "https://localhost:8080/"
    },
    "id": "NqEOlq1wDNux",
    "outputId": "65ca2f8e-131a-4891-c104-463705778138"
   },
   "outputs": [
    {
     "name": "stdout",
     "output_type": "stream",
     "text": [
      "['IIT Madras', 'Indian Institutes of Technology']\n"
     ]
    }
   ],
   "source": [
    "print(wk.search(\"IIT Madras\", results=2))"
   ]
  },
  {
   "cell_type": "code",
   "execution_count": 68,
   "metadata": {
    "colab": {
     "base_uri": "https://localhost:8080/"
    },
    "id": "vDy-UnxvDNvc",
    "outputId": "29c79beb-bfbc-4425-f834-0765b39eee93"
   },
   "outputs": [
    {
     "name": "stdout",
     "output_type": "stream",
     "text": [
      "Indian Institute of Technology Madras (IIT Madras) is a public technical university located in Chennai, Tamil Nadu, India. As one of the Indian Institutes of Technology (IITs), it is recognized as an Institute of National Importance and has been consistently rated as one of India's most prestigious universities. Founded in 1959 with technical and financial assistance from the former government of West Germany, it was the third IIT established by the Government of India. IIT Madras is ranked the top engineering institute in India by the Ministry of Education's National Institutional Ranking Framework since its inception in 2016.IIT Madras is a residential institute that occupies a 2.5-square-kilometre (0.97 sq mi) campus that was formerly part of the adjoining Guindy National Park. The institute has nearly 600 faculty, 10,000 students and 1,250 administrative and supporting staff. Growing ever since it obtained its charter from the Indian Parliament in 1961, much of the campus is a protected forest, carved out of the Guindy National Park, home to large numbers of chital (spotted deer), black buck, bonnet macaque, and other rare wildlife. A natural lake, deepened in 1988 and 2003, drains most of its rainwater.\n",
      "\n",
      "\n"
     ]
    }
   ],
   "source": [
    "print(wk.summary(\"IIT Madras\"))"
   ]
  },
  {
   "cell_type": "code",
   "execution_count": 69,
   "metadata": {
    "colab": {
     "base_uri": "https://localhost:8080/"
    },
    "id": "lOMyYdyNDNvk",
    "outputId": "c85c6242-1936-4eb6-abf1-50860ab6bc2b"
   },
   "outputs": [
    {
     "name": "stdout",
     "output_type": "stream",
     "text": [
      "Indian Institute of Technology Madras (IIT Madras) is a public technical university located in Chennai, Tamil Nadu, India. As one of the Indian Institutes of Technology (IITs), it is recognized as an Institute of National Importance and has been consistently rated as one of India's most prestigious universities.\n"
     ]
    }
   ],
   "source": [
    "print(wk.summary(\"IIT Madras\", sentences=2))"
   ]
  },
  {
   "cell_type": "code",
   "execution_count": 70,
   "metadata": {
    "id": "BKH458-BDNwR"
   },
   "outputs": [],
   "source": [
    "full_page = wk.page(\"IIT Madras\")"
   ]
  },
  {
   "cell_type": "code",
   "execution_count": 71,
   "metadata": {
    "colab": {
     "base_uri": "https://localhost:8080/"
    },
    "collapsed": true,
    "id": "_iYEwmhEDNxL",
    "jupyter": {
     "outputs_hidden": true
    },
    "outputId": "b7b4246a-7cd9-431c-b221-f4829e8c06af"
   },
   "outputs": [
    {
     "name": "stdout",
     "output_type": "stream",
     "text": [
      "Indian Institute of Technology Madras (IIT Madras) is a public technical university located in Chennai, Tamil Nadu, India. As one of the Indian Institutes of Technology (IITs), it is recognized as an Institute of National Importance and has been consistently rated as one of India's most prestigious universities. Founded in 1959 with technical and financial assistance from the former government of West Germany, it was the third IIT established by the Government of India. IIT Madras is ranked the top engineering institute in India by the Ministry of Education's National Institutional Ranking Framework since its inception in 2016.IIT Madras is a residential institute that occupies a 2.5-square-kilometre (0.97 sq mi) campus that was formerly part of the adjoining Guindy National Park. The institute has nearly 600 faculty, 10,000 students and 1,250 administrative and supporting staff. Growing ever since it obtained its charter from the Indian Parliament in 1961, much of the campus is a protected forest, carved out of the Guindy National Park, home to large numbers of chital (spotted deer), black buck, bonnet macaque, and other rare wildlife. A natural lake, deepened in 1988 and 2003, drains most of its rainwater.\n",
      "\n",
      "\n",
      "== History ==\n",
      "\n",
      "In 1956, the West German Government offered technical assistance for establishing an institute of higher education in engineering in India. The first Indo-German agreement was signed in Bonn, West Germany in 1959 for the establishment of the Indian Institute of Technology at Madras. IIT Madras was started with technical, academic and financial assistance from the Government of West Germany and was at the time the largest international educational project sponsored by the West German government. The Government of the Federal Republic of Germany has agreed to provide the following assistance in the establishment of a higher technological institute at Madras:\n",
      "\n",
      "A workshop, laboratory equipment, and a library whose total value does not exceed ₹1.8 crore (US$240,000).\n",
      "Twenty German professors to serve at the Institute for a period of four to five years\n",
      "Four German foremen for the workshops of the Institute for 2 years\n",
      "Facilities for the training of twenty Indian teachers in German institutionsThis has led to several collaborative research efforts with universities and institutions in Germany over the years. Although official support from the German government has ended, several research efforts involving the DAAD programme and Humboldt Fellowships still exist.\n",
      "The Higher Technological Institute at Madras known as the Indian Institute of Technology, Madras has started functioning The first batch of 120 students was admitted in July 1959 to the first year of the Engineering Course. The institute was inaugurated in 1959, by the then Union Minister for Scientific Research and Cultural Affairs. The first batch had an overall strength of 120 students from across India. In 1961, the IITs were declared to be Institutes of National Importance. The first convocation ceremony was held on 11 July 1964, with Dr. S. Radhakrishnan, then the President of India, delivering the convocation address and awarding the degrees to the inaugural batch of students. The institute got its first women students in the BTech batch of 1966. IIT Madras celebrated its Golden Jubilee in 2009, and its Diamond Jubilee in 2019.\n",
      "\n",
      "\n",
      "== Campus ==\n",
      "The main entrance of IIT Madras is on Sardar Patel Road, flanked by the residential districts of Adyar and Velachery. The campus is close to the Raj Bhavan, the official seat of the Governor of Tamil Nadu. Other entrances are located in Velachery (near Anna Garden MTC bus stop, Velachery Main Road), Gandhi Road and Taramani gate (close to Ascendas Tech Park).\n",
      "The campus is located 10 km (6.2 mi) from the Chennai Airport, 12 km (7.5 mi) from the Chennai Central Railway station, and is connected by city buses. Kasturba Nagar is the nearest station on the Chennai MRTS line.\n",
      "Two parallel roads, Bonn Avenue and Delhi Avenue, cut through the faculty residential area before they meet at the Gajendra Circle, near the Administrative Block. Buses regularly ply between the Main Gate, Gajendra Circle, the Academic Zone, and the Hostel Zone.\n",
      "\n",
      "\n",
      "=== Student Hostels ===\n",
      "Most students at IIT Madras reside in hostels, where extracurricular activities complement the academic routine. The campus has 20 hostels, of which four, Sharavati, Sarayu, Sabarmati and the recently constructed Tunga are exclusively for women. In earlier times, each hostel had attached dining facilities but all of them have since been closed down. Dining facilities are provided in three centralised halls: Nilgiri, Vindhya and Himalaya. Students are assigned to hostels upon matriculation, where they usually reside for the entire duration of their course of study.\n",
      "\n",
      "The halls of IITM are:\n",
      "\n",
      "Sindhu, Pampa, Mahanadhi and Tamiraparani are seven-storeyed whereas all the other hostels are three or four storeyed. These four hostels can accommodate more than 1,200 students. The older hostels were all three-storeyed till the early 2000s when extra rooms were added. An additional new floor in the three-storeyed hostels which generally house the undergraduate students and a new block in place of the mess halls of these hostels have been constructed to accommodate for the increased intake of the students. These new blocks could be used as entrances for these hostels. As of 2020, Mandakini has been demolished and a multi-storey block is under construction, with provision to accommodate approximately 1000 students.\n",
      "\n",
      "\n",
      "=== Facilities ===\n",
      "IIT Madras provides residential accommodation for its students, faculty, administrative and supporting staff, and their families. The residential houses employ private caterers. The self-contained campus includes two schools               (Vanavani and Kendriya Vidyalaya), three temples (Jalakanteshwara, Durga Peliamman and Ganapathi), three bank branches (SBI, ICICI, Canara Bank), a hospital, shopping centres, food shops, a gym, sleeping room and cricket, football, hockey and badminton stadiums. Internet is available in the academic zone and the faculty and staff residential zone. Earlier Internet was limited in hostel-zone from 2:00 pm till midnight and from 5:00 am to 8:00 am, but increasing demand during academic semester led to round-the-clock Internet service.IIT Madras also has supercomputing capability, with the IBM Virgo Super Cluster with 97 teraflops worth of computational power.\n",
      "\n",
      "\n",
      "== Organisation and administration ==\n",
      "\n",
      "\n",
      "=== Governance ===\n",
      "IIT Madras is an autonomous statutory organisation functioning within the Institutes of Technology Act. The sixteen IITs are administered centrally by the IIT Council, an apex body established by the Government of India. The Minister of Human Resources and Development is the chairman of the council. Each institute has a Board of Governors responsible for its administration and control.\n",
      "The Senate comprises all professors of the Institute and decides its academic policy. It controls and approves the curriculum, courses, examinations, and results. It appoints committees to examine specific academic matters. The Director of the institute serves as the Chairman of the Senate. The current director is Kamakoti Veezhinathan.Three Senate Sub-Committees – The Board of Academic Research, The Board of Academic Courses and The Board of Students – help in academic administration and in the operations of the institute. The Finance Committee advises on matters of financial policy, while the Building and Works Committee advises on buildings and infrastructure. The Board of Industrial Consultancy and Sponsored Research addresses industrial consultancy and the Library Advisory Committee oversees library matters.\n",
      "\n",
      "\n",
      "=== Departments ===\n",
      "Aerospace Engineering\n",
      "Applied Mechanics\n",
      "Biotechnology (Bhupat and Jyoti Mehta School of Biosciences)\n",
      "Chemical Engineering\n",
      "Chemistry\n",
      "Civil Engineering\n",
      "Computer Science and Engineering\n",
      "Electrical Engineering\n",
      "Engineering Design\n",
      "Humanities and Social Sciences\n",
      "Mechanical Engineering\n",
      "Management Studies\n",
      "Metallurgical and Materials Engineering\n",
      "Mathematics\n",
      "Ocean Engineering\n",
      "Physics\n",
      "\n",
      "\n",
      "== Academics ==\n",
      "IIT Madras offers undergraduate, postgraduate and research degrees across 16 disciplines in Engineering, Sciences, Humanities and Management. About 600 faculty belonging to science and engineering departments and centres of the Institute are engaged in teaching, research and industrial consultancy.\n",
      "The institute has 16 academic departments and advanced research centres across disciplines of engineering and pure sciences, with nearly 100 laboratories. The academic calendar is organised around the semester. Each semester provides a minimum of seventy days of instruction in English. Students are evaluated on a continuous basis throughout the semester. Evaluation is done by the faculty, a consequence of the autonomous status granted to the institute. Research work is evaluated on the basis of the review thesis by peer examiners both from within the country and abroad. Ordinances that govern the academic programme of study are prepared by the Senate, the highest academic body within the institute.\n",
      "\n",
      "\n",
      "=== Admission tests ===\n",
      "For the undergraduate curriculum, admission to the BTech and Dual Degree (BSc + MSc or BTech + MTech) programme is done through the Joint Entrance Examination – Advanced (JEE-Advanced). IIT Madras conducted JEE Advanced in 2017. Admission to the five-year integrated Master of Arts (MA) programme is through the Humanities and Social Sciences Entrance Examination (HSEE), an IIT Madras specific exam. Admissions to the online degree programme for B.Sc. in Programming and Data Science are done through a Qualifier Process which includes four weeks of instruction in Computational Thinking, Mathematics, Statistics and English.For the postgraduate curriculum, admission to the MTech and MS programmes are through the Graduate Aptitude Test in Engineering (GATE). The Joint Admission Test to MSc (JAM) is the entrance exam for the two-year MSc programme, and other post BSc programmes. MBA candidates are accepted through the Common Admission Test (CAT).\n",
      "\n",
      "\n",
      "=== Rankings ===\n",
      "Internationally, IIT Madras was ranked 255 in the QS World University Rankings of 2022. The same rankings ranked it 50 in Asia in 2021 and 17 among BRICS nations in 2019. It was ranked 701–800 in the world by the Academic Ranking of World Universities of 2021.IIT Madras also ranked first among engineering colleges by the National Institutional Ranking Framework (NIRF) in 2020 and first overall. It ranked first in Atal Rankings of Institutions on Innovation Achievements (ARIIA) for three consecutive years from 2019 to 2021.\n",
      "\n",
      "\n",
      "=== Grading System and Student Evaluation ===\n",
      "The Indian Institutes of Technology are under control of the Government of India and therefore have strict rules for grade.\n",
      "Depending on the course the evaluation is based on participation in class, attendance, quiz, exam and/or paper. Continuous evaluation is done by course instructors.\n",
      "The Evaluation System of IIT Madras which is also used in other IITs is the Cumulative Grade Point Average with a scale from 0 to 10 which is converted to letters:\n",
      "\n",
      "CGPA then gets calculated as the cumulative credit-weighted average of the grade points:\n",
      "CGPA = (Σ Ci • GPi) / (Σ Ci)\n",
      "where:\n",
      "N is the number of courses\n",
      "Ci is credits for the ith course\n",
      "GPi is grade points for the ith course\n",
      "CGPA is the cumulative grade point average\n",
      "The CGPA is not the same as the one commonly used in the United States.\n",
      "In India some credits might be awarded during Bachelor studies for Co-curricular and Extra-curricular Activities, while during the Master Programme this is not allowed.\n",
      "Through agreements with numerous international organisations, IIT grades are accepted from many international organisations like NTU, NUS and DAAD.\n",
      "Additionally, the attendance of the students is evaluated with VG for very good (always present), G for good (not present every lecture) and P for poor (student was present less than 85% of lectures).\n",
      "\n",
      "\n",
      "=== Academic research programmes ===\n",
      "The institute has departments and advanced research centres across the disciplines of engineering and the pure sciences, and nearly 100 laboratories.Research programmes concern work undertaken by faculty members or specific research groups within departments that award an MS or PhD degree. Research is carried out by scholars admitted into these departmental programmes, under the guidance of their faculty.  Each department makes known its areas of interest to the academic community through handbooks, brochures and bulletins. Topics of interest may be theoretical or experimental. IIT Madras has initiated 16 inter-disciplinary research projects against identified focus areas.\n",
      "\n",
      "\n",
      "=== Partnership with other universities ===\n",
      "The institute maintains academic friendship with educational institutes around the world through faculty exchange programmes. The institute has signed Memoranda of Understanding (MOUs) with foreign universities, resulting in cooperative projects and assignments.\n",
      "\n",
      "\n",
      "=== Industrial Consultancy and Sponsored Research ===\n",
      "Through industrial consultancy, faculty and staff undertake assignments for industry that may include project design, testing and evaluation, or training in new areas of industrial development. Industries and organisations like the Indian Ordnance Factories, reach out to the IIT faculty to undertake assignments channeled through the Centre For Industrial Consultancy and Sponsored Research (ICSR).\n",
      "National organisations sponsor programmes of research by funding projects undertaken by the faculty. Such research is time bound and allows project participants to register for a degree.  Project proposals are usually prepared by the IIT faculty and forwarded to interested organisations, based on the nature of their research and their interest to fund such projects.\n",
      "Sponsored projects are often vehicles for new resources within departments, and often permit their project staff to register for academic degrees in the institute. All sponsored research activities at the institute are coordinated by ICSR.\n",
      "Park\n",
      "The IIT Madras Research Park, the first of its kind to be established in India, functions to propel successful innovation in established companies and provide a nurturing ecosystem to startups through incubation efforts and technical infrastructure. Following its success, 50 research parks were planned as part of Start Up India initiative of the Central Government of India. Corporate clients of IIT Madras Research park include Bharat Heavy Electricals Limited, Saint-Gobain and Forbes Marshall. Ather Energy, Hyperverge and Gyandata are some of the startups incubated at the Research Park. The Research Park is primarily reason why a very large number of startups are incubated at IIT Madras.\n",
      "\n",
      "\n",
      "=== National Programme on Technology Enhanced Learning (NPTEL) ===\n",
      "To improve the quality of higher education in India, IIT Madras came up with an initiative called NPTEL (National Programme on Technology Enhanced Learning) in the year 2003. As per this initiative, all the IITs, along with the IISc Bangalore would come up with a series of video lecture based courses across all the streams of engineering. This initiative has gained wide popularity in India and the lectures are being used by several engineering students from across India. It is the Largest online repository in the world of courses in engineering, basic sciences and selected humanities and social sciences subjects.\n",
      "\n",
      "\n",
      "=== BSc Degree Programme in Programming and Data Science. ===\n",
      "The institute launched the country's first online BSc program in Programming and Data Science. The 116 credit program consists of three levels—Foundation (32 credits), Diploma (48 credits), and Degree (36 credits). The faculty of the program include Madhavan Mukund (Department of Computer Science & Engineering, Chennai Mathematical Institute), Rajesh Kumar (Professor, Department of Humanities and Social Sciences, IIT Madras), Andrew Thangaraj (Professor, Electrical Engineering Department, IIT Madras), Sudarshan Iyengar (Associate Professor, Department of Computer Science and Engineering, IIT Ropar), and several more faculty, instructors and mentors.\n",
      "\n",
      "The first batch of 8,154 students who joined the program in 2020 have brought unprecedented diversity: Prathap Haridoss, professor in charge of the online degree programme, said nearly 30% of the learners are working professionals from IT, banking, manufacturing, finance, law, healthcare, marketing and other sectors.The institute has been working with experts from NPTEL to manage the program. Instruction is via recorded videos followed by activity questions. There are at least three sessions per week for each course subject that allow students to interact, discuss and study. Weekly graded assignments, monthly quizzes and an end term final exam are used to award grades as per the IIT Grading System. The in-person quizzes and exams are conducted at the test centres across the country.\n",
      "In additional to a challenging academic curriculum, the students are encouraged to participate in various professional development, skill development and social activities organized by the institute, students and their clubs. In April 2021, the BSc program department organized the  'Cricket Hackathon 2021' for students, professionals, and data science enthusiasts. The academic competition was designed for beginners to learn and compete, as well as for professionals to showcase their capabilities in programming, data science, and analytics.\n",
      "\n",
      "\n",
      "== Student activities ==\n",
      "\n",
      "\n",
      "=== Festivals ===\n",
      "\n",
      "\n",
      "==== Shaastra ====\n",
      "\n",
      "Shaastra is the annual technical festival of IIT Madras. It is typically held in the second week of January and is the first ISO 9001:2015 certified student organised festival in the world. It is known for its organisation and activities. Forums include the symposia, workshops, video conferences, lectures, demonstrations, and technical exhibitions. Competitive activities cover design events, programming, simulations, quizzes, applied engineering, speedcubing, robotics, and junk-yard wars.\n",
      "\n",
      "\n",
      "==== Saarang ====\n",
      "\n",
      "Saarang is the annual social and cultural festival of IIT Madras. It is a five-day-long event held in early January every year and attracts a crowd of 70,000 students and young people from across the country, making it the largest student-run fest in India. Saarang events include speaking, dancing, thespian, quizzing and word games, professional shows (nicknamed proshows) and workshops on music, fashion, art, and dance.\n",
      "\n",
      "\n",
      "==== Department festivals ====\n",
      "Several departments organise department festivals. Samanvay, Biofest, ExeBit, Wavez, Mechanica, CEA Fest, ChemPlus, Amalgam and Forays are some of the festivals organised by the Department of Management Studies, Computer Science and Engineering, Ocean Engineering, Mechanical Engineering, Civil Engineering, Chemical Engineering, Metallurgical and Materials Engineering and Maths departments respectively. Department of Humanities and Social Sciences hosts Annual Academic Conference.\n",
      "\n",
      "\n",
      "=== The Entrepreneurship Cell ===\n",
      "The Entrepreneurship Cell, IITM, abbreviated as E-Cell IITM, is a student-run body responsible for promoting and inculcating a spirit of entrepreneurial thinking among both the faculty and the student fraternity of IIT Madras. E-Cell was earlier known as \"C-TIDES\", and was rechristened in 2015 along with a series of organizational changes in an effort to promote greater engagement among students.\n",
      "E-Summit is the flagship event of E-Cell and is a three-day-long event typically held in the first week of April. It includes a myriad of events and competitions, such as the Startup Boot Camp, PitchFest, the Intern Fair, a social campaign and workshops, talks and panel discussions from some of the most eminent entrepreneurs of India. Past speakers have included the likes of Ritesh Agarwal and Nandini Vaidyanathan.The second instance of E-Summit in 2017 attracted about 1,000 attendees from nearly 30 colleges and involved over 100 startups.\n",
      "\n",
      "\n",
      "=== Centre For Innovation (CFI) ===\n",
      "Centre For Innovation is a \"Student Lab\" set up in 2008.\n",
      "The annual flagship event of CFI, the \"OPEN HOUSE\" displays the innovative projects of all CFI clubs, many of which have bagged international and national honours, along with the works of the Competitive Teams.\n",
      "\n",
      "\n",
      "=== Extra Mural Lectures (EML) ===\n",
      "Launched in 1980, by a group of students with support from the then Director of IIT Madras, Late Prof. P.V. Indiresan, the main aim of the Extra Mural Lectures series is to expose the IIT Madras community to the ideas and experiences of eminent personalities from diverse backgrounds. Over the years, the likes of late former President of India A.P.J. Abdul Kalam, Nobel Laureate The 14th Dalai Lama, Nobel Peace Laureate Kailash Satyarthi, Chess Grandmaster Vishwanathan Anand, Filmmaker S.S. Rajamouli, Honorable Governor Shri. E.S.L. Narasimhan, Honorable Minister of Railways Shri. Suresh Prabhu, current Vice President of India Shri. M.Venkaiah Naidu, Music Composer Ilayaraja, co-founder of Infosys Shri. Kris Gopalakrishnan and Ambassador of Japan to India H.E. Mr. Kenji Hiramatsu have been hosted at IIT Madras for Extra Mural Lectures, to motivate the students and broaden their perspectives.\n",
      "\n",
      "\n",
      "=== Extracurricular activities ===\n",
      "\n",
      "The Sustainability Network (S-Net) is an alumni-student-faculty initiative launched in May 2009 to sensitise and highlight the need to preserve the unique niche of one of the best educational campus in India. S-Net was envisioned to work towards development and deployment of solutions for making a self-sustaining campus (focusing on energy/electricity, water, and waste management), which could eventually be replicated across the country through tie-ups with other educational institutions. \n",
      "The Fifth Estate is the official media body of IIT Madras and gives an insight into the happenings inside the campus and important news related to the institute.\n",
      "The Open Air Theatre hosts the weekly movie, a Saturday night tradition, besides other activities. It seats over 7,000.\n",
      "The National Service Scheme (NSS) in IIT Madras has been noted for taking up socially relevant initiatives, taken up as individual projects to create an impact on the society as well as the students. The wing of NSS at IITM has over 400 students every year, contributing to the cause of the scheme. Since its inception, NSS at IITM has achieved many milestones in its history as a unique, student-run organisation. Linked with several NGOs and social organisations both within and outside Chennai. By working out projects from Braille magazines to technology interventions, from teaching children in urban slums to educational video content, NSS (IITM) seeks to challenge the mediocre thinking, and reach out into the darkness, to pull a hand into the light.\n",
      "Hobby clubs include the speaking club, the astro club, dramatics, music and robotics.\n",
      "Student bodies such as Vivekananda Study Circle (VSC), Islamic Study Circle, IIT Christian Fellowship, Genesis and Reflections focus on spiritual discussions.\n",
      "The campus has evolved a slang, attracting a published Master's thesis at a German University. A mix of English, Hindi, Telugu (Gult), Malayalam (Mallu) and Tamil (Tam), aspects of the campus slang have been adopted by some other Chennai colleges.\n",
      "Unlike its sister institutions, IIT Madras has no single Indian language used among its students: Tamil, Telugu, Malayalam, Marathi, Kannada, English and Hindi are all very commonly used. Consequently, all student participatory activities like debating, dramatics, short-film making, and others are held in English.  This is even reflected in the slang that uses more of English and other Indian regional languages than Hindi, unlike in IIT-M's northern counterparts.\n",
      "\n",
      "\n",
      "=== IIT Madras Heritage Centre ===\n",
      " The Heritage Centre was formally inaugurated by Dr Arcot Ramachandran, former Director IIT Madras on 3 March 2006. The centre is located on the ground floor of the administration building. The actual idea of a Heritage Centre was mooted in the year 2000 and has become a reality due to the efforts of the Professor-in-charge Dr. Ajit Kumar Kolar and his team. The centre will function as a repository of material of heritage value and historical significance of various facets of the institute.\n",
      "The exhibits include photographs, documents, publications, paintings, portraits, products developed and other articles. Information regarding important events, laboratory development, visits of important dignitaries, Indo-German cooperative activities, and academic achievements of faculty and students also are included. Aspects of IITM campus features and development, campus life and student activities are also included, thus broadening the scope of the centre in the future to non-academic activities also.\n",
      "\n",
      "\n",
      "== Controversies ==\n",
      "Several members of the Hindu Munnani were arrested in November 2014 for organising a \"spitting protest\" outside the IIT-Madras after the institute played host to the ‘Kiss of Love’ campaign. The members of the group gathered and started spitting at the pictures of students kissing and hugging at the kiss of love campaign the past week. Additionally, they also hurled abuse at the students.\n",
      "\n",
      "\n",
      "== Notable alumni ==\n",
      "\n",
      "Arumugam Manthiram, director, Texas Materials Institute, Professor of Mechanical Engineering, University of Texas at Austin\n",
      "Anand Rajaraman, founder of Junglee; Currently Heading Kosmix.com with Venky Harinarayan\n",
      "Anant Agarwal, professor of Electrical Engineering and Computer Science at MIT\n",
      "Anima Anandkumar, Bren Professor of Computing at California Institute of Technology. She is a director of Machine Learning research at NVIDIA.\n",
      "Arun Sundararajan, professor at Stern School of Business, New York University\n",
      "Atul Chokshi, materials engineer, Shanti Swarup Bhatnagar laureate\n",
      "B. N. Suresh, director of IISST\n",
      "B. Muthuraman, managing Director of Tata Steel\n",
      "Bhaskar Ramamurthi, director, IIT Madras (2011 – 2022)\n",
      "Gururaj Deshpande, founder of Sycamore Networks\n",
      "T. V. Rajan Babu, professor of chemistry at Ohio State University\n",
      "G. K. Ananthasuresh, professor at Indian Institute of Science\n",
      "Hari Balakrishnan, Fujitsu Chair Professor in the EECS Department at MIT\n",
      "Jai Menon, IBM Fellow, CTO and VP, Technical Strategy – IBM Systems and Technology Group\n",
      "B. Jayant Baliga, inventor of the insulated gate bipolar transistor (IGBT)\n",
      "Jayaraman Chandrasekhar, computational chemist, Shanti Swarup Bhatnagar laureate\n",
      "Kris Gopalakrishnan, co-chairman and co-founder of Infosys\n",
      "Krishna Bharat, creator of Google News, principal scientist, Google\n",
      "L. Mahadevan, FRS, de Valpine Professor of Applied Mathematics, Physics and Biology, Harvard University, MacArthur Fellow 2009\n",
      "K. Mani Chandy, former chair of Engineering and Applied Science at Caltech\n",
      "Marti G. Subrahmanyam, professor of finance, Stern School of Business at New York University\n",
      "Murali Sastry, nanotechnologist, Shanti Swarup Bhatnagar laureate\n",
      "Mas Subramanian, Milton Harris Chair Professor of Materials Chemistry at Oregon State University\n",
      "Narayanan Chandrakumar, chemical physicist, Shanti Swarup Bhatnagar laureate\n",
      "Neelesh B. Mehta, communications engineer, Shanti Swarup Bhatnagar laureate\n",
      "Prabhakar Raghavan, vice president of Engineering, Google and Consulting Professor at Stanford University\n",
      "R. Prasanna, guitarist / carnatic musician\n",
      "Pinaki Majumdar, condensed matter physicist, Shanti Swarup Bhatnagar laureate\n",
      "Prem Watsa, billionaire; founder, chairman, and chief executive of Fairfax Financial Holdings, which owns BlackBerry\n",
      "Radha Vembu, co-founder, Zoho Corporation.\n",
      "Ramanathan V. Guha, inventor of RSS feed technology, computer scientist at Google; won the Distinguished Alumnus award from IIT Madras in 2013\n",
      "Ramesh Govindan, Northrop Grumman Chair in Engineering and Professor of Computer Science and Electrical Engineering at the University of Southern California; won the Distinguished Alumnus award from IIT Madras in 2014\n",
      "Raghu Ramakrishnan, technical fellow and CTO, Information Services Microsoft\n",
      "Raju Narayana Swamy, IAS Officer\n",
      "Ramayya Krishnan, dean of the Heinz College at Carnegie Mellon University\n",
      "S. Sowmya, carnatic vocalist\n",
      "Timothy A. Gonsalves, computer scientist and first Director of IIT Mandi\n",
      "Shashi Nambisan, director of the Centre for Transportation Research and Education at Iowa State University\n",
      "Sridhar Tayur, Ford Distinguished Research Chair and Professor of Operations Management at Carnegie Mellon University; founder, SmartOps and OrganJet\n",
      "Sridhar Vembu, founder and CEO of Zoho Corporation\n",
      "Subra Suresh, former president of Carnegie Mellon University, former director of the National Science Foundation, former dean of the MIT School of Engineering\n",
      "Venkat Rangan, co-founder and CTO at Clearwell Systems\n",
      "Venkatesan Guruswami, associate professor, Department of Computer Science, Carnegie Mellon University\n",
      "Venky Harinarayan, co-founder Kosmix\n",
      "Vic Gundotra, former senior vice president Google, creator of Google plus and MIT technology Review top innovators in world\n",
      "Vinay Nair, visiting professor at The Wharton School and founding principal of Ada Investments\n",
      "Viswanathan Kumaran, chemical engineer, Shanti Swarup Bhatnagar laureate\n",
      "\n",
      "\n",
      "== See also ==\n",
      "Education in India\n",
      "Institutes of National Importance\n",
      "List of institutions of higher education in India\n",
      "List of universities in India\n",
      "Vemuri Anjaneya Sarma\n",
      "\n",
      "\n",
      "== References ==\n",
      "\n",
      "\n",
      "== External links ==\n",
      "Official website\n"
     ]
    }
   ],
   "source": [
    "print(full_page.content)"
   ]
  },
  {
   "cell_type": "code",
   "execution_count": 72,
   "metadata": {
    "colab": {
     "base_uri": "https://localhost:8080/"
    },
    "id": "0GVsMkO8DNxz",
    "outputId": "ccc47c45-fbdf-4815-8418-9ddce3809f4c"
   },
   "outputs": [
    {
     "name": "stdout",
     "output_type": "stream",
     "text": [
      "https://en.wikipedia.org/wiki/IIT_Madras\n"
     ]
    }
   ],
   "source": [
    "print(full_page.url)"
   ]
  },
  {
   "cell_type": "code",
   "execution_count": 73,
   "metadata": {
    "colab": {
     "base_uri": "https://localhost:8080/"
    },
    "collapsed": true,
    "id": "8AId7YVBDNzD",
    "jupyter": {
     "outputs_hidden": true
    },
    "outputId": "a17ac70c-ba25-44a2-ffb7-05e87b472599"
   },
   "outputs": [
    {
     "name": "stdout",
     "output_type": "stream",
     "text": [
      "['http://www.businessweek.com/smallbiz/news/date/9811/e981130.htm', 'http://www.hindu.com/2009/02/28/stories/2009022854140500.htm', 'http://timesofindia.indiatimes.com/tech/tech-news/IIT-Madras-is-Indias-Stanford/articleshow/46629160.cms', 'http://www.shanghairanking.com/rankings/arwu/2021', 'http://www.thehindu.com/news/cities/chennai/a-helping-hand-to-entrepreneurship/article17856871.ece', 'http://www.thehindu.com/sci-tech/technology/iitm-computer-system-gets-fastest-tag/article3972727.ece', 'http://www.thehindubusinessline.com/news/education/esummit-at-iit-madras-starts-on-april-7/article9620678.ece', 'http://archiv.tu-chemnitz.de/pub/2006/0020/data/MAthesis_EvelynRichter.pdf', 'http://www.oeb.harvard.edu/faculty/mahadevan/mahadevan-oeb.html', 'http://www.csail.mit.edu/user/723', 'http://nms.lcs.mit.edu/~hari/', 'http://ccw.iitm.ac.in/?q=IITMHostels/hinfo', 'http://www.ecell.iitm.ac.in/e-summit/', 'http://nptel.iitm.ac.in/', 'http://nptel.iitm.ac.in/pdf/NPTEL%20Document.pdf', 'http://www.nss.iitm.ac.in/', 'http://placement.iitm.ac.in/academics.html', 'http://respark.iitm.ac.in/', 'http://t5e.iitm.ac.in/', 'http://t5e.iitm.ac.in/2009/12/the-snet-energy-survey-8th-nov/', 'http://www.iitm.ac.in', 'http://www.iitm.ac.in/The%20Institute/', 'http://www.iitm.ac.in/about', 'http://www.iitm.ac.in/aboutcampus', 'http://www.iitm.ac.in/admissiontests', 'http://www.iitsystem.ac.in/IITcouncil/council.jsp', 'http://nptel.ac.in/course.php', 'http://www.frontline.in/static/html/fl2003/stories/20030214007506500.htm', 'http://ofb.gov.in/download/pr/pr_dgof_interview.pdf', 'http://ssbprize.gov.in/Content/Detail.aspx?AID=531', 'http://www.hri.res.in/~pinaki/', 'http://www.macfound.org/site/c.lkLXJ8MQKrH/b.5458019/k.8448/L_Mahadevan.htm', 'http://www.shaastra.org/2013/main', 'http://geohack.toolforge.org/geohack.php?pagename=IIT_Madras&params=12.99151_N_80.23362_E_', 'http://www.worldcat.org/issn/0971-751X', 'http://www.worldcat.org/issn/0971-8257', 'https://drive.google.com/file/d/0B0cmCKgXUt7ceHZ3SUEwa2s5bTg/view', 'https://timesofindia.indiatimes.com/city/chennai/Its-spit-of-anger-vs-kiss-of-love-at-IIT/articleshow/45183914.cms', 'https://timesofindia.indiatimes.com/city/chennai/iit-madras-diamond-jubilee-celebrations-assume-global-proportions-events-to-be-held-in-83-cities/articleshow/70143608.cms', 'https://timesofindia.indiatimes.com/city/chennai/iit-madras-alumnus-is-now-its-new-director/articleshow/88821542.cms', 'https://www.livemint.com/news/india/iit-madras-raises-700-crore-as-endowment-fund-11616957609084.html', 'https://www.ndtv.com/education/iit-madras-to-hold-open-house-to-showcase-student-innovations-2125282', 'https://www.thehindu.com/education/in-1966-she-was-iit-madras-first-woman-civil-engineering-student/article28759995.ece', 'https://www.thehindu.com/news/cities/chennai/chen-society/golden-jubilee-of-iitms-first-batch-of-graduands/article6218293.ece', 'https://www.thehindu.com/news/cities/chennai/iit-madras-named-most-innovative-institute/article38067215.ece', 'https://www.thehindu.com/news/cities/chennai/iitm-turns-60-a-chat-with-first-batch-students/article28744533.ece', 'https://www.thehindu.com/news/national/tamil-nadu/over-8100-join-iit-madras-online-bsc-degree-course/article33295371.ece', 'https://www.thenewsminute.com/tamils/287?amp', 'https://www.topuniversities.com/university-rankings/asian-university-rankings/2021', 'https://www.topuniversities.com/university-rankings/brics-rankings/2019', 'https://www.topuniversities.com/university-rankings/world-university-rankings/2022', 'https://www.youtube.com/watch?v=5485lx6wsao', 'https://aleph.nkp.cz/F/?func=find-c&local_base=aut&ccl_term=ica=ko2008435605&CON_LNG=ENG', 'https://www.projekt-mida.de/reflexicon/indo-german-entanglements-in-science-and-technology-the-indian-institute-of-technology-madras/', 'https://cms.caltech.edu/people/mani', 'https://catalogue.bnf.fr/ark:/12148/cb12442559g', 'https://data.bnf.fr/ark:/12148/cb12442559g', 'https://www.idref.fr/033570418', 'https://id.loc.gov/authorities/names/n50063099', 'https://oir.iitm.ac.in/mou/', 'https://onlinedegree.iitm.ac.in/', 'https://onlinedegree.iitm.ac.in/admissions.html#AD2', 'https://onlinedegree.iitm.ac.in/course_pages/BSCCS1002.html', 'https://onlinedegree.iitm.ac.in/course_pages/BSCHS1001.html', 'https://onlinedegree.iitm.ac.in/course_pages/BSCMA1001.html#9003', 'https://onlinedegree.iitm.ac.in/course_pages/BSCMA1004.html', 'https://research.iitm.ac.in/department_list#:~:text=RESEARCH%20AREAS,-Cellular,%20Molecular%20and&text=Bioinformatics%20and%20Computational%20Biology;%20Biomedical,Molecular%20Genetics%20of%20Plant%20Development.', 'https://respark.iitm.ac.in/iit-madras-launches-worlds-first-ever-online-b-sc-degree-in-programming-and-data-science/', 'https://www.iitm.ac.in/', 'https://www.iitm.ac.in/happenings/press-releases-and-coverages/iit-madras-launches-cricket-hackathon-2021', 'https://www.iitm.ac.in/nirfreports/nirf2016/NIRF-Overall-FullReport.pdf', 'https://www.iitm.ac.in/sites/default/files/Others/annual-budget-2021-22.pdf', 'https://www.iitm.ac.in/the-institute/administration/academic-administration', 'https://nptel.ac.in/', 'https://www.collegesearch.in/exam/jee-advanced/article/top-10-iits-in-india-2018-29-174', 'https://www.ariia.gov.in/Ranking2019.html', 'https://eparlib.nic.in/bitstream/123456789/1530/1/lsd_02_06_02-12-1958.pdf', 'https://eparlib.nic.in/bitstream/123456789/1769/1/lsd_02_08_10-08-1959.pdf', 'https://web.archive.org/web/20060427232338/http://www.iitm.ac.in/The%20Institute/', 'https://web.archive.org/web/20090303061238/http://www.hindu.com/2009/02/28/stories/2009022854140500.htm', 'https://web.archive.org/web/20091115092457/http://www.businessweek.com/smallbiz/news/date/9811/e981130.htm', 'https://web.archive.org/web/20100215010549/http://archiv.tu-chemnitz.de/pub/2006/0020/data/MAthesis_EvelynRichter.pdf', 'https://web.archive.org/web/20120113170811/http://www.nptel.iitm.ac.in/', 'https://web.archive.org/web/20120227163617/http://www.oeb.harvard.edu/faculty/mahadevan/mahadevan-oeb.html', 'https://web.archive.org/web/20120623211803/http://www.nss.iitm.ac.in/', 'https://web.archive.org/web/20120904044551/http://nptel.iitm.ac.in/pdf/NPTEL%20Document.pdf', 'https://web.archive.org/web/20130409125154/http://placement.iitm.ac.in/academics.html', 'https://web.archive.org/web/20130707013747/http://t5e.iitm.ac.in/', 'https://web.archive.org/web/20130907050154/http://www.shaastra.org/2013/main', 'https://web.archive.org/web/20140810091111/http://www.iitsystem.ac.in/IITcouncil/council.jsp', 'https://web.archive.org/web/20141103172852/http://t5e.iitm.ac.in/2009/12/the-snet-energy-survey-8th-nov/', 'https://web.archive.org/web/20161128191932/http://nptel.ac.in/course.php', 'https://web.archive.org/web/20170704084948/http://www.ecell.iitm.ac.in/e-summit/', 'https://ghostarchive.org/varchive/youtube/20211107/5485lx6wsao', 'https://isni.org/isni/000000012314788X', 'https://isni.org/isni/0000000123151926', 'https://www.nirfindia.org/2018/EngineeringRanking.html', 'https://www.nirfindia.org/2019/EngineeringRanking.html', 'https://www.nirfindia.org/2021/EngineeringRanking.html', 'https://www.nirfindia.org/2021/OverallRanking.html', 'https://www.nobelprize.org/prizes/chemistry/2019/goodenough/lecture/', 'https://viaf.org/viaf/168123199', 'https://www.wikidata.org/wiki/Q858662#identifiers', 'https://www.worldcat.org/identities/lccn-n50063099/']\n"
     ]
    }
   ],
   "source": [
    "print(full_page.references)"
   ]
  },
  {
   "cell_type": "code",
   "execution_count": 74,
   "metadata": {
    "colab": {
     "base_uri": "https://localhost:8080/"
    },
    "id": "YdBGfX8ADNzR",
    "outputId": "34933077-8d9e-4156-d684-35cce16dab01"
   },
   "outputs": [
    {
     "name": "stdout",
     "output_type": "stream",
     "text": [
      "IIT Madras\n"
     ]
    }
   ],
   "source": [
    "print(full_page.title)"
   ]
  },
  {
   "cell_type": "code",
   "execution_count": 75,
   "metadata": {
    "colab": {
     "base_uri": "https://localhost:8080/"
    },
    "collapsed": true,
    "id": "8QJUAPXXDNzh",
    "jupyter": {
     "outputs_hidden": true
    },
    "outputId": "71f2e069-e684-4716-c92e-eea8d88732b8"
   },
   "outputs": [
    {
     "name": "stdout",
     "output_type": "stream",
     "text": [
      "['https://upload.wikimedia.org/wikipedia/commons/f/f2/Blackbuck_white.jpg', 'https://upload.wikimedia.org/wikipedia/commons/1/1b/Brahmaputra_Hostel.jpg', 'https://upload.wikimedia.org/wikipedia/commons/c/c4/Deer_of_IIT_Madras_masatran_0058_0010.jpeg', 'https://upload.wikimedia.org/wikipedia/commons/e/e4/Godavari_Hostel_Entrance.jpg', 'https://upload.wikimedia.org/wikipedia/commons/0/08/Heritage_Center1.jpg', 'https://upload.wikimedia.org/wikipedia/commons/8/85/Pfeil_links.svg', 'https://upload.wikimedia.org/wikipedia/commons/7/76/Pfeil_oben.svg', 'https://upload.wikimedia.org/wikipedia/commons/c/c5/Pfeil_rechts.svg', 'https://upload.wikimedia.org/wikipedia/commons/c/c3/Pfeil_unten.svg', 'https://upload.wikimedia.org/wikipedia/commons/7/71/Sabarmathi_hostel2.jpg', 'https://upload.wikimedia.org/wikipedia/en/4/4a/Commons-logo.svg', 'https://upload.wikimedia.org/wikipedia/en/f/f2/Edit-clear.svg', 'https://upload.wikimedia.org/wikipedia/en/4/41/Flag_of_India.svg', 'https://upload.wikimedia.org/wikipedia/en/6/69/IIT_Madras_Logo.svg', 'https://upload.wikimedia.org/wikipedia/en/8/8a/OOjs_UI_icon_edit-ltr-progressive.svg', 'https://upload.wikimedia.org/wikipedia/en/9/99/Question_book-new.svg', 'https://upload.wikimedia.org/wikipedia/en/9/96/Symbol_category_class.svg']\n"
     ]
    }
   ],
   "source": [
    "print(full_page.images)"
   ]
  },
  {
   "cell_type": "code",
   "execution_count": 76,
   "metadata": {
    "id": "2Ei1I3prDN0o",
    "outputId": "04147283-384e-40fb-842d-1051f6b2f1cb"
   },
   "outputs": [
    {
     "name": "stdout",
     "output_type": "stream",
     "text": [
      "https://upload.wikimedia.org/wikipedia/commons/f/f2/Blackbuck_white.jpg\n"
     ]
    }
   ],
   "source": [
    "print(full_page.images[0])"
   ]
  },
  {
   "cell_type": "code",
   "execution_count": 79,
   "metadata": {
    "colab": {
     "base_uri": "https://localhost:8080/",
     "height": 300
    },
    "id": "ovcFMuFDDN06",
    "outputId": "e6d16799-fdd9-4cc3-e47f-4e948cf6ec2e"
   },
   "outputs": [],
   "source": [
    "#extract html code of wikipedia page based on any search text\n",
    "html = wk.page(\"IIT Madras\").html().encode(\"UTF-8\") "
   ]
  },
  {
   "cell_type": "code",
   "execution_count": 82,
   "metadata": {
    "id": "EgCp6RvqDN1C"
   },
   "outputs": [
    {
     "data": {
      "text/html": [
       "<div>\n",
       "<style scoped>\n",
       "    .dataframe tbody tr th:only-of-type {\n",
       "        vertical-align: middle;\n",
       "    }\n",
       "\n",
       "    .dataframe tbody tr th {\n",
       "        vertical-align: top;\n",
       "    }\n",
       "\n",
       "    .dataframe thead th {\n",
       "        text-align: right;\n",
       "    }\n",
       "</style>\n",
       "<table border=\"1\" class=\"dataframe\">\n",
       "  <thead>\n",
       "    <tr style=\"text-align: right;\">\n",
       "      <th></th>\n",
       "      <th>Letter Grade</th>\n",
       "      <th>Grade Points</th>\n",
       "      <th>in Words</th>\n",
       "    </tr>\n",
       "  </thead>\n",
       "  <tbody>\n",
       "    <tr>\n",
       "      <th>0</th>\n",
       "      <td>S</td>\n",
       "      <td>10</td>\n",
       "      <td>Excellent (top students/high performer)</td>\n",
       "    </tr>\n",
       "    <tr>\n",
       "      <th>1</th>\n",
       "      <td>A</td>\n",
       "      <td>9</td>\n",
       "      <td>Very Good</td>\n",
       "    </tr>\n",
       "    <tr>\n",
       "      <th>2</th>\n",
       "      <td>B</td>\n",
       "      <td>8</td>\n",
       "      <td>Good</td>\n",
       "    </tr>\n",
       "    <tr>\n",
       "      <th>3</th>\n",
       "      <td>C</td>\n",
       "      <td>7</td>\n",
       "      <td>Satisfactory Work</td>\n",
       "    </tr>\n",
       "    <tr>\n",
       "      <th>4</th>\n",
       "      <td>D</td>\n",
       "      <td>6</td>\n",
       "      <td>Below Average</td>\n",
       "    </tr>\n",
       "    <tr>\n",
       "      <th>5</th>\n",
       "      <td>E</td>\n",
       "      <td>4</td>\n",
       "      <td>Poor (but passed)</td>\n",
       "    </tr>\n",
       "    <tr>\n",
       "      <th>6</th>\n",
       "      <td>U</td>\n",
       "      <td>0</td>\n",
       "      <td>Failed</td>\n",
       "    </tr>\n",
       "    <tr>\n",
       "      <th>7</th>\n",
       "      <td>W</td>\n",
       "      <td>0</td>\n",
       "      <td>Shortage of attendance (usually below 85%)</td>\n",
       "    </tr>\n",
       "  </tbody>\n",
       "</table>\n",
       "</div>"
      ],
      "text/plain": [
       "  Letter Grade  Grade Points                                    in Words\n",
       "0            S            10     Excellent (top students/high performer)\n",
       "1            A             9                                   Very Good\n",
       "2            B             8                                        Good\n",
       "3            C             7                           Satisfactory Work\n",
       "4            D             6                               Below Average\n",
       "5            E             4                           Poor (but passed)\n",
       "6            U             0                                      Failed\n",
       "7            W             0  Shortage of attendance (usually below 85%)"
      ]
     },
     "execution_count": 82,
     "metadata": {},
     "output_type": "execute_result"
    }
   ],
   "source": [
    "df = pd.read_html(html)[4]  \n",
    "df"
   ]
  },
  {
   "cell_type": "markdown",
   "metadata": {},
   "source": [
    "## Geocode city, get (lat,long)"
   ]
  },
  {
   "cell_type": "code",
   "execution_count": 55,
   "metadata": {},
   "outputs": [],
   "source": [
    "# If you get a HTTP Error 403 from Nominatim, use your email \n",
    "# ID instead of “myGeocoder” in Nominatim(user_agent=\"myGeocoder\")"
   ]
  },
  {
   "cell_type": "code",
   "execution_count": 57,
   "metadata": {},
   "outputs": [],
   "source": [
    "locator = Nominatim(user_agent=\"myGeocoder\")"
   ]
  },
  {
   "cell_type": "code",
   "execution_count": 58,
   "metadata": {},
   "outputs": [
    {
     "data": {
      "text/plain": [
       "Location(Pune City, Pune, Maharashtra, India, (18.521428, 73.8544541, 0.0))"
      ]
     },
     "execution_count": 58,
     "metadata": {},
     "output_type": "execute_result"
    }
   ],
   "source": [
    "location = locator.geocode(\"Pune\")\n",
    "location"
   ]
  },
  {
   "cell_type": "code",
   "execution_count": 60,
   "metadata": {},
   "outputs": [
    {
     "data": {
      "text/plain": [
       "geopy.location.Location"
      ]
     },
     "execution_count": 60,
     "metadata": {},
     "output_type": "execute_result"
    }
   ],
   "source": [
    "type(location)"
   ]
  },
  {
   "cell_type": "code",
   "execution_count": 61,
   "metadata": {},
   "outputs": [
    {
     "data": {
      "text/plain": [
       "{'place_id': 284820555,\n",
       " 'licence': 'Data © OpenStreetMap contributors, ODbL 1.0. https://osm.org/copyright',\n",
       " 'osm_type': 'relation',\n",
       " 'osm_id': 139836,\n",
       " 'boundingbox': ['39.697215', '39.82119', '-94.899029', '-94.743339'],\n",
       " 'lat': '39.7686055',\n",
       " 'lon': '-94.8466322',\n",
       " 'display_name': 'St. Joseph, Buchanan County, Missouri, United States',\n",
       " 'class': 'boundary',\n",
       " 'type': 'administrative',\n",
       " 'importance': 0.7229305699659045,\n",
       " 'icon': 'https://nominatim.openstreetmap.org/ui/mapicons/poi_boundary_administrative.p.20.png'}"
      ]
     },
     "execution_count": 61,
     "metadata": {},
     "output_type": "execute_result"
    }
   ],
   "source": [
    "location.raw"
   ]
  },
  {
   "cell_type": "code",
   "execution_count": 62,
   "metadata": {},
   "outputs": [
    {
     "data": {
      "text/plain": [
       "('St. Joseph, Buchanan County, Missouri, United States', 0.0)"
      ]
     },
     "execution_count": 62,
     "metadata": {},
     "output_type": "execute_result"
    }
   ],
   "source": [
    "location.address, location.altitude"
   ]
  },
  {
   "cell_type": "code",
   "execution_count": 63,
   "metadata": {},
   "outputs": [
    {
     "data": {
      "text/plain": [
       "Location(St. Joseph, Buchanan County, Missouri, United States, (39.7686055, -94.8466322, 0.0))"
      ]
     },
     "execution_count": 63,
     "metadata": {},
     "output_type": "execute_result"
    }
   ],
   "source": [
    "location = locator.geocode(\"St. Joseph\")\n",
    "location"
   ]
  },
  {
   "cell_type": "code",
   "execution_count": 64,
   "metadata": {},
   "outputs": [
    {
     "data": {
      "text/plain": [
       "Location(Deerfield Beach, Broward County, Florida, United States, (26.318342, -80.0996306, 0.0))"
      ]
     },
     "execution_count": 64,
     "metadata": {},
     "output_type": "execute_result"
    }
   ],
   "source": [
    "location = locator.geocode(\"Deerfield Beach\")\n",
    "location"
   ]
  },
  {
   "cell_type": "markdown",
   "metadata": {
    "id": "aCDpAf4EWQhO"
   },
   "source": [
    "## Scrape PDFs from a Given URL"
   ]
  },
  {
   "cell_type": "markdown",
   "metadata": {},
   "source": [
    "### Scrape pdf from www.premierleague.com"
   ]
  },
  {
   "cell_type": "markdown",
   "metadata": {},
   "source": [
    "#### Create folder"
   ]
  },
  {
   "cell_type": "code",
   "execution_count": 95,
   "metadata": {
    "id": "tukASJZ1s-wW"
   },
   "outputs": [],
   "source": [
    "# Save contents from url into folder_location\n",
    "url = 'https://www.premierleague.com/publications'\n",
    "folder_location = r'premier_league'\n",
    "if not os.path.exists(folder_location):\n",
    "    os.mkdir(folder_location)"
   ]
  },
  {
   "cell_type": "markdown",
   "metadata": {},
   "source": [
    "#### Download all pdf "
   ]
  },
  {
   "cell_type": "code",
   "execution_count": 97,
   "metadata": {},
   "outputs": [],
   "source": [
    "response = requests.get(url)\n",
    "soup = bs(response.text, \"html.parser\")     "
   ]
  },
  {
   "cell_type": "code",
   "execution_count": 98,
   "metadata": {
    "id": "lqeHrj5us-wX"
   },
   "outputs": [],
   "source": [
    "# Loop through all PDF links in the page\n",
    "for link in soup.select(\"a[href$='.pdf']\"):\n",
    "    # Local lile name is the same as PDF file name in the URL (ignoring rest of the path)\n",
    "    # https://premierleague-static-files.s3.amazonaws.com/premierleague/document/2016/07/02/e1648e96-4eeb-456e-8ce0-d937d2bc7649/2011-12-premier-league-season-review.pdf\n",
    "    filename = os.path.join(folder_location, link['href'].split('/')[-1])\n",
    "    with open(filename, 'wb') as f:\n",
    "        f.write(requests.get(urljoin(url,link['href'])).content)"
   ]
  },
  {
   "cell_type": "markdown",
   "metadata": {
    "id": "UdyAPZEHUPu3"
   },
   "source": [
    "#### Read table from a PDF "
   ]
  },
  {
   "cell_type": "code",
   "execution_count": 102,
   "metadata": {
    "colab": {
     "base_uri": "https://localhost:8080/"
    },
    "id": "eXgd4uWDs-wY",
    "outputId": "4f0a97df-067e-4bcd-dfb2-922c229bdb54"
   },
   "outputs": [],
   "source": [
    "combined_pdf = folder_location + \"/This-is-PL-Interactive-Combined.pdf\"\n",
    "df = tabula.read_pdf(combined_pdf,  pages='18') # read page 18"
   ]
  },
  {
   "cell_type": "code",
   "execution_count": 103,
   "metadata": {},
   "outputs": [
    {
     "data": {
      "text/plain": [
       "list"
      ]
     },
     "execution_count": 103,
     "metadata": {},
     "output_type": "execute_result"
    }
   ],
   "source": [
    "type(df)"
   ]
  },
  {
   "cell_type": "code",
   "execution_count": 104,
   "metadata": {},
   "outputs": [
    {
     "data": {
      "text/plain": [
       "1"
      ]
     },
     "execution_count": 104,
     "metadata": {},
     "output_type": "execute_result"
    }
   ],
   "source": [
    "len(df)"
   ]
  },
  {
   "cell_type": "code",
   "execution_count": 106,
   "metadata": {},
   "outputs": [
    {
     "data": {
      "text/plain": [
       "pandas.core.frame.DataFrame"
      ]
     },
     "execution_count": 106,
     "metadata": {},
     "output_type": "execute_result"
    }
   ],
   "source": [
    "type(df[0])"
   ]
  },
  {
   "cell_type": "code",
   "execution_count": 107,
   "metadata": {},
   "outputs": [
    {
     "data": {
      "text/html": [
       "<div>\n",
       "<style scoped>\n",
       "    .dataframe tbody tr th:only-of-type {\n",
       "        vertical-align: middle;\n",
       "    }\n",
       "\n",
       "    .dataframe tbody tr th {\n",
       "        vertical-align: top;\n",
       "    }\n",
       "\n",
       "    .dataframe thead th {\n",
       "        text-align: right;\n",
       "    }\n",
       "</style>\n",
       "<table border=\"1\" class=\"dataframe\">\n",
       "  <thead>\n",
       "    <tr style=\"text-align: right;\">\n",
       "      <th></th>\n",
       "      <th>Unnamed: 0</th>\n",
       "      <th>Unnamed: 1</th>\n",
       "      <th>Unnamed: 2</th>\n",
       "      <th>Pos</th>\n",
       "      <th>Unnamed: 3</th>\n",
       "      <th>Club</th>\n",
       "      <th>W</th>\n",
       "      <th>D</th>\n",
       "      <th>L</th>\n",
       "      <th>GD</th>\n",
       "      <th>Pts</th>\n",
       "      <th>Total payment</th>\n",
       "    </tr>\n",
       "  </thead>\n",
       "  <tbody>\n",
       "    <tr>\n",
       "      <th>0</th>\n",
       "      <td>NaN</td>\n",
       "      <td>NaN</td>\n",
       "      <td>NaN</td>\n",
       "      <td>1.0</td>\n",
       "      <td>NaN</td>\n",
       "      <td>Manchester City</td>\n",
       "      <td>32.0</td>\n",
       "      <td>4.0</td>\n",
       "      <td>2.0</td>\n",
       "      <td>79.0</td>\n",
       "      <td>100.0</td>\n",
       "      <td>£149.4m</td>\n",
       "    </tr>\n",
       "    <tr>\n",
       "      <th>1</th>\n",
       "      <td>NaN</td>\n",
       "      <td>NaN</td>\n",
       "      <td>NaN</td>\n",
       "      <td>2.0</td>\n",
       "      <td>NaN</td>\n",
       "      <td>Manchester United</td>\n",
       "      <td>25.0</td>\n",
       "      <td>6.0</td>\n",
       "      <td>7.0</td>\n",
       "      <td>40.0</td>\n",
       "      <td>81.0</td>\n",
       "      <td>£149.8m</td>\n",
       "    </tr>\n",
       "    <tr>\n",
       "      <th>2</th>\n",
       "      <td>NaN</td>\n",
       "      <td>NaN</td>\n",
       "      <td>NaN</td>\n",
       "      <td>3.0</td>\n",
       "      <td>NaN</td>\n",
       "      <td>Tottenham Hotspur</td>\n",
       "      <td>23.0</td>\n",
       "      <td>8.0</td>\n",
       "      <td>7.0</td>\n",
       "      <td>38.0</td>\n",
       "      <td>77.0</td>\n",
       "      <td>£144.4m</td>\n",
       "    </tr>\n",
       "    <tr>\n",
       "      <th>3</th>\n",
       "      <td>NaN</td>\n",
       "      <td>NaN</td>\n",
       "      <td>NaN</td>\n",
       "      <td>4.0</td>\n",
       "      <td>NaN</td>\n",
       "      <td>Liverpool</td>\n",
       "      <td>21.0</td>\n",
       "      <td>12.0</td>\n",
       "      <td>5.0</td>\n",
       "      <td>46.0</td>\n",
       "      <td>75.0</td>\n",
       "      <td>£145.9m</td>\n",
       "    </tr>\n",
       "    <tr>\n",
       "      <th>4</th>\n",
       "      <td>NaN</td>\n",
       "      <td>NaN</td>\n",
       "      <td>NaN</td>\n",
       "      <td>5.0</td>\n",
       "      <td>NaN</td>\n",
       "      <td>Chelsea</td>\n",
       "      <td>21.0</td>\n",
       "      <td>7.0</td>\n",
       "      <td>10.0</td>\n",
       "      <td>24.0</td>\n",
       "      <td>70.0</td>\n",
       "      <td>£141.7m</td>\n",
       "    </tr>\n",
       "  </tbody>\n",
       "</table>\n",
       "</div>"
      ],
      "text/plain": [
       "  Unnamed: 0 Unnamed: 1  Unnamed: 2  Pos Unnamed: 3               Club     W  \\\n",
       "0        NaN        NaN         NaN  1.0        NaN    Manchester City  32.0   \n",
       "1        NaN        NaN         NaN  2.0        NaN  Manchester United  25.0   \n",
       "2        NaN        NaN         NaN  3.0        NaN  Tottenham Hotspur  23.0   \n",
       "3        NaN        NaN         NaN  4.0        NaN          Liverpool  21.0   \n",
       "4        NaN        NaN         NaN  5.0        NaN            Chelsea  21.0   \n",
       "\n",
       "      D     L    GD    Pts Total payment  \n",
       "0   4.0   2.0  79.0  100.0       £149.4m  \n",
       "1   6.0   7.0  40.0   81.0       £149.8m  \n",
       "2   8.0   7.0  38.0   77.0       £144.4m  \n",
       "3  12.0   5.0  46.0   75.0       £145.9m  \n",
       "4   7.0  10.0  24.0   70.0       £141.7m  "
      ]
     },
     "execution_count": 107,
     "metadata": {},
     "output_type": "execute_result"
    }
   ],
   "source": [
    "df[0].head()"
   ]
  },
  {
   "cell_type": "code",
   "execution_count": 108,
   "metadata": {
    "colab": {
     "base_uri": "https://localhost:8080/",
     "height": 731
    },
    "id": "sfRdlvQ7en3j",
    "outputId": "6fb7f08c-7337-4157-be37-c04f39f4c82e"
   },
   "outputs": [],
   "source": [
    "convert_into(combined_pdf, folder_location +\"/table_output.csv\", output_format=\"csv\",pages = 18,area=[[275,504,640,900]])\n"
   ]
  },
  {
   "cell_type": "code",
   "execution_count": 110,
   "metadata": {
    "id": "jT5Led3bktRi"
   },
   "outputs": [
    {
     "data": {
      "text/html": [
       "<div>\n",
       "<style scoped>\n",
       "    .dataframe tbody tr th:only-of-type {\n",
       "        vertical-align: middle;\n",
       "    }\n",
       "\n",
       "    .dataframe tbody tr th {\n",
       "        vertical-align: top;\n",
       "    }\n",
       "\n",
       "    .dataframe thead th {\n",
       "        text-align: right;\n",
       "    }\n",
       "</style>\n",
       "<table border=\"1\" class=\"dataframe\">\n",
       "  <thead>\n",
       "    <tr style=\"text-align: right;\">\n",
       "      <th></th>\n",
       "      <th>Pos</th>\n",
       "      <th>Unnamed: 1</th>\n",
       "      <th>Club</th>\n",
       "      <th>W</th>\n",
       "      <th>D</th>\n",
       "      <th>L</th>\n",
       "      <th>GD</th>\n",
       "      <th>Pts</th>\n",
       "      <th>Total payment</th>\n",
       "    </tr>\n",
       "  </thead>\n",
       "  <tbody>\n",
       "    <tr>\n",
       "      <th>0</th>\n",
       "      <td>1.0</td>\n",
       "      <td>NaN</td>\n",
       "      <td>Manchester City</td>\n",
       "      <td>32.0</td>\n",
       "      <td>4.0</td>\n",
       "      <td>2.0</td>\n",
       "      <td>79.0</td>\n",
       "      <td>100.0</td>\n",
       "      <td>£149.4m</td>\n",
       "    </tr>\n",
       "    <tr>\n",
       "      <th>1</th>\n",
       "      <td>2.0</td>\n",
       "      <td>NaN</td>\n",
       "      <td>Manchester United</td>\n",
       "      <td>25.0</td>\n",
       "      <td>6.0</td>\n",
       "      <td>7.0</td>\n",
       "      <td>40.0</td>\n",
       "      <td>81.0</td>\n",
       "      <td>£149.8m</td>\n",
       "    </tr>\n",
       "    <tr>\n",
       "      <th>2</th>\n",
       "      <td>3.0</td>\n",
       "      <td>NaN</td>\n",
       "      <td>Tottenham Hotspur</td>\n",
       "      <td>23.0</td>\n",
       "      <td>8.0</td>\n",
       "      <td>7.0</td>\n",
       "      <td>38.0</td>\n",
       "      <td>77.0</td>\n",
       "      <td>£144.4m</td>\n",
       "    </tr>\n",
       "    <tr>\n",
       "      <th>3</th>\n",
       "      <td>4.0</td>\n",
       "      <td>NaN</td>\n",
       "      <td>Liverpool</td>\n",
       "      <td>21.0</td>\n",
       "      <td>12.0</td>\n",
       "      <td>5.0</td>\n",
       "      <td>46.0</td>\n",
       "      <td>75.0</td>\n",
       "      <td>£145.9m</td>\n",
       "    </tr>\n",
       "    <tr>\n",
       "      <th>4</th>\n",
       "      <td>5.0</td>\n",
       "      <td>NaN</td>\n",
       "      <td>Chelsea</td>\n",
       "      <td>21.0</td>\n",
       "      <td>7.0</td>\n",
       "      <td>10.0</td>\n",
       "      <td>24.0</td>\n",
       "      <td>70.0</td>\n",
       "      <td>£141.7m</td>\n",
       "    </tr>\n",
       "  </tbody>\n",
       "</table>\n",
       "</div>"
      ],
      "text/plain": [
       "   Pos Unnamed: 1               Club     W     D     L    GD    Pts  \\\n",
       "0  1.0        NaN    Manchester City  32.0   4.0   2.0  79.0  100.0   \n",
       "1  2.0        NaN  Manchester United  25.0   6.0   7.0  40.0   81.0   \n",
       "2  3.0        NaN  Tottenham Hotspur  23.0   8.0   7.0  38.0   77.0   \n",
       "3  4.0        NaN          Liverpool  21.0  12.0   5.0  46.0   75.0   \n",
       "4  5.0        NaN            Chelsea  21.0   7.0  10.0  24.0   70.0   \n",
       "\n",
       "  Total payment  \n",
       "0       £149.4m  \n",
       "1       £149.8m  \n",
       "2       £144.4m  \n",
       "3       £145.9m  \n",
       "4       £141.7m  "
      ]
     },
     "execution_count": 110,
     "metadata": {},
     "output_type": "execute_result"
    }
   ],
   "source": [
    "df = pd.read_csv(folder_location+\"/table_output.csv\", encoding= 'unicode_escape')\n",
    "df.head()"
   ]
  },
  {
   "cell_type": "code",
   "execution_count": null,
   "metadata": {},
   "outputs": [],
   "source": []
  },
  {
   "cell_type": "markdown",
   "metadata": {},
   "source": [
    "### Read pdf"
   ]
  },
  {
   "cell_type": "code",
   "execution_count": 84,
   "metadata": {
    "collapsed": true,
    "jupyter": {
     "outputs_hidden": true
    }
   },
   "outputs": [
    {
     "data": {
      "text/plain": [
       "['.ipynb_checkpoints',\n",
       " 'actor_network.ipynb',\n",
       " 'Assignment 5 question 7.txt',\n",
       " 'BBC_weather_scrape.ipynb',\n",
       " 'Fiona-1.8.21-cp38-cp38-win_amd64.whl',\n",
       " 'GDAL-3.4.3-cp38-cp38-win_amd64.whl',\n",
       " 'Geospatial_analysis2.ipynb',\n",
       " 'Goat_2022.csv',\n",
       " 'ImdbTextClassification.ipynb',\n",
       " 'IMDB_Network_dj.ipynb',\n",
       " 'master_currency.csv',\n",
       " 'Mumbai.csv',\n",
       " 'PDF_Scraping_MBCopy.ipynb',\n",
       " 'rainfall-dataset.csv',\n",
       " 'SentimentAnalysis_2.xlsx',\n",
       " 'shortest_path.ipynb',\n",
       " 'TDS Week 1 Assignment.ipynb',\n",
       " 'TDS Week 2 Assignment.ipynb',\n",
       " 'TDS Week 3 Assignment.ipynb',\n",
       " 'TDS Week 4A Assignment.ipynb',\n",
       " 'TDS Week 4B Assignment.ipynb',\n",
       " 'TDS Week 5 Assignment.ipynb.ipynb',\n",
       " 'TDS_Week_5_Dataset_1_q789.csv',\n",
       " 'TDS_Week_5_Dataset_2_q10.csv',\n",
       " 'week 2 scrape table from web.xlsx',\n",
       " 'week 2 tables dummy.pdf',\n",
       " 'week 2 tables dummy.xlsx',\n",
       " 'wikipedia_library.ipynb',\n",
       " '~$week 2 tables dummy.xlsx']"
      ]
     },
     "execution_count": 84,
     "metadata": {},
     "output_type": "execute_result"
    }
   ],
   "source": [
    "os.listdir()"
   ]
  },
  {
   "cell_type": "code",
   "execution_count": 85,
   "metadata": {
    "colab": {
     "base_uri": "https://localhost:8080/"
    },
    "id": "dPLWR7pj20Be",
    "outputId": "83bb4e00-5116-4007-86c2-b28e97c40e4f"
   },
   "outputs": [],
   "source": [
    "df = tabula.read_pdf('week 2 tables dummy.pdf',\n",
    "                      pages='all',\n",
    "                      multiple_tables=True)"
   ]
  },
  {
   "cell_type": "code",
   "execution_count": 87,
   "metadata": {},
   "outputs": [
    {
     "data": {
      "text/html": [
       "<div>\n",
       "<style scoped>\n",
       "    .dataframe tbody tr th:only-of-type {\n",
       "        vertical-align: middle;\n",
       "    }\n",
       "\n",
       "    .dataframe tbody tr th {\n",
       "        vertical-align: top;\n",
       "    }\n",
       "\n",
       "    .dataframe thead th {\n",
       "        text-align: right;\n",
       "    }\n",
       "</style>\n",
       "<table border=\"1\" class=\"dataframe\">\n",
       "  <thead>\n",
       "    <tr style=\"text-align: right;\">\n",
       "      <th></th>\n",
       "      <th>Andaman &amp; Nicobar1 I9sl0a1nds</th>\n",
       "      <th>49.2</th>\n",
       "      <th>87.1</th>\n",
       "      <th>29.2</th>\n",
       "      <th>2.3</th>\n",
       "      <th>528.8</th>\n",
       "      <th>517.5</th>\n",
       "      <th>365.1</th>\n",
       "    </tr>\n",
       "  </thead>\n",
       "  <tbody>\n",
       "    <tr>\n",
       "      <th>0</th>\n",
       "      <td>Andaman &amp; Nicobar1 I9sl0a2nds</td>\n",
       "      <td>0.0</td>\n",
       "      <td>159.8</td>\n",
       "      <td>12.2</td>\n",
       "      <td>0.0</td>\n",
       "      <td>446.1</td>\n",
       "      <td>537.1</td>\n",
       "      <td>228.9</td>\n",
       "    </tr>\n",
       "    <tr>\n",
       "      <th>1</th>\n",
       "      <td>Andaman &amp; Nicobar1 I9sl0a3nds</td>\n",
       "      <td>12.7</td>\n",
       "      <td>144.0</td>\n",
       "      <td>0.0</td>\n",
       "      <td>1.0</td>\n",
       "      <td>235.1</td>\n",
       "      <td>479.9</td>\n",
       "      <td>728.4</td>\n",
       "    </tr>\n",
       "    <tr>\n",
       "      <th>2</th>\n",
       "      <td>Andaman &amp; Nicobar1 I9sl0a4nds</td>\n",
       "      <td>9.4</td>\n",
       "      <td>14.7</td>\n",
       "      <td>0.0</td>\n",
       "      <td>202.4</td>\n",
       "      <td>304.5</td>\n",
       "      <td>495.1</td>\n",
       "      <td>502.0</td>\n",
       "    </tr>\n",
       "    <tr>\n",
       "      <th>3</th>\n",
       "      <td>Andaman &amp; Nicobar1 I9sl0a5nds</td>\n",
       "      <td>1.3</td>\n",
       "      <td>0.0</td>\n",
       "      <td>3.3</td>\n",
       "      <td>26.9</td>\n",
       "      <td>279.5</td>\n",
       "      <td>628.7</td>\n",
       "      <td>368.7</td>\n",
       "    </tr>\n",
       "    <tr>\n",
       "      <th>4</th>\n",
       "      <td>Andaman &amp; Nicobar1 I9sl0a6nds</td>\n",
       "      <td>36.6</td>\n",
       "      <td>0.0</td>\n",
       "      <td>0.0</td>\n",
       "      <td>0.0</td>\n",
       "      <td>556.1</td>\n",
       "      <td>733.3</td>\n",
       "      <td>247.7</td>\n",
       "    </tr>\n",
       "    <tr>\n",
       "      <th>5</th>\n",
       "      <td>Andaman &amp; Nicobar1 I9sl0a7nds</td>\n",
       "      <td>110.7</td>\n",
       "      <td>0.0</td>\n",
       "      <td>113.3</td>\n",
       "      <td>21.6</td>\n",
       "      <td>616.3</td>\n",
       "      <td>305.2</td>\n",
       "      <td>443.9</td>\n",
       "    </tr>\n",
       "    <tr>\n",
       "      <th>6</th>\n",
       "      <td>Andaman &amp; Nicobar1 I9sl0a8nds</td>\n",
       "      <td>20.9</td>\n",
       "      <td>85.1</td>\n",
       "      <td>0.0</td>\n",
       "      <td>29.0</td>\n",
       "      <td>562.0</td>\n",
       "      <td>693.6</td>\n",
       "      <td>481.4</td>\n",
       "    </tr>\n",
       "    <tr>\n",
       "      <th>7</th>\n",
       "      <td>Andaman &amp; Nicobar1 I9sl1a0nds</td>\n",
       "      <td>26.6</td>\n",
       "      <td>22.7</td>\n",
       "      <td>206.3</td>\n",
       "      <td>89.3</td>\n",
       "      <td>224.5</td>\n",
       "      <td>472.7</td>\n",
       "      <td>264.3</td>\n",
       "    </tr>\n",
       "    <tr>\n",
       "      <th>8</th>\n",
       "      <td>Andaman &amp; Nicobar1 I9sl1a1nds</td>\n",
       "      <td>0.0</td>\n",
       "      <td>8.4</td>\n",
       "      <td>0.0</td>\n",
       "      <td>122.5</td>\n",
       "      <td>327.3</td>\n",
       "      <td>649.0</td>\n",
       "      <td>253.0</td>\n",
       "    </tr>\n",
       "  </tbody>\n",
       "</table>\n",
       "</div>"
      ],
      "text/plain": [
       "   Andaman & Nicobar1 I9sl0a1nds   49.2   87.1   29.2    2.3  528.8  517.5  \\\n",
       "0  Andaman & Nicobar1 I9sl0a2nds    0.0  159.8   12.2    0.0  446.1  537.1   \n",
       "1  Andaman & Nicobar1 I9sl0a3nds   12.7  144.0    0.0    1.0  235.1  479.9   \n",
       "2  Andaman & Nicobar1 I9sl0a4nds    9.4   14.7    0.0  202.4  304.5  495.1   \n",
       "3  Andaman & Nicobar1 I9sl0a5nds    1.3    0.0    3.3   26.9  279.5  628.7   \n",
       "4  Andaman & Nicobar1 I9sl0a6nds   36.6    0.0    0.0    0.0  556.1  733.3   \n",
       "5  Andaman & Nicobar1 I9sl0a7nds  110.7    0.0  113.3   21.6  616.3  305.2   \n",
       "6  Andaman & Nicobar1 I9sl0a8nds   20.9   85.1    0.0   29.0  562.0  693.6   \n",
       "7  Andaman & Nicobar1 I9sl1a0nds   26.6   22.7  206.3   89.3  224.5  472.7   \n",
       "8  Andaman & Nicobar1 I9sl1a1nds    0.0    8.4    0.0  122.5  327.3  649.0   \n",
       "\n",
       "   365.1  \n",
       "0  228.9  \n",
       "1  728.4  \n",
       "2  502.0  \n",
       "3  368.7  \n",
       "4  247.7  \n",
       "5  443.9  \n",
       "6  481.4  \n",
       "7  264.3  \n",
       "8  253.0  "
      ]
     },
     "execution_count": 87,
     "metadata": {},
     "output_type": "execute_result"
    }
   ],
   "source": [
    "df[0]"
   ]
  },
  {
   "cell_type": "code",
   "execution_count": 90,
   "metadata": {},
   "outputs": [
    {
     "data": {
      "text/html": [
       "<div>\n",
       "<style scoped>\n",
       "    .dataframe tbody tr th:only-of-type {\n",
       "        vertical-align: middle;\n",
       "    }\n",
       "\n",
       "    .dataframe tbody tr th {\n",
       "        vertical-align: top;\n",
       "    }\n",
       "\n",
       "    .dataframe thead th {\n",
       "        text-align: right;\n",
       "    }\n",
       "</style>\n",
       "<table border=\"1\" class=\"dataframe\">\n",
       "  <thead>\n",
       "    <tr style=\"text-align: right;\">\n",
       "      <th></th>\n",
       "      <th>22-06-2023</th>\n",
       "      <th>31</th>\n",
       "      <th>24</th>\n",
       "      <th>Thundery showers and a gentle breeze</th>\n",
       "    </tr>\n",
       "  </thead>\n",
       "  <tbody>\n",
       "    <tr>\n",
       "      <th>0</th>\n",
       "      <td>22-06-2024</td>\n",
       "      <td>31</td>\n",
       "      <td>26</td>\n",
       "      <td>Light cloud and a gentle breeze</td>\n",
       "    </tr>\n",
       "    <tr>\n",
       "      <th>1</th>\n",
       "      <td>22-06-2025</td>\n",
       "      <td>31</td>\n",
       "      <td>26</td>\n",
       "      <td>Light cloud and a gentle breeze</td>\n",
       "    </tr>\n",
       "    <tr>\n",
       "      <th>2</th>\n",
       "      <td>22-06-2026</td>\n",
       "      <td>30</td>\n",
       "      <td>26</td>\n",
       "      <td>Light rain showers and a gentle breeze</td>\n",
       "    </tr>\n",
       "    <tr>\n",
       "      <th>3</th>\n",
       "      <td>22-06-2027</td>\n",
       "      <td>30</td>\n",
       "      <td>27</td>\n",
       "      <td>Thundery showers and a gentle breeze</td>\n",
       "    </tr>\n",
       "    <tr>\n",
       "      <th>4</th>\n",
       "      <td>22-06-2028</td>\n",
       "      <td>30</td>\n",
       "      <td>26</td>\n",
       "      <td>Thundery showers and a moderate breeze</td>\n",
       "    </tr>\n",
       "    <tr>\n",
       "      <th>5</th>\n",
       "      <td>22-06-2029</td>\n",
       "      <td>29</td>\n",
       "      <td>26</td>\n",
       "      <td>Thundery showers and a moderate breeze</td>\n",
       "    </tr>\n",
       "  </tbody>\n",
       "</table>\n",
       "</div>"
      ],
      "text/plain": [
       "   22-06-2023  31  24    Thundery showers and a gentle breeze\n",
       "0  22-06-2024  31  26         Light cloud and a gentle breeze\n",
       "1  22-06-2025  31  26         Light cloud and a gentle breeze\n",
       "2  22-06-2026  30  26  Light rain showers and a gentle breeze\n",
       "3  22-06-2027  30  27    Thundery showers and a gentle breeze\n",
       "4  22-06-2028  30  26  Thundery showers and a moderate breeze\n",
       "5  22-06-2029  29  26  Thundery showers and a moderate breeze"
      ]
     },
     "execution_count": 90,
     "metadata": {},
     "output_type": "execute_result"
    }
   ],
   "source": [
    "df[1]"
   ]
  },
  {
   "cell_type": "code",
   "execution_count": 91,
   "metadata": {},
   "outputs": [
    {
     "data": {
      "text/html": [
       "<div>\n",
       "<style scoped>\n",
       "    .dataframe tbody tr th:only-of-type {\n",
       "        vertical-align: middle;\n",
       "    }\n",
       "\n",
       "    .dataframe tbody tr th {\n",
       "        vertical-align: top;\n",
       "    }\n",
       "\n",
       "    .dataframe thead th {\n",
       "        text-align: right;\n",
       "    }\n",
       "</style>\n",
       "<table border=\"1\" class=\"dataframe\">\n",
       "  <thead>\n",
       "    <tr style=\"text-align: right;\">\n",
       "      <th></th>\n",
       "      <th>481.1</th>\n",
       "      <th>332.6</th>\n",
       "      <th>388.5</th>\n",
       "      <th>558.2</th>\n",
       "      <th>33.6</th>\n",
       "    </tr>\n",
       "  </thead>\n",
       "  <tbody>\n",
       "    <tr>\n",
       "      <th>0</th>\n",
       "      <td>753.7</td>\n",
       "      <td>666.2</td>\n",
       "      <td>197.2</td>\n",
       "      <td>359.0</td>\n",
       "      <td>160.5</td>\n",
       "    </tr>\n",
       "    <tr>\n",
       "      <th>1</th>\n",
       "      <td>326.7</td>\n",
       "      <td>339.0</td>\n",
       "      <td>181.2</td>\n",
       "      <td>284.4</td>\n",
       "      <td>225.0</td>\n",
       "    </tr>\n",
       "    <tr>\n",
       "      <th>2</th>\n",
       "      <td>160.1</td>\n",
       "      <td>820.4</td>\n",
       "      <td>222.2</td>\n",
       "      <td>308.7</td>\n",
       "      <td>40.1</td>\n",
       "    </tr>\n",
       "    <tr>\n",
       "      <th>3</th>\n",
       "      <td>330.5</td>\n",
       "      <td>297.0</td>\n",
       "      <td>260.7</td>\n",
       "      <td>25.4</td>\n",
       "      <td>344.7</td>\n",
       "    </tr>\n",
       "    <tr>\n",
       "      <th>4</th>\n",
       "      <td>320.5</td>\n",
       "      <td>164.3</td>\n",
       "      <td>267.8</td>\n",
       "      <td>128.9</td>\n",
       "      <td>79.2</td>\n",
       "    </tr>\n",
       "    <tr>\n",
       "      <th>5</th>\n",
       "      <td>377.6</td>\n",
       "      <td>200.4</td>\n",
       "      <td>264.4</td>\n",
       "      <td>648.9</td>\n",
       "      <td>245.6</td>\n",
       "    </tr>\n",
       "    <tr>\n",
       "      <th>6</th>\n",
       "      <td>699.9</td>\n",
       "      <td>428.8</td>\n",
       "      <td>170.7</td>\n",
       "      <td>208.1</td>\n",
       "      <td>196.9</td>\n",
       "    </tr>\n",
       "    <tr>\n",
       "      <th>7</th>\n",
       "      <td>337.4</td>\n",
       "      <td>626.6</td>\n",
       "      <td>208.2</td>\n",
       "      <td>267.3</td>\n",
       "      <td>153.5</td>\n",
       "    </tr>\n",
       "    <tr>\n",
       "      <th>8</th>\n",
       "      <td>187.1</td>\n",
       "      <td>464.5</td>\n",
       "      <td>333.8</td>\n",
       "      <td>94.5</td>\n",
       "      <td>247.1</td>\n",
       "    </tr>\n",
       "  </tbody>\n",
       "</table>\n",
       "</div>"
      ],
      "text/plain": [
       "   481.1  332.6  388.5  558.2   33.6\n",
       "0  753.7  666.2  197.2  359.0  160.5\n",
       "1  326.7  339.0  181.2  284.4  225.0\n",
       "2  160.1  820.4  222.2  308.7   40.1\n",
       "3  330.5  297.0  260.7   25.4  344.7\n",
       "4  320.5  164.3  267.8  128.9   79.2\n",
       "5  377.6  200.4  264.4  648.9  245.6\n",
       "6  699.9  428.8  170.7  208.1  196.9\n",
       "7  337.4  626.6  208.2  267.3  153.5\n",
       "8  187.1  464.5  333.8   94.5  247.1"
      ]
     },
     "execution_count": 91,
     "metadata": {},
     "output_type": "execute_result"
    }
   ],
   "source": [
    "df[2]"
   ]
  },
  {
   "cell_type": "code",
   "execution_count": 101,
   "metadata": {},
   "outputs": [
    {
     "data": {
      "text/plain": [
       "3"
      ]
     },
     "execution_count": 101,
     "metadata": {},
     "output_type": "execute_result"
    }
   ],
   "source": [
    "len(df)"
   ]
  },
  {
   "cell_type": "markdown",
   "metadata": {},
   "source": [
    "# END"
   ]
  }
 ],
 "metadata": {
  "kernelspec": {
   "display_name": "Python 3",
   "language": "python",
   "name": "python3"
  },
  "language_info": {
   "codemirror_mode": {
    "name": "ipython",
    "version": 3
   },
   "file_extension": ".py",
   "mimetype": "text/x-python",
   "name": "python",
   "nbconvert_exporter": "python",
   "pygments_lexer": "ipython3",
   "version": "3.8.3"
  }
 },
 "nbformat": 4,
 "nbformat_minor": 4
}
